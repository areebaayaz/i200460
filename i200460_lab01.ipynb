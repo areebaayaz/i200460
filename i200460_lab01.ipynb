{
 "cells": [
  {
   "cell_type": "code",
   "execution_count": 56,
   "id": "3549f698",
   "metadata": {},
   "outputs": [],
   "source": [
    "import numpy as np\n",
    "import pandas as pd"
   ]
  },
  {
   "cell_type": "code",
   "execution_count": 57,
   "id": "617698ac",
   "metadata": {},
   "outputs": [
    {
     "name": "stderr",
     "output_type": "stream",
     "text": [
      "<ipython-input-57-12d3d5975bd4>:1: ParserWarning: Falling back to the 'python' engine because the 'c' engine does not support regex separators (separators > 1 char and different from '\\s+' are interpreted as regex); you can avoid this warning by specifying engine='python'.\n",
      "  ecg = pd.read_csv('ECG200_TRAIN.csv' , delimiter = '  ',header =None)\n"
     ]
    }
   ],
   "source": [
    "ecg = pd.read_csv('ECG200_TRAIN.csv' , delimiter = '  ',header =None)"
   ]
  },
  {
   "cell_type": "code",
   "execution_count": 58,
   "id": "03ad44d6",
   "metadata": {
    "scrolled": true
   },
   "outputs": [
    {
     "data": {
      "text/html": [
       "<div>\n",
       "<style scoped>\n",
       "    .dataframe tbody tr th:only-of-type {\n",
       "        vertical-align: middle;\n",
       "    }\n",
       "\n",
       "    .dataframe tbody tr th {\n",
       "        vertical-align: top;\n",
       "    }\n",
       "\n",
       "    .dataframe thead th {\n",
       "        text-align: right;\n",
       "    }\n",
       "</style>\n",
       "<table border=\"1\" class=\"dataframe\">\n",
       "  <thead>\n",
       "    <tr style=\"text-align: right;\">\n",
       "      <th></th>\n",
       "      <th>0</th>\n",
       "      <th>1</th>\n",
       "      <th>2</th>\n",
       "      <th>3</th>\n",
       "      <th>4</th>\n",
       "      <th>5</th>\n",
       "      <th>6</th>\n",
       "      <th>7</th>\n",
       "      <th>8</th>\n",
       "      <th>9</th>\n",
       "      <th>...</th>\n",
       "      <th>87</th>\n",
       "      <th>88</th>\n",
       "      <th>89</th>\n",
       "      <th>90</th>\n",
       "      <th>91</th>\n",
       "      <th>92</th>\n",
       "      <th>93</th>\n",
       "      <th>94</th>\n",
       "      <th>95</th>\n",
       "      <th>96</th>\n",
       "    </tr>\n",
       "  </thead>\n",
       "  <tbody>\n",
       "    <tr>\n",
       "      <th>0</th>\n",
       "      <td>-1.0</td>\n",
       "      <td>0.502055</td>\n",
       "      <td>0.542163</td>\n",
       "      <td>0.722383</td>\n",
       "      <td>1.428885</td>\n",
       "      <td>2.136516</td>\n",
       "      <td>2.281149</td>\n",
       "      <td>1.936274</td>\n",
       "      <td>1.468890</td>\n",
       "      <td>1.008845</td>\n",
       "      <td>...</td>\n",
       "      <td>0.931043</td>\n",
       "      <td>0.610298</td>\n",
       "      <td>0.638894</td>\n",
       "      <td>0.684679</td>\n",
       "      <td>0.583238</td>\n",
       "      <td>0.640522</td>\n",
       "      <td>0.708585</td>\n",
       "      <td>0.705011</td>\n",
       "      <td>0.713815</td>\n",
       "      <td>0.433765</td>\n",
       "    </tr>\n",
       "    <tr>\n",
       "      <th>1</th>\n",
       "      <td>1.0</td>\n",
       "      <td>0.147647</td>\n",
       "      <td>0.804668</td>\n",
       "      <td>0.367771</td>\n",
       "      <td>0.243894</td>\n",
       "      <td>0.026614</td>\n",
       "      <td>-0.274402</td>\n",
       "      <td>0.096731</td>\n",
       "      <td>-0.747731</td>\n",
       "      <td>-1.609777</td>\n",
       "      <td>...</td>\n",
       "      <td>-0.533503</td>\n",
       "      <td>-0.400228</td>\n",
       "      <td>0.176084</td>\n",
       "      <td>1.111768</td>\n",
       "      <td>2.438428</td>\n",
       "      <td>2.734889</td>\n",
       "      <td>1.736054</td>\n",
       "      <td>0.036857</td>\n",
       "      <td>-1.265074</td>\n",
       "      <td>-0.208024</td>\n",
       "    </tr>\n",
       "    <tr>\n",
       "      <th>2</th>\n",
       "      <td>-1.0</td>\n",
       "      <td>0.316646</td>\n",
       "      <td>0.243199</td>\n",
       "      <td>0.370471</td>\n",
       "      <td>1.063738</td>\n",
       "      <td>1.678187</td>\n",
       "      <td>1.759558</td>\n",
       "      <td>1.697717</td>\n",
       "      <td>1.612159</td>\n",
       "      <td>1.168188</td>\n",
       "      <td>...</td>\n",
       "      <td>0.764229</td>\n",
       "      <td>0.610621</td>\n",
       "      <td>0.552900</td>\n",
       "      <td>0.566786</td>\n",
       "      <td>0.604002</td>\n",
       "      <td>0.777068</td>\n",
       "      <td>0.812345</td>\n",
       "      <td>0.748848</td>\n",
       "      <td>0.818042</td>\n",
       "      <td>0.539347</td>\n",
       "    </tr>\n",
       "    <tr>\n",
       "      <th>3</th>\n",
       "      <td>-1.0</td>\n",
       "      <td>1.168874</td>\n",
       "      <td>2.075901</td>\n",
       "      <td>1.760141</td>\n",
       "      <td>1.606446</td>\n",
       "      <td>1.949046</td>\n",
       "      <td>1.302842</td>\n",
       "      <td>0.459332</td>\n",
       "      <td>0.516412</td>\n",
       "      <td>0.852180</td>\n",
       "      <td>...</td>\n",
       "      <td>0.419006</td>\n",
       "      <td>0.723888</td>\n",
       "      <td>1.323947</td>\n",
       "      <td>2.136488</td>\n",
       "      <td>1.746597</td>\n",
       "      <td>1.470220</td>\n",
       "      <td>1.893512</td>\n",
       "      <td>1.256949</td>\n",
       "      <td>0.800407</td>\n",
       "      <td>0.731540</td>\n",
       "    </tr>\n",
       "    <tr>\n",
       "      <th>4</th>\n",
       "      <td>1.0</td>\n",
       "      <td>0.648658</td>\n",
       "      <td>0.752026</td>\n",
       "      <td>2.636231</td>\n",
       "      <td>3.455716</td>\n",
       "      <td>2.118157</td>\n",
       "      <td>0.520620</td>\n",
       "      <td>-0.188627</td>\n",
       "      <td>0.780818</td>\n",
       "      <td>0.933775</td>\n",
       "      <td>...</td>\n",
       "      <td>-0.097869</td>\n",
       "      <td>-0.136787</td>\n",
       "      <td>-0.340237</td>\n",
       "      <td>-0.089441</td>\n",
       "      <td>-0.080297</td>\n",
       "      <td>-0.192584</td>\n",
       "      <td>-0.304704</td>\n",
       "      <td>-0.454556</td>\n",
       "      <td>0.314590</td>\n",
       "      <td>0.582190</td>\n",
       "    </tr>\n",
       "    <tr>\n",
       "      <th>...</th>\n",
       "      <td>...</td>\n",
       "      <td>...</td>\n",
       "      <td>...</td>\n",
       "      <td>...</td>\n",
       "      <td>...</td>\n",
       "      <td>...</td>\n",
       "      <td>...</td>\n",
       "      <td>...</td>\n",
       "      <td>...</td>\n",
       "      <td>...</td>\n",
       "      <td>...</td>\n",
       "      <td>...</td>\n",
       "      <td>...</td>\n",
       "      <td>...</td>\n",
       "      <td>...</td>\n",
       "      <td>...</td>\n",
       "      <td>...</td>\n",
       "      <td>...</td>\n",
       "      <td>...</td>\n",
       "      <td>...</td>\n",
       "      <td>...</td>\n",
       "    </tr>\n",
       "    <tr>\n",
       "      <th>95</th>\n",
       "      <td>1.0</td>\n",
       "      <td>0.581277</td>\n",
       "      <td>0.876188</td>\n",
       "      <td>1.042767</td>\n",
       "      <td>1.796120</td>\n",
       "      <td>2.541399</td>\n",
       "      <td>2.246653</td>\n",
       "      <td>1.500387</td>\n",
       "      <td>1.031521</td>\n",
       "      <td>0.382672</td>\n",
       "      <td>...</td>\n",
       "      <td>1.002770</td>\n",
       "      <td>0.907869</td>\n",
       "      <td>0.916457</td>\n",
       "      <td>0.923975</td>\n",
       "      <td>0.767357</td>\n",
       "      <td>0.656223</td>\n",
       "      <td>0.762357</td>\n",
       "      <td>0.501373</td>\n",
       "      <td>-0.333336</td>\n",
       "      <td>-0.524546</td>\n",
       "    </tr>\n",
       "    <tr>\n",
       "      <th>96</th>\n",
       "      <td>-1.0</td>\n",
       "      <td>2.689017</td>\n",
       "      <td>2.708703</td>\n",
       "      <td>2.008381</td>\n",
       "      <td>2.235800</td>\n",
       "      <td>1.516982</td>\n",
       "      <td>0.029916</td>\n",
       "      <td>-0.561346</td>\n",
       "      <td>-0.793702</td>\n",
       "      <td>-0.979371</td>\n",
       "      <td>...</td>\n",
       "      <td>-0.136610</td>\n",
       "      <td>-0.072176</td>\n",
       "      <td>-0.082738</td>\n",
       "      <td>-0.138468</td>\n",
       "      <td>-0.120396</td>\n",
       "      <td>-0.089411</td>\n",
       "      <td>-0.243141</td>\n",
       "      <td>-0.119710</td>\n",
       "      <td>0.124042</td>\n",
       "      <td>0.273463</td>\n",
       "    </tr>\n",
       "    <tr>\n",
       "      <th>97</th>\n",
       "      <td>-1.0</td>\n",
       "      <td>0.197677</td>\n",
       "      <td>0.455417</td>\n",
       "      <td>0.973110</td>\n",
       "      <td>1.935956</td>\n",
       "      <td>2.259463</td>\n",
       "      <td>1.741341</td>\n",
       "      <td>1.158296</td>\n",
       "      <td>0.418241</td>\n",
       "      <td>-0.071605</td>\n",
       "      <td>...</td>\n",
       "      <td>0.482452</td>\n",
       "      <td>0.325569</td>\n",
       "      <td>0.247991</td>\n",
       "      <td>0.184127</td>\n",
       "      <td>0.050358</td>\n",
       "      <td>0.241988</td>\n",
       "      <td>0.331451</td>\n",
       "      <td>-0.120006</td>\n",
       "      <td>0.042423</td>\n",
       "      <td>0.343293</td>\n",
       "    </tr>\n",
       "    <tr>\n",
       "      <th>98</th>\n",
       "      <td>1.0</td>\n",
       "      <td>0.179500</td>\n",
       "      <td>1.038409</td>\n",
       "      <td>1.946421</td>\n",
       "      <td>2.705141</td>\n",
       "      <td>1.670706</td>\n",
       "      <td>-0.101167</td>\n",
       "      <td>-1.578876</td>\n",
       "      <td>-0.750906</td>\n",
       "      <td>0.175310</td>\n",
       "      <td>...</td>\n",
       "      <td>0.324323</td>\n",
       "      <td>0.330489</td>\n",
       "      <td>0.111953</td>\n",
       "      <td>0.448948</td>\n",
       "      <td>0.567132</td>\n",
       "      <td>0.136757</td>\n",
       "      <td>0.444768</td>\n",
       "      <td>0.151050</td>\n",
       "      <td>0.193378</td>\n",
       "      <td>0.451709</td>\n",
       "    </tr>\n",
       "    <tr>\n",
       "      <th>99</th>\n",
       "      <td>1.0</td>\n",
       "      <td>0.073124</td>\n",
       "      <td>0.776054</td>\n",
       "      <td>2.181336</td>\n",
       "      <td>3.440325</td>\n",
       "      <td>2.168475</td>\n",
       "      <td>0.497315</td>\n",
       "      <td>-0.924284</td>\n",
       "      <td>-1.499227</td>\n",
       "      <td>-0.679328</td>\n",
       "      <td>...</td>\n",
       "      <td>-0.058935</td>\n",
       "      <td>-0.130638</td>\n",
       "      <td>-0.347235</td>\n",
       "      <td>-0.177933</td>\n",
       "      <td>-0.060332</td>\n",
       "      <td>-0.347634</td>\n",
       "      <td>-0.447443</td>\n",
       "      <td>-0.066689</td>\n",
       "      <td>-0.178448</td>\n",
       "      <td>-0.256052</td>\n",
       "    </tr>\n",
       "  </tbody>\n",
       "</table>\n",
       "<p>100 rows × 97 columns</p>\n",
       "</div>"
      ],
      "text/plain": [
       "     0         1         2         3         4         5         6         7   \\\n",
       "0  -1.0  0.502055  0.542163  0.722383  1.428885  2.136516  2.281149  1.936274   \n",
       "1   1.0  0.147647  0.804668  0.367771  0.243894  0.026614 -0.274402  0.096731   \n",
       "2  -1.0  0.316646  0.243199  0.370471  1.063738  1.678187  1.759558  1.697717   \n",
       "3  -1.0  1.168874  2.075901  1.760141  1.606446  1.949046  1.302842  0.459332   \n",
       "4   1.0  0.648658  0.752026  2.636231  3.455716  2.118157  0.520620 -0.188627   \n",
       "..  ...       ...       ...       ...       ...       ...       ...       ...   \n",
       "95  1.0  0.581277  0.876188  1.042767  1.796120  2.541399  2.246653  1.500387   \n",
       "96 -1.0  2.689017  2.708703  2.008381  2.235800  1.516982  0.029916 -0.561346   \n",
       "97 -1.0  0.197677  0.455417  0.973110  1.935956  2.259463  1.741341  1.158296   \n",
       "98  1.0  0.179500  1.038409  1.946421  2.705141  1.670706 -0.101167 -1.578876   \n",
       "99  1.0  0.073124  0.776054  2.181336  3.440325  2.168475  0.497315 -0.924284   \n",
       "\n",
       "          8         9   ...        87        88        89        90        91  \\\n",
       "0   1.468890  1.008845  ...  0.931043  0.610298  0.638894  0.684679  0.583238   \n",
       "1  -0.747731 -1.609777  ... -0.533503 -0.400228  0.176084  1.111768  2.438428   \n",
       "2   1.612159  1.168188  ...  0.764229  0.610621  0.552900  0.566786  0.604002   \n",
       "3   0.516412  0.852180  ...  0.419006  0.723888  1.323947  2.136488  1.746597   \n",
       "4   0.780818  0.933775  ... -0.097869 -0.136787 -0.340237 -0.089441 -0.080297   \n",
       "..       ...       ...  ...       ...       ...       ...       ...       ...   \n",
       "95  1.031521  0.382672  ...  1.002770  0.907869  0.916457  0.923975  0.767357   \n",
       "96 -0.793702 -0.979371  ... -0.136610 -0.072176 -0.082738 -0.138468 -0.120396   \n",
       "97  0.418241 -0.071605  ...  0.482452  0.325569  0.247991  0.184127  0.050358   \n",
       "98 -0.750906  0.175310  ...  0.324323  0.330489  0.111953  0.448948  0.567132   \n",
       "99 -1.499227 -0.679328  ... -0.058935 -0.130638 -0.347235 -0.177933 -0.060332   \n",
       "\n",
       "          92        93        94        95        96  \n",
       "0   0.640522  0.708585  0.705011  0.713815  0.433765  \n",
       "1   2.734889  1.736054  0.036857 -1.265074 -0.208024  \n",
       "2   0.777068  0.812345  0.748848  0.818042  0.539347  \n",
       "3   1.470220  1.893512  1.256949  0.800407  0.731540  \n",
       "4  -0.192584 -0.304704 -0.454556  0.314590  0.582190  \n",
       "..       ...       ...       ...       ...       ...  \n",
       "95  0.656223  0.762357  0.501373 -0.333336 -0.524546  \n",
       "96 -0.089411 -0.243141 -0.119710  0.124042  0.273463  \n",
       "97  0.241988  0.331451 -0.120006  0.042423  0.343293  \n",
       "98  0.136757  0.444768  0.151050  0.193378  0.451709  \n",
       "99 -0.347634 -0.447443 -0.066689 -0.178448 -0.256052  \n",
       "\n",
       "[100 rows x 97 columns]"
      ]
     },
     "execution_count": 58,
     "metadata": {},
     "output_type": "execute_result"
    }
   ],
   "source": [
    "ecg"
   ]
  },
  {
   "cell_type": "code",
   "execution_count": null,
   "id": "c6ef223b",
   "metadata": {},
   "outputs": [],
   "source": []
  },
  {
   "cell_type": "code",
   "execution_count": 93,
   "id": "70758f99",
   "metadata": {},
   "outputs": [
    {
     "data": {
      "text/plain": [
       "['feature 0',\n",
       " 'feature 1',\n",
       " 'feature 2',\n",
       " 'feature 3',\n",
       " 'feature 4',\n",
       " 'feature 5',\n",
       " 'feature 6',\n",
       " 'feature 7',\n",
       " 'feature 8',\n",
       " 'feature 9',\n",
       " 'feature 10',\n",
       " 'feature 11',\n",
       " 'feature 12',\n",
       " 'feature 13',\n",
       " 'feature 14',\n",
       " 'feature 15',\n",
       " 'feature 16',\n",
       " 'feature 17',\n",
       " 'feature 18',\n",
       " 'feature 19',\n",
       " 'feature 20',\n",
       " 'feature 21',\n",
       " 'feature 22',\n",
       " 'feature 23',\n",
       " 'feature 24',\n",
       " 'feature 25',\n",
       " 'feature 26',\n",
       " 'feature 27',\n",
       " 'feature 28',\n",
       " 'feature 29',\n",
       " 'feature 30',\n",
       " 'feature 31',\n",
       " 'feature 32',\n",
       " 'feature 33',\n",
       " 'feature 34',\n",
       " 'feature 35',\n",
       " 'feature 36',\n",
       " 'feature 37',\n",
       " 'feature 38',\n",
       " 'feature 39',\n",
       " 'feature 40',\n",
       " 'feature 41',\n",
       " 'feature 42',\n",
       " 'feature 43',\n",
       " 'feature 44',\n",
       " 'feature 45',\n",
       " 'feature 46',\n",
       " 'feature 47',\n",
       " 'feature 48',\n",
       " 'feature 49',\n",
       " 'feature 50',\n",
       " 'feature 51',\n",
       " 'feature 52',\n",
       " 'feature 53',\n",
       " 'feature 54',\n",
       " 'feature 55',\n",
       " 'feature 56',\n",
       " 'feature 57',\n",
       " 'feature 58',\n",
       " 'feature 59',\n",
       " 'feature 60',\n",
       " 'feature 61',\n",
       " 'feature 62',\n",
       " 'feature 63',\n",
       " 'feature 64',\n",
       " 'feature 65',\n",
       " 'feature 66',\n",
       " 'feature 67',\n",
       " 'feature 68',\n",
       " 'feature 69',\n",
       " 'feature 70',\n",
       " 'feature 71',\n",
       " 'feature 72',\n",
       " 'feature 73',\n",
       " 'feature 74',\n",
       " 'feature 75',\n",
       " 'feature 76',\n",
       " 'feature 77',\n",
       " 'feature 78',\n",
       " 'feature 79',\n",
       " 'feature 80',\n",
       " 'feature 81',\n",
       " 'feature 82',\n",
       " 'feature 83',\n",
       " 'feature 84',\n",
       " 'feature 85',\n",
       " 'feature 86',\n",
       " 'feature 87',\n",
       " 'feature 88',\n",
       " 'feature 89',\n",
       " 'feature 90',\n",
       " 'feature 91',\n",
       " 'feature 92',\n",
       " 'feature 93',\n",
       " 'feature 94',\n",
       " 'feature 95',\n",
       " 'feature 96']"
      ]
     },
     "execution_count": 93,
     "metadata": {},
     "output_type": "execute_result"
    }
   ],
   "source": [
    "labels=['feature '+str(x) for x in range(ecg.shape[1])]\n",
    "labels"
   ]
  },
  {
   "cell_type": "code",
   "execution_count": 60,
   "id": "7ab49950",
   "metadata": {},
   "outputs": [],
   "source": [
    "labels[0]='class'"
   ]
  },
  {
   "cell_type": "code",
   "execution_count": 61,
   "id": "23ee8105",
   "metadata": {
    "scrolled": true
   },
   "outputs": [
    {
     "data": {
      "text/plain": [
       "['class',\n",
       " 'feature 1',\n",
       " 'feature 2',\n",
       " 'feature 3',\n",
       " 'feature 4',\n",
       " 'feature 5',\n",
       " 'feature 6',\n",
       " 'feature 7',\n",
       " 'feature 8',\n",
       " 'feature 9',\n",
       " 'feature 10',\n",
       " 'feature 11',\n",
       " 'feature 12',\n",
       " 'feature 13',\n",
       " 'feature 14',\n",
       " 'feature 15',\n",
       " 'feature 16',\n",
       " 'feature 17',\n",
       " 'feature 18',\n",
       " 'feature 19',\n",
       " 'feature 20',\n",
       " 'feature 21',\n",
       " 'feature 22',\n",
       " 'feature 23',\n",
       " 'feature 24',\n",
       " 'feature 25',\n",
       " 'feature 26',\n",
       " 'feature 27',\n",
       " 'feature 28',\n",
       " 'feature 29',\n",
       " 'feature 30',\n",
       " 'feature 31',\n",
       " 'feature 32',\n",
       " 'feature 33',\n",
       " 'feature 34',\n",
       " 'feature 35',\n",
       " 'feature 36',\n",
       " 'feature 37',\n",
       " 'feature 38',\n",
       " 'feature 39',\n",
       " 'feature 40',\n",
       " 'feature 41',\n",
       " 'feature 42',\n",
       " 'feature 43',\n",
       " 'feature 44',\n",
       " 'feature 45',\n",
       " 'feature 46',\n",
       " 'feature 47',\n",
       " 'feature 48',\n",
       " 'feature 49',\n",
       " 'feature 50',\n",
       " 'feature 51',\n",
       " 'feature 52',\n",
       " 'feature 53',\n",
       " 'feature 54',\n",
       " 'feature 55',\n",
       " 'feature 56',\n",
       " 'feature 57',\n",
       " 'feature 58',\n",
       " 'feature 59',\n",
       " 'feature 60',\n",
       " 'feature 61',\n",
       " 'feature 62',\n",
       " 'feature 63',\n",
       " 'feature 64',\n",
       " 'feature 65',\n",
       " 'feature 66',\n",
       " 'feature 67',\n",
       " 'feature 68',\n",
       " 'feature 69',\n",
       " 'feature 70',\n",
       " 'feature 71',\n",
       " 'feature 72',\n",
       " 'feature 73',\n",
       " 'feature 74',\n",
       " 'feature 75',\n",
       " 'feature 76',\n",
       " 'feature 77',\n",
       " 'feature 78',\n",
       " 'feature 79',\n",
       " 'feature 80',\n",
       " 'feature 81',\n",
       " 'feature 82',\n",
       " 'feature 83',\n",
       " 'feature 84',\n",
       " 'feature 85',\n",
       " 'feature 86',\n",
       " 'feature 87',\n",
       " 'feature 88',\n",
       " 'feature 89',\n",
       " 'feature 90',\n",
       " 'feature 91',\n",
       " 'feature 92',\n",
       " 'feature 93',\n",
       " 'feature 94',\n",
       " 'feature 95',\n",
       " 'feature 96']"
      ]
     },
     "execution_count": 61,
     "metadata": {},
     "output_type": "execute_result"
    }
   ],
   "source": [
    "labels"
   ]
  },
  {
   "cell_type": "code",
   "execution_count": 62,
   "id": "b4479413",
   "metadata": {},
   "outputs": [],
   "source": [
    "ecg.columns = labels"
   ]
  },
  {
   "cell_type": "code",
   "execution_count": 63,
   "id": "89a900cc",
   "metadata": {},
   "outputs": [
    {
     "data": {
      "text/html": [
       "<div>\n",
       "<style scoped>\n",
       "    .dataframe tbody tr th:only-of-type {\n",
       "        vertical-align: middle;\n",
       "    }\n",
       "\n",
       "    .dataframe tbody tr th {\n",
       "        vertical-align: top;\n",
       "    }\n",
       "\n",
       "    .dataframe thead th {\n",
       "        text-align: right;\n",
       "    }\n",
       "</style>\n",
       "<table border=\"1\" class=\"dataframe\">\n",
       "  <thead>\n",
       "    <tr style=\"text-align: right;\">\n",
       "      <th></th>\n",
       "      <th>class</th>\n",
       "      <th>feature 1</th>\n",
       "      <th>feature 2</th>\n",
       "      <th>feature 3</th>\n",
       "      <th>feature 4</th>\n",
       "      <th>feature 5</th>\n",
       "      <th>feature 6</th>\n",
       "      <th>feature 7</th>\n",
       "      <th>feature 8</th>\n",
       "      <th>feature 9</th>\n",
       "      <th>...</th>\n",
       "      <th>feature 87</th>\n",
       "      <th>feature 88</th>\n",
       "      <th>feature 89</th>\n",
       "      <th>feature 90</th>\n",
       "      <th>feature 91</th>\n",
       "      <th>feature 92</th>\n",
       "      <th>feature 93</th>\n",
       "      <th>feature 94</th>\n",
       "      <th>feature 95</th>\n",
       "      <th>feature 96</th>\n",
       "    </tr>\n",
       "  </thead>\n",
       "  <tbody>\n",
       "    <tr>\n",
       "      <th>0</th>\n",
       "      <td>-1.0</td>\n",
       "      <td>0.502055</td>\n",
       "      <td>0.542163</td>\n",
       "      <td>0.722383</td>\n",
       "      <td>1.428885</td>\n",
       "      <td>2.136516</td>\n",
       "      <td>2.281149</td>\n",
       "      <td>1.936274</td>\n",
       "      <td>1.468890</td>\n",
       "      <td>1.008845</td>\n",
       "      <td>...</td>\n",
       "      <td>0.931043</td>\n",
       "      <td>0.610298</td>\n",
       "      <td>0.638894</td>\n",
       "      <td>0.684679</td>\n",
       "      <td>0.583238</td>\n",
       "      <td>0.640522</td>\n",
       "      <td>0.708585</td>\n",
       "      <td>0.705011</td>\n",
       "      <td>0.713815</td>\n",
       "      <td>0.433765</td>\n",
       "    </tr>\n",
       "    <tr>\n",
       "      <th>1</th>\n",
       "      <td>1.0</td>\n",
       "      <td>0.147647</td>\n",
       "      <td>0.804668</td>\n",
       "      <td>0.367771</td>\n",
       "      <td>0.243894</td>\n",
       "      <td>0.026614</td>\n",
       "      <td>-0.274402</td>\n",
       "      <td>0.096731</td>\n",
       "      <td>-0.747731</td>\n",
       "      <td>-1.609777</td>\n",
       "      <td>...</td>\n",
       "      <td>-0.533503</td>\n",
       "      <td>-0.400228</td>\n",
       "      <td>0.176084</td>\n",
       "      <td>1.111768</td>\n",
       "      <td>2.438428</td>\n",
       "      <td>2.734889</td>\n",
       "      <td>1.736054</td>\n",
       "      <td>0.036857</td>\n",
       "      <td>-1.265074</td>\n",
       "      <td>-0.208024</td>\n",
       "    </tr>\n",
       "    <tr>\n",
       "      <th>2</th>\n",
       "      <td>-1.0</td>\n",
       "      <td>0.316646</td>\n",
       "      <td>0.243199</td>\n",
       "      <td>0.370471</td>\n",
       "      <td>1.063738</td>\n",
       "      <td>1.678187</td>\n",
       "      <td>1.759558</td>\n",
       "      <td>1.697717</td>\n",
       "      <td>1.612159</td>\n",
       "      <td>1.168188</td>\n",
       "      <td>...</td>\n",
       "      <td>0.764229</td>\n",
       "      <td>0.610621</td>\n",
       "      <td>0.552900</td>\n",
       "      <td>0.566786</td>\n",
       "      <td>0.604002</td>\n",
       "      <td>0.777068</td>\n",
       "      <td>0.812345</td>\n",
       "      <td>0.748848</td>\n",
       "      <td>0.818042</td>\n",
       "      <td>0.539347</td>\n",
       "    </tr>\n",
       "    <tr>\n",
       "      <th>3</th>\n",
       "      <td>-1.0</td>\n",
       "      <td>1.168874</td>\n",
       "      <td>2.075901</td>\n",
       "      <td>1.760141</td>\n",
       "      <td>1.606446</td>\n",
       "      <td>1.949046</td>\n",
       "      <td>1.302842</td>\n",
       "      <td>0.459332</td>\n",
       "      <td>0.516412</td>\n",
       "      <td>0.852180</td>\n",
       "      <td>...</td>\n",
       "      <td>0.419006</td>\n",
       "      <td>0.723888</td>\n",
       "      <td>1.323947</td>\n",
       "      <td>2.136488</td>\n",
       "      <td>1.746597</td>\n",
       "      <td>1.470220</td>\n",
       "      <td>1.893512</td>\n",
       "      <td>1.256949</td>\n",
       "      <td>0.800407</td>\n",
       "      <td>0.731540</td>\n",
       "    </tr>\n",
       "    <tr>\n",
       "      <th>4</th>\n",
       "      <td>1.0</td>\n",
       "      <td>0.648658</td>\n",
       "      <td>0.752026</td>\n",
       "      <td>2.636231</td>\n",
       "      <td>3.455716</td>\n",
       "      <td>2.118157</td>\n",
       "      <td>0.520620</td>\n",
       "      <td>-0.188627</td>\n",
       "      <td>0.780818</td>\n",
       "      <td>0.933775</td>\n",
       "      <td>...</td>\n",
       "      <td>-0.097869</td>\n",
       "      <td>-0.136787</td>\n",
       "      <td>-0.340237</td>\n",
       "      <td>-0.089441</td>\n",
       "      <td>-0.080297</td>\n",
       "      <td>-0.192584</td>\n",
       "      <td>-0.304704</td>\n",
       "      <td>-0.454556</td>\n",
       "      <td>0.314590</td>\n",
       "      <td>0.582190</td>\n",
       "    </tr>\n",
       "  </tbody>\n",
       "</table>\n",
       "<p>5 rows × 97 columns</p>\n",
       "</div>"
      ],
      "text/plain": [
       "   class  feature 1  feature 2  feature 3  feature 4  feature 5  feature 6  \\\n",
       "0   -1.0   0.502055   0.542163   0.722383   1.428885   2.136516   2.281149   \n",
       "1    1.0   0.147647   0.804668   0.367771   0.243894   0.026614  -0.274402   \n",
       "2   -1.0   0.316646   0.243199   0.370471   1.063738   1.678187   1.759558   \n",
       "3   -1.0   1.168874   2.075901   1.760141   1.606446   1.949046   1.302842   \n",
       "4    1.0   0.648658   0.752026   2.636231   3.455716   2.118157   0.520620   \n",
       "\n",
       "   feature 7  feature 8  feature 9  ...  feature 87  feature 88  feature 89  \\\n",
       "0   1.936274   1.468890   1.008845  ...    0.931043    0.610298    0.638894   \n",
       "1   0.096731  -0.747731  -1.609777  ...   -0.533503   -0.400228    0.176084   \n",
       "2   1.697717   1.612159   1.168188  ...    0.764229    0.610621    0.552900   \n",
       "3   0.459332   0.516412   0.852180  ...    0.419006    0.723888    1.323947   \n",
       "4  -0.188627   0.780818   0.933775  ...   -0.097869   -0.136787   -0.340237   \n",
       "\n",
       "   feature 90  feature 91  feature 92  feature 93  feature 94  feature 95  \\\n",
       "0    0.684679    0.583238    0.640522    0.708585    0.705011    0.713815   \n",
       "1    1.111768    2.438428    2.734889    1.736054    0.036857   -1.265074   \n",
       "2    0.566786    0.604002    0.777068    0.812345    0.748848    0.818042   \n",
       "3    2.136488    1.746597    1.470220    1.893512    1.256949    0.800407   \n",
       "4   -0.089441   -0.080297   -0.192584   -0.304704   -0.454556    0.314590   \n",
       "\n",
       "   feature 96  \n",
       "0    0.433765  \n",
       "1   -0.208024  \n",
       "2    0.539347  \n",
       "3    0.731540  \n",
       "4    0.582190  \n",
       "\n",
       "[5 rows x 97 columns]"
      ]
     },
     "execution_count": 63,
     "metadata": {},
     "output_type": "execute_result"
    }
   ],
   "source": [
    "ecg.head()"
   ]
  },
  {
   "cell_type": "code",
   "execution_count": 64,
   "id": "06cd81f1",
   "metadata": {},
   "outputs": [],
   "source": [
    "labels = ecg.iloc[0:100, :1]"
   ]
  },
  {
   "cell_type": "code",
   "execution_count": 65,
   "id": "c959f2ec",
   "metadata": {},
   "outputs": [
    {
     "data": {
      "text/plain": [
       "class\n",
       " 1.0     69\n",
       "-1.0     31\n",
       "dtype: int64"
      ]
     },
     "execution_count": 65,
     "metadata": {},
     "output_type": "execute_result"
    }
   ],
   "source": [
    "labels.value_counts()"
   ]
  },
  {
   "cell_type": "code",
   "execution_count": 66,
   "id": "e247ddcd",
   "metadata": {},
   "outputs": [],
   "source": [
    "ecg1 = ecg[ecg['class'] == 1.0]\n",
    "ecg2 = ecg[ecg['class'] == -1.0]"
   ]
  },
  {
   "cell_type": "code",
   "execution_count": 67,
   "id": "8f52d143",
   "metadata": {},
   "outputs": [
    {
     "data": {
      "text/plain": [
       "(69, 97)"
      ]
     },
     "execution_count": 67,
     "metadata": {},
     "output_type": "execute_result"
    }
   ],
   "source": [
    "ecg1.shape"
   ]
  },
  {
   "cell_type": "code",
   "execution_count": 68,
   "id": "185960be",
   "metadata": {
    "scrolled": false
   },
   "outputs": [
    {
     "data": {
      "text/plain": [
       "(31, 97)"
      ]
     },
     "execution_count": 68,
     "metadata": {},
     "output_type": "execute_result"
    }
   ],
   "source": [
    "ecg2.shape"
   ]
  },
  {
   "cell_type": "code",
   "execution_count": 69,
   "id": "b85051d8",
   "metadata": {},
   "outputs": [
    {
     "name": "stdout",
     "output_type": "stream",
     "text": [
      "ans 1 : 17\n",
      "ans 2 : 7\n"
     ]
    }
   ],
   "source": [
    "rem1 = int(69/4)\n",
    "rem2 = int(31/4)\n",
    "print(\"ans 1 :\", rem1)\n",
    "print(\"ans 2 :\", rem2)"
   ]
  },
  {
   "cell_type": "code",
   "execution_count": 70,
   "id": "e99283f5",
   "metadata": {},
   "outputs": [],
   "source": [
    "df1 = pd.concat([ecg1[:rem1], ecg2[:rem2]])\n",
    "\n",
    "df2 =  pd.concat([ecg1[rem1 : 2*rem1], ecg2[rem2 : 2*rem2]])\n",
    "\n",
    "df3 =  pd.concat([ecg1[2*rem1 : 3*rem1], ecg2[2*rem2 : 3*rem2]])\n",
    "\n",
    "df4 =  pd.concat([ecg1[3*rem1 :], ecg2[3*rem2 :]])"
   ]
  },
  {
   "cell_type": "code",
   "execution_count": 71,
   "id": "b7a3a586",
   "metadata": {},
   "outputs": [
    {
     "data": {
      "text/plain": [
       "((24, 97), (24, 97), (24, 97), (28, 97))"
      ]
     },
     "execution_count": 71,
     "metadata": {},
     "output_type": "execute_result"
    }
   ],
   "source": [
    "(df1.shape, df2.shape, df3.shape, df4.shape)"
   ]
  },
  {
   "cell_type": "code",
   "execution_count": null,
   "id": "afed487b",
   "metadata": {},
   "outputs": [],
   "source": []
  },
  {
   "cell_type": "code",
   "execution_count": 72,
   "id": "5f9de1d9",
   "metadata": {},
   "outputs": [
    {
     "data": {
      "text/plain": [
       " 1.0    17\n",
       "-1.0     7\n",
       "Name: class, dtype: int64"
      ]
     },
     "execution_count": 72,
     "metadata": {},
     "output_type": "execute_result"
    }
   ],
   "source": [
    "df1['class'].value_counts()"
   ]
  },
  {
   "cell_type": "code",
   "execution_count": 73,
   "id": "9116167b",
   "metadata": {},
   "outputs": [
    {
     "data": {
      "text/plain": [
       " 1.0    17\n",
       "-1.0     7\n",
       "Name: class, dtype: int64"
      ]
     },
     "execution_count": 73,
     "metadata": {},
     "output_type": "execute_result"
    }
   ],
   "source": [
    "df2['class'].value_counts()"
   ]
  },
  {
   "cell_type": "code",
   "execution_count": 74,
   "id": "22dcb596",
   "metadata": {},
   "outputs": [
    {
     "data": {
      "text/plain": [
       " 1.0    17\n",
       "-1.0     7\n",
       "Name: class, dtype: int64"
      ]
     },
     "execution_count": 74,
     "metadata": {},
     "output_type": "execute_result"
    }
   ],
   "source": [
    "df3['class'].value_counts()"
   ]
  },
  {
   "cell_type": "code",
   "execution_count": 75,
   "id": "c5b45c3d",
   "metadata": {},
   "outputs": [],
   "source": [
    "from sklearn.utils import shuffle\n",
    "from sklearn.metrics import accuracy_score\n",
    "from sklearn.metrics import f1_score\n",
    "from sklearn.metrics import classification_report "
   ]
  },
  {
   "cell_type": "code",
   "execution_count": 76,
   "id": "23cd0d78",
   "metadata": {},
   "outputs": [],
   "source": [
    "df1 = shuffle(df1)\n",
    "df2 = shuffle(df2)\n",
    "df3 = shuffle(df3)\n",
    "df4 = shuffle(df4)"
   ]
  },
  {
   "cell_type": "code",
   "execution_count": null,
   "id": "84b3d0e1",
   "metadata": {},
   "outputs": [],
   "source": []
  },
  {
   "cell_type": "code",
   "execution_count": 77,
   "id": "d9f48195",
   "metadata": {},
   "outputs": [
    {
     "data": {
      "text/plain": [
       " 1.0    18\n",
       "-1.0    10\n",
       "Name: class, dtype: int64"
      ]
     },
     "execution_count": 77,
     "metadata": {},
     "output_type": "execute_result"
    }
   ],
   "source": [
    "df4['class'].value_counts()"
   ]
  },
  {
   "cell_type": "code",
   "execution_count": 78,
   "id": "a4963bba",
   "metadata": {},
   "outputs": [
    {
     "data": {
      "text/html": [
       "<div>\n",
       "<style scoped>\n",
       "    .dataframe tbody tr th:only-of-type {\n",
       "        vertical-align: middle;\n",
       "    }\n",
       "\n",
       "    .dataframe tbody tr th {\n",
       "        vertical-align: top;\n",
       "    }\n",
       "\n",
       "    .dataframe thead th {\n",
       "        text-align: right;\n",
       "    }\n",
       "</style>\n",
       "<table border=\"1\" class=\"dataframe\">\n",
       "  <thead>\n",
       "    <tr style=\"text-align: right;\">\n",
       "      <th></th>\n",
       "      <th>class</th>\n",
       "      <th>feature 1</th>\n",
       "      <th>feature 2</th>\n",
       "      <th>feature 3</th>\n",
       "      <th>feature 4</th>\n",
       "      <th>feature 5</th>\n",
       "      <th>feature 6</th>\n",
       "      <th>feature 7</th>\n",
       "      <th>feature 8</th>\n",
       "      <th>feature 9</th>\n",
       "      <th>...</th>\n",
       "      <th>feature 87</th>\n",
       "      <th>feature 88</th>\n",
       "      <th>feature 89</th>\n",
       "      <th>feature 90</th>\n",
       "      <th>feature 91</th>\n",
       "      <th>feature 92</th>\n",
       "      <th>feature 93</th>\n",
       "      <th>feature 94</th>\n",
       "      <th>feature 95</th>\n",
       "      <th>feature 96</th>\n",
       "    </tr>\n",
       "  </thead>\n",
       "  <tbody>\n",
       "    <tr>\n",
       "      <th>20</th>\n",
       "      <td>1.0</td>\n",
       "      <td>-0.368080</td>\n",
       "      <td>-0.621984</td>\n",
       "      <td>-0.601417</td>\n",
       "      <td>-0.628289</td>\n",
       "      <td>-0.611443</td>\n",
       "      <td>-0.392572</td>\n",
       "      <td>-0.322742</td>\n",
       "      <td>-0.579116</td>\n",
       "      <td>-0.896488</td>\n",
       "      <td>...</td>\n",
       "      <td>0.556864</td>\n",
       "      <td>0.968940</td>\n",
       "      <td>1.354753</td>\n",
       "      <td>2.190151</td>\n",
       "      <td>2.465477</td>\n",
       "      <td>1.646662</td>\n",
       "      <td>0.921942</td>\n",
       "      <td>0.270196</td>\n",
       "      <td>-0.490640</td>\n",
       "      <td>-0.452513</td>\n",
       "    </tr>\n",
       "    <tr>\n",
       "      <th>2</th>\n",
       "      <td>-1.0</td>\n",
       "      <td>0.316646</td>\n",
       "      <td>0.243199</td>\n",
       "      <td>0.370471</td>\n",
       "      <td>1.063738</td>\n",
       "      <td>1.678187</td>\n",
       "      <td>1.759558</td>\n",
       "      <td>1.697717</td>\n",
       "      <td>1.612159</td>\n",
       "      <td>1.168188</td>\n",
       "      <td>...</td>\n",
       "      <td>0.764229</td>\n",
       "      <td>0.610621</td>\n",
       "      <td>0.552900</td>\n",
       "      <td>0.566786</td>\n",
       "      <td>0.604002</td>\n",
       "      <td>0.777068</td>\n",
       "      <td>0.812345</td>\n",
       "      <td>0.748848</td>\n",
       "      <td>0.818042</td>\n",
       "      <td>0.539347</td>\n",
       "    </tr>\n",
       "    <tr>\n",
       "      <th>9</th>\n",
       "      <td>1.0</td>\n",
       "      <td>1.668206</td>\n",
       "      <td>2.848173</td>\n",
       "      <td>2.516978</td>\n",
       "      <td>2.172773</td>\n",
       "      <td>0.720467</td>\n",
       "      <td>0.725376</td>\n",
       "      <td>1.638602</td>\n",
       "      <td>1.292904</td>\n",
       "      <td>1.609566</td>\n",
       "      <td>...</td>\n",
       "      <td>-0.154365</td>\n",
       "      <td>-0.017805</td>\n",
       "      <td>-0.007506</td>\n",
       "      <td>0.005362</td>\n",
       "      <td>-0.026597</td>\n",
       "      <td>-0.048192</td>\n",
       "      <td>-0.032347</td>\n",
       "      <td>-0.214054</td>\n",
       "      <td>0.056031</td>\n",
       "      <td>0.147889</td>\n",
       "    </tr>\n",
       "    <tr>\n",
       "      <th>0</th>\n",
       "      <td>-1.0</td>\n",
       "      <td>0.502055</td>\n",
       "      <td>0.542163</td>\n",
       "      <td>0.722383</td>\n",
       "      <td>1.428885</td>\n",
       "      <td>2.136516</td>\n",
       "      <td>2.281149</td>\n",
       "      <td>1.936274</td>\n",
       "      <td>1.468890</td>\n",
       "      <td>1.008845</td>\n",
       "      <td>...</td>\n",
       "      <td>0.931043</td>\n",
       "      <td>0.610298</td>\n",
       "      <td>0.638894</td>\n",
       "      <td>0.684679</td>\n",
       "      <td>0.583238</td>\n",
       "      <td>0.640522</td>\n",
       "      <td>0.708585</td>\n",
       "      <td>0.705011</td>\n",
       "      <td>0.713815</td>\n",
       "      <td>0.433765</td>\n",
       "    </tr>\n",
       "    <tr>\n",
       "      <th>24</th>\n",
       "      <td>1.0</td>\n",
       "      <td>0.475276</td>\n",
       "      <td>1.343113</td>\n",
       "      <td>2.784832</td>\n",
       "      <td>2.887771</td>\n",
       "      <td>1.550017</td>\n",
       "      <td>-0.405390</td>\n",
       "      <td>-0.024368</td>\n",
       "      <td>1.056572</td>\n",
       "      <td>0.764721</td>\n",
       "      <td>...</td>\n",
       "      <td>0.042160</td>\n",
       "      <td>-0.051857</td>\n",
       "      <td>-0.067828</td>\n",
       "      <td>0.010170</td>\n",
       "      <td>-0.019264</td>\n",
       "      <td>-0.057952</td>\n",
       "      <td>-0.077762</td>\n",
       "      <td>0.075638</td>\n",
       "      <td>0.080578</td>\n",
       "      <td>-0.029783</td>\n",
       "    </tr>\n",
       "  </tbody>\n",
       "</table>\n",
       "<p>5 rows × 97 columns</p>\n",
       "</div>"
      ],
      "text/plain": [
       "    class  feature 1  feature 2  feature 3  feature 4  feature 5  feature 6  \\\n",
       "20    1.0  -0.368080  -0.621984  -0.601417  -0.628289  -0.611443  -0.392572   \n",
       "2    -1.0   0.316646   0.243199   0.370471   1.063738   1.678187   1.759558   \n",
       "9     1.0   1.668206   2.848173   2.516978   2.172773   0.720467   0.725376   \n",
       "0    -1.0   0.502055   0.542163   0.722383   1.428885   2.136516   2.281149   \n",
       "24    1.0   0.475276   1.343113   2.784832   2.887771   1.550017  -0.405390   \n",
       "\n",
       "    feature 7  feature 8  feature 9  ...  feature 87  feature 88  feature 89  \\\n",
       "20  -0.322742  -0.579116  -0.896488  ...    0.556864    0.968940    1.354753   \n",
       "2    1.697717   1.612159   1.168188  ...    0.764229    0.610621    0.552900   \n",
       "9    1.638602   1.292904   1.609566  ...   -0.154365   -0.017805   -0.007506   \n",
       "0    1.936274   1.468890   1.008845  ...    0.931043    0.610298    0.638894   \n",
       "24  -0.024368   1.056572   0.764721  ...    0.042160   -0.051857   -0.067828   \n",
       "\n",
       "    feature 90  feature 91  feature 92  feature 93  feature 94  feature 95  \\\n",
       "20    2.190151    2.465477    1.646662    0.921942    0.270196   -0.490640   \n",
       "2     0.566786    0.604002    0.777068    0.812345    0.748848    0.818042   \n",
       "9     0.005362   -0.026597   -0.048192   -0.032347   -0.214054    0.056031   \n",
       "0     0.684679    0.583238    0.640522    0.708585    0.705011    0.713815   \n",
       "24    0.010170   -0.019264   -0.057952   -0.077762    0.075638    0.080578   \n",
       "\n",
       "    feature 96  \n",
       "20   -0.452513  \n",
       "2     0.539347  \n",
       "9     0.147889  \n",
       "0     0.433765  \n",
       "24   -0.029783  \n",
       "\n",
       "[5 rows x 97 columns]"
      ]
     },
     "execution_count": 78,
     "metadata": {},
     "output_type": "execute_result"
    }
   ],
   "source": [
    "x = pd.concat([df2, df3, df4], axis = 0)\n",
    "y = df1\n",
    "y.head()"
   ]
  },
  {
   "cell_type": "code",
   "execution_count": 79,
   "id": "33986263",
   "metadata": {},
   "outputs": [
    {
     "name": "stdout",
     "output_type": "stream",
     "text": [
      "Accuracy :  83.33333333333334\n",
      "Report : \n",
      "               precision    recall  f1-score   support\n",
      "\n",
      "        -1.0       0.67      0.86      0.75         7\n",
      "         1.0       0.93      0.82      0.87        17\n",
      "\n",
      "    accuracy                           0.83        24\n",
      "   macro avg       0.80      0.84      0.81        24\n",
      "weighted avg       0.86      0.83      0.84        24\n",
      "\n",
      "F1 Score :  81.25\n"
     ]
    }
   ],
   "source": [
    "from sklearn.model_selection import train_test_split\n",
    "from sklearn.ensemble import RandomForestClassifier\n",
    "\n",
    "acc1 = []\n",
    "acc2 = []\n",
    "\n",
    "X_train = x.drop('class',axis=1)\n",
    "Y_train = x[\"class\"]\n",
    "X_test = y.drop('class',axis=1)\n",
    "Y_test = y[\"class\"]\n",
    "\n",
    "c1 = RandomForestClassifier(max_depth=None, random_state=0)\n",
    "c1.fit(X_train, Y_train)\n",
    "p = c1.predict(X_test)\n",
    "print (\"Accuracy : \" , accuracy_score(Y_test,p)*100)  \n",
    "print(\"Report : \\n\", classification_report(Y_test, p))\n",
    "print(\"F1 Score : \",f1_score(Y_test, p, average='macro')*100)\n",
    "\n",
    "acc1.append(accuracy_score(Y_test,p)*100)"
   ]
  },
  {
   "cell_type": "code",
   "execution_count": 80,
   "id": "083a33bb",
   "metadata": {},
   "outputs": [
    {
     "name": "stdout",
     "output_type": "stream",
     "text": [
      "Accuracy :  83.33333333333334\n",
      "Report : \n",
      "               precision    recall  f1-score   support\n",
      "\n",
      "        -1.0       0.71      0.71      0.71         7\n",
      "         1.0       0.88      0.88      0.88        17\n",
      "\n",
      "    accuracy                           0.83        24\n",
      "   macro avg       0.80      0.80      0.80        24\n",
      "weighted avg       0.83      0.83      0.83        24\n",
      "\n",
      "F1 Score :  79.83193277310924\n"
     ]
    }
   ],
   "source": [
    "x = pd.concat([df1, df3, df4], axis = 0)\n",
    "y = df2\n",
    "\n",
    "X_train = x.drop('class',axis=1)\n",
    "Y_train = x[\"class\"]\n",
    "X_test = y.drop('class',axis=1)\n",
    "Y_test = y[\"class\"]\n",
    "\n",
    "c1 = RandomForestClassifier(max_depth=None, random_state=0)\n",
    "c1.fit(X_train, Y_train)\n",
    "p = c1.predict(X_test)\n",
    "print (\"Accuracy : \" , accuracy_score(Y_test,p)*100)  \n",
    "print(\"Report : \\n\", classification_report(Y_test, p))\n",
    "print(\"F1 Score : \",f1_score(Y_test, p, average='macro')*100)\n",
    "\n",
    "acc1.append(accuracy_score(Y_test,p)*100)"
   ]
  },
  {
   "cell_type": "code",
   "execution_count": 81,
   "id": "05917c83",
   "metadata": {},
   "outputs": [
    {
     "name": "stdout",
     "output_type": "stream",
     "text": [
      "Accuracy :  91.66666666666666\n",
      "Report : \n",
      "               precision    recall  f1-score   support\n",
      "\n",
      "        -1.0       0.86      0.86      0.86         7\n",
      "         1.0       0.94      0.94      0.94        17\n",
      "\n",
      "    accuracy                           0.92        24\n",
      "   macro avg       0.90      0.90      0.90        24\n",
      "weighted avg       0.92      0.92      0.92        24\n",
      "\n",
      "F1 Score :  89.91596638655462\n"
     ]
    }
   ],
   "source": [
    "x = pd.concat([df1, df2, df4], axis = 0)\n",
    "y = df3\n",
    "\n",
    "\n",
    "X_train = x.drop('class',axis=1)\n",
    "Y_train = x[\"class\"]\n",
    "X_test = y.drop('class',axis=1)\n",
    "Y_test = y[\"class\"]\n",
    "\n",
    "c1 = RandomForestClassifier(max_depth=None, random_state=0)\n",
    "c1.fit(X_train, Y_train)\n",
    "p = c1.predict(X_test)\n",
    "print (\"Accuracy : \" , accuracy_score(Y_test,p)*100)  \n",
    "print(\"Report : \\n\", classification_report(Y_test, p))\n",
    "print(\"F1 Score : \",f1_score(Y_test, p, average='macro')*100)\n",
    "\n",
    "acc1.append(accuracy_score(Y_test,p)*100)"
   ]
  },
  {
   "cell_type": "code",
   "execution_count": 82,
   "id": "66213a19",
   "metadata": {},
   "outputs": [
    {
     "name": "stdout",
     "output_type": "stream",
     "text": [
      "Accuracy :  82.14285714285714\n",
      "Report : \n",
      "               precision    recall  f1-score   support\n",
      "\n",
      "        -1.0       1.00      0.50      0.67        10\n",
      "         1.0       0.78      1.00      0.88        18\n",
      "\n",
      "    accuracy                           0.82        28\n",
      "   macro avg       0.89      0.75      0.77        28\n",
      "weighted avg       0.86      0.82      0.80        28\n",
      "\n",
      "F1 Score :  77.23577235772359\n"
     ]
    }
   ],
   "source": [
    "x = pd.concat([df1, df2, df3], axis = 0)\n",
    "y = df4\n",
    "\n",
    "X_train = x.drop('class',axis=1)\n",
    "Y_train = x[\"class\"]\n",
    "X_test = y.drop('class',axis=1)\n",
    "Y_test = y[\"class\"]\n",
    "\n",
    "c1 = RandomForestClassifier(max_depth=None, random_state=0)\n",
    "c1.fit(X_train, Y_train)\n",
    "p = c1.predict(X_test)\n",
    "print (\"Accuracy : \" , accuracy_score(Y_test,p)*100)  \n",
    "print(\"Report : \\n\", classification_report(Y_test, p))\n",
    "print(\"F1 Score : \",f1_score(Y_test, p, average='macro')*100)\n",
    "\n",
    "acc1.append(accuracy_score(Y_test,p)*100)"
   ]
  },
  {
   "cell_type": "markdown",
   "id": "e1eb29d2",
   "metadata": {},
   "source": [
    "# Using Sklearn"
   ]
  },
  {
   "cell_type": "code",
   "execution_count": 83,
   "id": "e55214ae",
   "metadata": {},
   "outputs": [
    {
     "name": "stderr",
     "output_type": "stream",
     "text": [
      "<ipython-input-83-574a54ce7e5b>:1: ParserWarning: Falling back to the 'python' engine because the 'c' engine does not support regex separators (separators > 1 char and different from '\\s+' are interpreted as regex); you can avoid this warning by specifying engine='python'.\n",
      "  df = pd.read_csv('ECG200_TRAIN.csv' , delimiter = '  ',header =None)\n"
     ]
    }
   ],
   "source": [
    "df = pd.read_csv('ECG200_TRAIN.csv' , delimiter = '  ',header =None)"
   ]
  },
  {
   "cell_type": "code",
   "execution_count": 84,
   "id": "4d1efa9d",
   "metadata": {},
   "outputs": [
    {
     "name": "stdout",
     "output_type": "stream",
     "text": [
      "Accuracy :  75.0\n",
      "Report : \n",
      "               precision    recall  f1-score   support\n",
      "\n",
      "        -1.0       0.38      1.00      0.55         3\n",
      "         1.0       1.00      0.71      0.83        17\n",
      "\n",
      "    accuracy                           0.75        20\n",
      "   macro avg       0.69      0.85      0.69        20\n",
      "weighted avg       0.91      0.75      0.79        20\n",
      "\n",
      "F1 Score :  68.65203761755485\n"
     ]
    }
   ],
   "source": [
    "from sklearn.model_selection import train_test_split\n",
    "\n",
    "x = ecg.drop('class',axis=1)\n",
    "y = ecg['class']\n",
    "x_train, x_test, y_train, y_test = train_test_split(x, y, test_size = 0.2, random_state = 40 )\n",
    "\n",
    "c4 = RandomForestClassifier(max_depth=None, random_state=0)\n",
    "c4.fit(x_train, y_train)\n",
    "p = c4.predict(x_test)\n",
    "print (\"Accuracy : \" , accuracy_score(y_test,p)*100)  \n",
    "print(\"Report : \\n\", classification_report(y_test, p))\n",
    "print(\"F1 Score : \",f1_score(y_test, p, average='macro')*100)"
   ]
  },
  {
   "cell_type": "markdown",
   "id": "d291f069",
   "metadata": {},
   "source": [
    "# Kfold Cross Validation"
   ]
  },
  {
   "cell_type": "code",
   "execution_count": 87,
   "id": "096d5735",
   "metadata": {},
   "outputs": [
    {
     "name": "stdout",
     "output_type": "stream",
     "text": [
      "Accuracy :  76.0\n",
      "Accuracy :  88.0\n",
      "Accuracy :  84.0\n",
      "Accuracy :  84.0\n"
     ]
    }
   ],
   "source": [
    "from sklearn.model_selection import KFold\n",
    "kfol = KFold(n_splits = 4,shuffle = True)\n",
    "for k, f in kfol.split(x): \n",
    "    X_train = x.iloc[k]\n",
    "    X_test  = x.iloc[f]\n",
    "    y_train = y.iloc[k]\n",
    "    y_test  = y.iloc[f]    \n",
    "    cl = RandomForestClassifier()\n",
    "    cl = cl.fit(X_train, y_train)\n",
    "    p = cl.predict(X_test)\n",
    "    cl.score(X_test,y_test)\n",
    "\n",
    "    print (\"Accuracy : \" , accuracy_score(y_test,p)*100)\n",
    "    acc2.append(accuracy_score(y_test,p)*100)"
   ]
  },
  {
   "cell_type": "code",
   "execution_count": 88,
   "id": "8b2b3cef",
   "metadata": {},
   "outputs": [
    {
     "name": "stdout",
     "output_type": "stream",
     "text": [
      "Accuracies without sklearn :\n"
     ]
    },
    {
     "data": {
      "text/plain": [
       "[83.33333333333334, 83.33333333333334, 91.66666666666666, 82.14285714285714]"
      ]
     },
     "execution_count": 88,
     "metadata": {},
     "output_type": "execute_result"
    }
   ],
   "source": [
    "print (\"Accuracies without sklearn :\")\n",
    "acc1"
   ]
  },
  {
   "cell_type": "code",
   "execution_count": 89,
   "id": "86cec979",
   "metadata": {},
   "outputs": [
    {
     "name": "stdout",
     "output_type": "stream",
     "text": [
      "Accuracies with sklearn :\n"
     ]
    },
    {
     "data": {
      "text/plain": [
       "[76.0, 88.0, 84.0, 84.0]"
      ]
     },
     "execution_count": 89,
     "metadata": {},
     "output_type": "execute_result"
    }
   ],
   "source": [
    "print (\"Accuracies with sklearn :\")\n",
    "acc2"
   ]
  },
  {
   "cell_type": "code",
   "execution_count": 91,
   "id": "f913c0cf",
   "metadata": {},
   "outputs": [
    {
     "name": "stdout",
     "output_type": "stream",
     "text": [
      "The average accuracy Using Numpy:  85.11904761904762\n",
      "The average accuracy Using Sklearn:  83.0\n"
     ]
    }
   ],
   "source": [
    "print(\"The average accuracy Using Numpy: \", (sum(acc1)/4))\n",
    "print(\"The average accuracy Using Sklearn: \", (sum(acc2)/4))"
   ]
  },
  {
   "cell_type": "markdown",
   "id": "f61fd4c1",
   "metadata": {},
   "source": [
    "#  In Conclusion the average accuracy result using Numpy is better than that using Sklearn"
   ]
  },
  {
   "cell_type": "code",
   "execution_count": null,
   "id": "9d38a26b",
   "metadata": {},
   "outputs": [],
   "source": []
  }
 ],
 "metadata": {
  "kernelspec": {
   "display_name": "Python 3",
   "language": "python",
   "name": "python3"
  },
  "language_info": {
   "codemirror_mode": {
    "name": "ipython",
    "version": 3
   },
   "file_extension": ".py",
   "mimetype": "text/x-python",
   "name": "python",
   "nbconvert_exporter": "python",
   "pygments_lexer": "ipython3",
   "version": "3.8.8"
  }
 },
 "nbformat": 4,
 "nbformat_minor": 5
}
