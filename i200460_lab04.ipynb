{
 "cells": [
  {
   "cell_type": "markdown",
   "id": "4d545443",
   "metadata": {},
   "source": [
    "# Task 08\n",
    "## Assuming 3 friends have 5 cities (A,B,C,D,E) to go to, what is the possible state space of\n",
    "## this problem? Display the possible state space in a proper way. "
   ]
  },
  {
   "cell_type": "code",
   "execution_count": 3,
   "id": "1fbc5fb5",
   "metadata": {},
   "outputs": [],
   "source": [
    "import numpy as np\n",
    "import pandas as pd\n",
    "from itertools import combinations"
   ]
  },
  {
   "cell_type": "code",
   "execution_count": 4,
   "id": "b198a12c",
   "metadata": {},
   "outputs": [],
   "source": [
    "# cities = combinations([\"A\",\"B\",\"C\",\"D\",\"E\"],3)\n",
    "# arr = []\n",
    "# for i in list(cities):\n",
    "\n",
    "#     print(i)"
   ]
  },
  {
   "cell_type": "code",
   "execution_count": 5,
   "id": "9859f2b3",
   "metadata": {},
   "outputs": [
    {
     "name": "stdout",
     "output_type": "stream",
     "text": [
      "['AAA', 'AAB', 'AAC', 'AAD', 'AAE', 'ABA', 'ABB', 'ABC', 'ABD', 'ABE', 'ACA', 'ACB', 'ACC', 'ACD', 'ACE', 'ADA', 'ADB', 'ADC', 'ADD', 'ADE', 'AEA', 'AEB', 'AEC', 'AED', 'AEE', 'BAA', 'BAB', 'BAC', 'BAD', 'BAE', 'BBA', 'BBB', 'BBC', 'BBD', 'BBE', 'BCA', 'BCB', 'BCC', 'BCD', 'BCE', 'BDA', 'BDB', 'BDC', 'BDD', 'BDE', 'BEA', 'BEB', 'BEC', 'BED', 'BEE', 'CAA', 'CAB', 'CAC', 'CAD', 'CAE', 'CBA', 'CBB', 'CBC', 'CBD', 'CBE', 'CCA', 'CCB', 'CCC', 'CCD', 'CCE', 'CDA', 'CDB', 'CDC', 'CDD', 'CDE', 'CEA', 'CEB', 'CEC', 'CED', 'CEE', 'DAA', 'DAB', 'DAC', 'DAD', 'DAE', 'DBA', 'DBB', 'DBC', 'DBD', 'DBE', 'DCA', 'DCB', 'DCC', 'DCD', 'DCE', 'DDA', 'DDB', 'DDC', 'DDD', 'DDE', 'DEA', 'DEB', 'DEC', 'DED', 'DEE', 'EAA', 'EAB', 'EAC', 'EAD', 'EAE', 'EBA', 'EBB', 'EBC', 'EBD', 'EBE', 'ECA', 'ECB', 'ECC', 'ECD', 'ECE', 'EDA', 'EDB', 'EDC', 'EDD', 'EDE', 'EEA', 'EEB', 'EEC', 'EED', 'EEE']\n"
     ]
    }
   ],
   "source": [
    "#State space\n",
    "cities = ['A','B','C','D','E']\n",
    "str1 = \"\"\n",
    "arr = []\n",
    "for a in cities:\n",
    "    str1 = \"\"\n",
    "    str1 += a\n",
    "#     print(str1)\n",
    "#     print(\"--------------\")\n",
    "    str3 = str1\n",
    "    for b in cities:\n",
    "        str1 = str3\n",
    "        str1 += b\n",
    "#         print(str1)\n",
    "#         print(\"--------------\")\n",
    "        str2 = str1\n",
    "        for c in cities:\n",
    "            str1 = str2\n",
    "            str1 += c\n",
    "            arr.append(str1)\n",
    "            \n",
    "print(arr) #125 values\n"
   ]
  },
  {
   "cell_type": "markdown",
   "id": "bc779a06",
   "metadata": {},
   "source": [
    "## Find the probability of the occurrence of that event."
   ]
  },
  {
   "cell_type": "code",
   "execution_count": 6,
   "id": "1932bce7",
   "metadata": {},
   "outputs": [
    {
     "name": "stdout",
     "output_type": "stream",
     "text": [
      "['AAA', 'AAB', 'AAC', 'AAD', 'AAE', 'ABA', 'ABB', 'ACA', 'ACC', 'ADA', 'ADD', 'AEA', 'AEE', 'BAA', 'BAB', 'BBA', 'BBB', 'BBC', 'BBD', 'BBE', 'BCB', 'BCC', 'BDB', 'BDD', 'BEB', 'BEE', 'CAA', 'CAC', 'CBB', 'CBC', 'CCA', 'CCB', 'CCC', 'CCD', 'CCE', 'CDC', 'CDD', 'CEC', 'CEE', 'DAA', 'DAD', 'DBB', 'DBD', 'DCC', 'DCD', 'DDA', 'DDB', 'DDC', 'DDD', 'DDE', 'DED', 'DEE', 'EAA', 'EAE', 'EBB', 'EBE', 'ECC', 'ECE', 'EDD', 'EDE', 'EEA', 'EEB', 'EEC', 'EED', 'EEE']\n",
      "---------------\n",
      "65\n"
     ]
    }
   ],
   "source": [
    "#to find probabilty of same cities\n",
    "prob2=[]\n",
    "for i in arr:\n",
    "    p1 = \"\"\n",
    "    p2 = \"\"\n",
    "    p3 = \"\"\n",
    "    p1 = i[0]\n",
    "    p2 = i[1]\n",
    "    p3 = i[-1]\n",
    "    if((p1 == p2) or (p1 == p3) or (p2==p3)):\n",
    "        prob2.append(i)\n",
    "print(prob2)\n",
    "print(\"---------------\")\n",
    "s1 = len(prob2)\n",
    "print(s1)"
   ]
  },
  {
   "cell_type": "code",
   "execution_count": 7,
   "id": "41af0695",
   "metadata": {},
   "outputs": [
    {
     "name": "stdout",
     "output_type": "stream",
     "text": [
      "['ABC', 'ABD', 'ABE', 'ACB', 'ACD', 'ACE', 'ADB', 'ADC', 'ADE', 'AEB', 'AEC', 'AED', 'BAC', 'BAD', 'BAE', 'BCA', 'BCD', 'BCE', 'BDA', 'BDC', 'BDE', 'BEA', 'BEC', 'BED', 'CAB', 'CAD', 'CAE', 'CBA', 'CBD', 'CBE', 'CDA', 'CDB', 'CDE', 'CEA', 'CEB', 'CED', 'DAB', 'DAC', 'DAE', 'DBA', 'DBC', 'DBE', 'DCA', 'DCB', 'DCE', 'DEA', 'DEB', 'DEC', 'EAB', 'EAC', 'EAD', 'EBA', 'EBC', 'EBD', 'ECA', 'ECB', 'ECD', 'EDA', 'EDB', 'EDC']\n",
      "---------------\n",
      "60\n"
     ]
    }
   ],
   "source": [
    "#to find probabilty of all different cities\n",
    "prob3 = []\n",
    "for i in arr:\n",
    "    p1 = \"\"\n",
    "    p2 = \"\"\n",
    "    p3 = \"\"\n",
    "    p1 = i[0]\n",
    "    p2 = i[1]\n",
    "    p3 = i[-1]\n",
    "    if((p1 != p2) and (p1 != p3) and (p2 != p3)):\n",
    "        prob3.append(i)\n",
    "print(prob3)\n",
    "print(\"---------------\")\n",
    "s2 = len(prob3)\n",
    "print(s2)"
   ]
  },
  {
   "cell_type": "code",
   "execution_count": 8,
   "id": "91258d59",
   "metadata": {},
   "outputs": [
    {
     "data": {
      "text/plain": [
       "125"
      ]
     },
     "execution_count": 8,
     "metadata": {},
     "output_type": "execute_result"
    }
   ],
   "source": [
    "s4 = len(arr)\n",
    "s4"
   ]
  },
  {
   "cell_type": "code",
   "execution_count": 9,
   "id": "3bf1c2d1",
   "metadata": {},
   "outputs": [
    {
     "data": {
      "text/plain": [
       "0.52"
      ]
     },
     "execution_count": 9,
     "metadata": {},
     "output_type": "execute_result"
    }
   ],
   "source": [
    "pr1 = s1/s4  #probability of same\n",
    "pr1"
   ]
  },
  {
   "cell_type": "code",
   "execution_count": 10,
   "id": "a0f1d87e",
   "metadata": {},
   "outputs": [
    {
     "data": {
      "text/plain": [
       "0.48"
      ]
     },
     "execution_count": 10,
     "metadata": {},
     "output_type": "execute_result"
    }
   ],
   "source": [
    "pr2 = s2/s4  #probability of different\n",
    "pr2"
   ]
  },
  {
   "cell_type": "markdown",
   "id": "18f8912f",
   "metadata": {},
   "source": [
    "## Plot the probability distribution."
   ]
  },
  {
   "cell_type": "code",
   "execution_count": 11,
   "id": "e06640d8",
   "metadata": {},
   "outputs": [
    {
     "data": {
      "image/png": "[encoded data removed]",
      "text/plain": [
       "<Figure size 432x288 with 1 Axes>"
      ]
     },
     "metadata": {
      "needs_background": "light"
     },
     "output_type": "display_data"
    }
   ],
   "source": [
    "import matplotlib.pyplot as plt\n",
    "fig = plt.figure()\n",
    "axi = fig.add_axes([0,0,1,1])\n",
    "axi.set_title('Probability Distribution Function')\n",
    "axi.set_ylabel('Probability')\n",
    "title = ['Same City', 'Different Cities']\n",
    "prob = [pr1, pr2]\n",
    "axi.bar(title,prob)\n",
    "plt.show()"
   ]
  },
  {
   "cell_type": "markdown",
   "id": "016d9501",
   "metadata": {},
   "source": [
    "## Is it a discrete distribution or a continuous one?"
   ]
  },
  {
   "cell_type": "markdown",
   "id": "69d087c4",
   "metadata": {},
   "source": [
    "#### It is discrete because the graph is not a curve "
   ]
  },
  {
   "cell_type": "markdown",
   "id": "6d60a279",
   "metadata": {},
   "source": [
    "## Is it univariate or a multivariate problem?"
   ]
  },
  {
   "cell_type": "markdown",
   "id": "14090bd0",
   "metadata": {},
   "source": [
    "#### It is univariate because we are only taking one variable into account"
   ]
  },
  {
   "cell_type": "markdown",
   "id": "5a436854",
   "metadata": {},
   "source": [
    "# Task 01\n",
    "## Apply univariate analysis on a feature in the given dataset"
   ]
  },
  {
   "cell_type": "code",
   "execution_count": 12,
   "id": "0ab61990",
   "metadata": {},
   "outputs": [],
   "source": [
    "import statistics as st\n",
    "from scipy import stats"
   ]
  },
  {
   "cell_type": "code",
   "execution_count": 13,
   "id": "dc7f6ec6",
   "metadata": {},
   "outputs": [
    {
     "data": {
      "text/html": [
       "<div>\n",
       "<style scoped>\n",
       "    .dataframe tbody tr th:only-of-type {\n",
       "        vertical-align: middle;\n",
       "    }\n",
       "\n",
       "    .dataframe tbody tr th {\n",
       "        vertical-align: top;\n",
       "    }\n",
       "\n",
       "    .dataframe thead th {\n",
       "        text-align: right;\n",
       "    }\n",
       "</style>\n",
       "<table border=\"1\" class=\"dataframe\">\n",
       "  <thead>\n",
       "    <tr style=\"text-align: right;\">\n",
       "      <th></th>\n",
       "      <th>price</th>\n",
       "      <th>area</th>\n",
       "      <th>length</th>\n",
       "      <th>width</th>\n",
       "      <th>bedrooms</th>\n",
       "      <th>bathrooms</th>\n",
       "      <th>stories</th>\n",
       "      <th>mainroad</th>\n",
       "      <th>guestroom</th>\n",
       "      <th>basement</th>\n",
       "      <th>hotwaterheating</th>\n",
       "      <th>airconditioning</th>\n",
       "      <th>parking</th>\n",
       "      <th>prefarea</th>\n",
       "      <th>furnishingstatus</th>\n",
       "    </tr>\n",
       "  </thead>\n",
       "  <tbody>\n",
       "    <tr>\n",
       "      <th>0</th>\n",
       "      <td>1465896</td>\n",
       "      <td>244316</td>\n",
       "      <td>593</td>\n",
       "      <td>412</td>\n",
       "      <td>4</td>\n",
       "      <td>2</td>\n",
       "      <td>3</td>\n",
       "      <td>yes</td>\n",
       "      <td>no</td>\n",
       "      <td>no</td>\n",
       "      <td>no</td>\n",
       "      <td>yes</td>\n",
       "      <td>2</td>\n",
       "      <td>yes</td>\n",
       "      <td>furnished</td>\n",
       "    </tr>\n",
       "    <tr>\n",
       "      <th>1</th>\n",
       "      <td>3123904</td>\n",
       "      <td>390488</td>\n",
       "      <td>734</td>\n",
       "      <td>532</td>\n",
       "      <td>4</td>\n",
       "      <td>4</td>\n",
       "      <td>4</td>\n",
       "      <td>yes</td>\n",
       "      <td>no</td>\n",
       "      <td>no</td>\n",
       "      <td>no</td>\n",
       "      <td>yes</td>\n",
       "      <td>3</td>\n",
       "      <td>no</td>\n",
       "      <td>furnished</td>\n",
       "    </tr>\n",
       "    <tr>\n",
       "      <th>2</th>\n",
       "      <td>1519896</td>\n",
       "      <td>379974</td>\n",
       "      <td>498</td>\n",
       "      <td>763</td>\n",
       "      <td>3</td>\n",
       "      <td>2</td>\n",
       "      <td>2</td>\n",
       "      <td>yes</td>\n",
       "      <td>no</td>\n",
       "      <td>yes</td>\n",
       "      <td>no</td>\n",
       "      <td>no</td>\n",
       "      <td>2</td>\n",
       "      <td>yes</td>\n",
       "      <td>semi-furnished</td>\n",
       "    </tr>\n",
       "    <tr>\n",
       "      <th>3</th>\n",
       "      <td>1152112</td>\n",
       "      <td>288028</td>\n",
       "      <td>382</td>\n",
       "      <td>754</td>\n",
       "      <td>4</td>\n",
       "      <td>2</td>\n",
       "      <td>2</td>\n",
       "      <td>yes</td>\n",
       "      <td>no</td>\n",
       "      <td>yes</td>\n",
       "      <td>no</td>\n",
       "      <td>yes</td>\n",
       "      <td>3</td>\n",
       "      <td>yes</td>\n",
       "      <td>furnished</td>\n",
       "    </tr>\n",
       "    <tr>\n",
       "      <th>4</th>\n",
       "      <td>887292</td>\n",
       "      <td>221823</td>\n",
       "      <td>503</td>\n",
       "      <td>441</td>\n",
       "      <td>4</td>\n",
       "      <td>1</td>\n",
       "      <td>2</td>\n",
       "      <td>yes</td>\n",
       "      <td>yes</td>\n",
       "      <td>yes</td>\n",
       "      <td>no</td>\n",
       "      <td>yes</td>\n",
       "      <td>2</td>\n",
       "      <td>no</td>\n",
       "      <td>furnished</td>\n",
       "    </tr>\n",
       "  </tbody>\n",
       "</table>\n",
       "</div>"
      ],
      "text/plain": [
       "     price    area  length  width  bedrooms  bathrooms  stories mainroad  \\\n",
       "0  1465896  244316     593    412         4          2        3      yes   \n",
       "1  3123904  390488     734    532         4          4        4      yes   \n",
       "2  1519896  379974     498    763         3          2        2      yes   \n",
       "3  1152112  288028     382    754         4          2        2      yes   \n",
       "4   887292  221823     503    441         4          1        2      yes   \n",
       "\n",
       "  guestroom basement hotwaterheating airconditioning  parking prefarea  \\\n",
       "0        no       no              no             yes        2      yes   \n",
       "1        no       no              no             yes        3       no   \n",
       "2        no      yes              no              no        2      yes   \n",
       "3        no      yes              no             yes        3      yes   \n",
       "4       yes      yes              no             yes        2       no   \n",
       "\n",
       "  furnishingstatus  \n",
       "0        furnished  \n",
       "1        furnished  \n",
       "2   semi-furnished  \n",
       "3        furnished  \n",
       "4        furnished  "
      ]
     },
     "execution_count": 13,
     "metadata": {},
     "output_type": "execute_result"
    }
   ],
   "source": [
    "df = pd.read_csv(\"Housing.csv\")\n",
    "df.head()"
   ]
  },
  {
   "cell_type": "code",
   "execution_count": 14,
   "id": "7762bddb",
   "metadata": {},
   "outputs": [
    {
     "name": "stdout",
     "output_type": "stream",
     "text": [
      "mean=  539.1357798165137\n"
     ]
    }
   ],
   "source": [
    "m=df['length'].mean()\n",
    "print(\"mean= \" ,m)"
   ]
  },
  {
   "cell_type": "code",
   "execution_count": 15,
   "id": "273eb314",
   "metadata": {},
   "outputs": [
    {
     "name": "stdout",
     "output_type": "stream",
     "text": [
      "std dev=  148.35440446467734\n"
     ]
    }
   ],
   "source": [
    "std=df['length'].std()\n",
    "print(\"std dev= \" ,std)"
   ]
  },
  {
   "cell_type": "code",
   "execution_count": 16,
   "id": "1659ffa6",
   "metadata": {},
   "outputs": [
    {
     "name": "stdout",
     "output_type": "stream",
     "text": [
      "variance = 22009.029324069077\n"
     ]
    }
   ],
   "source": [
    "v = std**2\n",
    "print(\"variance =\" ,v)"
   ]
  },
  {
   "cell_type": "code",
   "execution_count": 17,
   "id": "0810e26d",
   "metadata": {},
   "outputs": [
    {
     "name": "stdout",
     "output_type": "stream",
     "text": [
      "Z score :\n",
      " [3.63411556e-01 1.31471150e+00 2.77535212e-01 1.06016495e+00\n",
      " 2.43801171e-01 3.28179601e-02 1.19510111e+00 1.13929449e+00\n",
      " 8.82915779e-01 1.10739261e+00 1.20859473e+00 5.06926687e-01\n",
      " 1.16811388e+00 7.74966850e-01 9.03156203e-01 4.66445838e-01\n",
      " 1.11230725e+00 1.22883515e+00 9.65709637e-01 1.39750535e+00\n",
      " 1.18160750e+00 8.24026667e-01 9.92696869e-01 1.38217958e+00\n",
      " 1.57783701e+00 1.61831786e+00 1.08532002e+00 4.32711798e-01\n",
      " 1.48521386e+00 3.58496909e-01 1.49870748e+00 8.55928547e-01\n",
      " 9.09903011e-01 9.11735172e-01 9.90864708e-01 1.57966917e+00\n",
      " 1.17302853e+00 5.32081758e-01 8.82915779e-01 1.20859473e+00\n",
      " 1.18835430e+00 1.00619049e+00 1.49345858e-01 2.11565046e-02\n",
      " 1.42266043e+00 1.40916681e+00 1.18835430e+00 1.17486069e+00\n",
      " 4.52952222e-01 9.53713936e-02 3.09437092e-01 1.43615404e+00\n",
      " 4.64613678e-01 1.55268194e+00 7.83545818e-01 2.35222203e-01\n",
      " 1.01968410e+00 4.78107294e-01 7.43064970e-01 1.56617556e+00\n",
      " 1.59990960e+00 6.62103273e-01 4.98347718e-01 1.10556045e+00\n",
      " 1.47513698e-01 4.32711798e-01 1.05158598e+00 7.61473233e-01\n",
      " 1.11413941e+00 1.11230725e+00 1.17486069e+00 7.20992385e-01\n",
      " 7.51309693e-02 1.22208834e+00 1.44473301e+00 8.57760707e-01\n",
      " 1.22700299e+00 9.23396627e-01 5.33913919e-01 6.08128808e-01\n",
      " 1.39750535e+00 2.57294788e-01 8.51013899e-01 2.43801171e-01\n",
      " 7.32988086e-02 9.65709637e-01 5.18588142e-01 9.70624284e-01\n",
      " 6.75596889e-01 1.32329047e+00 1.07032849e-01 7.29571354e-01\n",
      " 1.70602637e+00 1.33495192e+00 9.36890244e-01 2.48715819e-01\n",
      " 1.10064580e+00 1.40766889e-01 7.16077737e-01 1.30305004e+00\n",
      " 7.02584121e-01 2.70788404e-01 1.46314127e+00 2.35222203e-01\n",
      " 2.03320323e-01 4.25964990e-01 1.03809236e+00 1.09389899e+00\n",
      " 1.52386255e+00 6.33283880e-01 5.38828567e-01 1.60482424e+00\n",
      " 5.47407535e-01 9.43637052e-01 3.31509677e-01 1.00619049e+00\n",
      " 5.52322183e-01 1.69253275e+00 8.17279859e-01 7.81713658e-01\n",
      " 1.30796469e+00 1.13254768e+00 1.02459875e+00 1.44964766e+00\n",
      " 1.76000083e+00 1.22883515e+00 3.97145597e-01 6.46777496e-01\n",
      " 3.38256485e-01 1.37051812e+00 9.18481980e-01 1.42449259e+00\n",
      " 1.29447107e+00 1.39075855e+00 5.79309415e-01 1.01968410e+00\n",
      " 1.23374980e+00 2.55462627e-01 1.37543277e+00 1.32820511e+00\n",
      " 1.73301360e+00 1.38217958e+00 1.76000083e+00 2.70788404e-01\n",
      " 1.49012851e+00 5.60901152e-01 5.81141576e-01 8.18777774e-02\n",
      " 1.52386255e+00 9.31975596e-01 1.17486069e+00 1.39567319e+00\n",
      " 1.25582238e+00 1.27606281e+00 1.57292236e+00 2.08234970e-01\n",
      " 6.60271112e-01 1.32329047e+00 1.01110513e+00 1.50362212e+00\n",
      " 1.89826707e-01 1.34844554e+00 1.53735616e+00 1.24724342e+00\n",
      " 4.44373253e-01 7.00751961e-01 4.78107294e-01 1.40766889e-01\n",
      " 8.55928547e-01 1.58458382e+00 1.61157105e+00 1.13254768e+00\n",
      " 1.46988808e+00 7.88460466e-01 5.60901152e-01 1.33003727e+00\n",
      " 1.53735616e+00 1.09389899e+00 9.09903011e-01 1.17486069e+00\n",
      " 1.59316279e+00 9.31975596e-01 4.24132829e-01 1.57966917e+00\n",
      " 1.27606281e+00 1.19510111e+00 1.65879871e+00 9.25228788e-01\n",
      " 1.36868596e+00 1.10064580e+00 1.10064580e+00 1.41591362e+00\n",
      " 4.13969289e-02 1.52386255e+00 6.75596889e-01 1.24724342e+00\n",
      " 1.40425216e+00 1.33003727e+00 1.36193915e+00 2.97775636e-01\n",
      " 1.08865010e-01 8.03786243e-01 5.11841334e-01 6.83841612e-02\n",
      " 1.18160750e+00 1.55268194e+00 1.09206683e+00 6.41862849e-01\n",
      " 1.49870748e+00 1.01968410e+00 6.89090505e-01 9.45469212e-01\n",
      " 1.45639447e+00 6.26537072e-01 3.56664748e-01 4.66445838e-01\n",
      " 8.44267091e-01 5.47407535e-01 9.97611516e-01 1.49012851e+00\n",
      " 8.89662587e-01 4.59699030e-01 6.65520005e-02 1.28280962e+00\n",
      " 2.95943475e-01 8.10533051e-01 8.49181738e-01 1.11230725e+00\n",
      " 1.62839474e-01 1.08532002e+00 7.63305394e-01 1.57966917e+00\n",
      " 2.35222203e-01 7.22824546e-01 1.73301360e+00 5.38828567e-01\n",
      " 5.32081758e-01 5.83072772e-03 5.74394768e-01 1.39075855e+00\n",
      " 1.29447107e+00 1.35702451e+00 1.69586283e-01 2.97775636e-01\n",
      " 1.55942875e+00 8.64507515e-01 1.22208834e+00 7.29571354e-01\n",
      " 1.14787345e+00 7.51309693e-02 6.48609657e-01 1.52569471e+00\n",
      " 7.70052202e-01 6.53524304e-01 1.05833279e+00 1.69927956e+00\n",
      " 6.68850081e-01 1.22700299e+00 5.59068991e-01 5.74394768e-01\n",
      " 1.14112665e+00 4.81437370e-02 6.28369232e-01 1.28772426e+00\n",
      " 1.83079899e-01 1.17486069e+00 2.14981778e-01 1.61340321e+00\n",
      " 1.33495192e+00 2.84282020e-01 7.90292626e-01 7.54726425e-01\n",
      " 1.03992453e+00 1.32145830e+00 1.61007314e-01 1.08040537e+00\n",
      " 1.56434340e+00 6.14875616e-01 9.16080364e-04 3.28179601e-02\n",
      " 1.55268194e+00 1.57783701e+00 6.65520005e-02 3.95647682e-02\n",
      " 2.37054363e-01 3.38256485e-01 3.92230949e-01 1.35519234e+00\n",
      " 5.92803031e-01 6.13043455e-01 9.30143436e-01 5.47407535e-01\n",
      " 1.22025618e+00 1.42449259e+00 9.79203253e-01 9.50383860e-01\n",
      " 4.98347718e-01 4.19218182e-01 9.92696869e-01 6.53524304e-01\n",
      " 3.51750101e-01 1.35519234e+00 1.37726493e+00 7.07498769e-01\n",
      " 4.05724566e-01 1.01968410e+00 1.54410297e+00 3.45003293e-01\n",
      " 1.51711574e+00 1.50545428e+00 1.21534154e+00 1.00286041e-01\n",
      " 1.47663489e+00 3.28179601e-02 8.76168971e-01 1.64530509e+00\n",
      " 1.04667133e+00 3.83651981e-01 3.04522444e-01 1.69253275e+00\n",
      " 2.10067131e-01 8.89662587e-01 6.48609657e-01 2.60711520e-02\n",
      " 1.01110513e+00 1.74500930e-01 3.43171132e-01 9.53713936e-02\n",
      " 1.29630323e+00 1.05158598e+00 2.28475395e-01 5.60901152e-01\n",
      " 1.73301360e+00 8.69422163e-01 6.21622424e-01 6.21622424e-01\n",
      " 8.49181738e-01 6.46777496e-01 8.08700890e-01 1.27273273e-01\n",
      " 1.44096965e-02 4.05724566e-01 8.01954082e-01 1.96573515e-01\n",
      " 1.59316279e+00 5.67647960e-01 1.00619049e+00 6.75596889e-01\n",
      " 3.83651981e-01 2.28475395e-01 1.61007314e-01 1.64530509e+00\n",
      " 1.35519234e+00 1.61157105e+00 1.60665640e+00 6.73764728e-01\n",
      " 1.02459875e+00 1.02643091e+00 7.76799010e-01 1.66554552e+00\n",
      " 1.57966917e+00 1.56617556e+00 1.43123939e+00 5.40660727e-01\n",
      " 5.92803031e-01 1.06691176e+00 1.19326895e+00 1.36377131e+00\n",
      " 1.42599050e-01 2.79033127e-02 9.38722404e-01 1.32820511e+00\n",
      " 6.60271112e-01 1.37543277e+00 7.41232809e-01 1.74500930e-01\n",
      " 7.02584121e-01 1.13929449e+00 1.42449259e+00 2.89196667e-01\n",
      " 1.33495192e+00 9.43637052e-01 5.20420303e-01 7.27739193e-01\n",
      " 6.19790264e-01 1.00435832e+00 1.51036893e+00 8.00456167e-02\n",
      " 2.37054363e-01 1.17977533e+00 1.53735616e+00 1.13929449e+00\n",
      " 1.03809236e+00 5.59068991e-01 1.09206683e+00 7.02584121e-01\n",
      " 2.35222203e-01 1.59316279e+00 3.65243717e-01 1.02118202e-01\n",
      " 1.36868596e+00 1.43798620e+00 2.37054363e-01 6.06296647e-01\n",
      " 5.60901152e-01 1.10064580e+00 1.45639447e+00 2.91028828e-01\n",
      " 8.51013899e-01 1.59316279e+00 1.10739261e+00 6.46777496e-01\n",
      " 1.45147982e+00 4.84854102e-01 9.72456445e-01 8.62675355e-01\n",
      " 1.51894790e+00 7.09330929e-01 1.63181148e+00 9.52216020e-01\n",
      " 5.86056223e-01 5.27167111e-01 1.45822663e+00 1.10739261e+00\n",
      " 2.91028828e-01 4.91600910e-01 1.71951998e+00 7.02584121e-01\n",
      " 1.67754122e-01 5.05094526e-01 6.40030688e-01 1.53918832e+00\n",
      " 9.79203253e-01 1.33678408e+00 6.82343697e-01 1.44290085e+00\n",
      " 1.19510111e+00 1.39567319e+00 1.22358626e-01 1.20676257e+00\n",
      " 1.22883515e+00 1.33678408e+00 9.97611516e-01 1.28772426e+00\n",
      " 1.71277317e+00 1.26931600e+00 8.86245855e-02 5.00179879e-01\n",
      " 9.38722404e-01 4.81437370e-02 4.05724566e-01 1.76333091e-01\n",
      " 1.15462026e+00 4.79939454e-01 6.82343697e-01 5.65815799e-01\n",
      " 5.54154343e-01 6.48609657e-01 1.55268194e+00 3.76905172e-01\n",
      " 1.09881364e+00 8.00456167e-02 4.44373253e-01 1.13779657e-01\n",
      " 9.38722404e-01 1.43123939e+00 1.54593513e+00 8.64507515e-01\n",
      " 4.32711798e-01 1.49345858e-01 1.39075855e+00 7.54726425e-01\n",
      " 7.63305394e-01 1.94741354e-01 9.92696869e-01 3.18016060e-01\n",
      " 5.59068991e-01 1.61007314e-01 5.20420303e-01 1.22700299e+00\n",
      " 7.49811778e-01 6.73764728e-01 9.16080364e-04 7.09330929e-01\n",
      " 3.71990525e-01 1.61340321e+00 5.13673495e-01 1.59807744e+00\n",
      " 1.07032849e-01 1.69586283e-01 2.08234970e-01 1.47513698e-01\n",
      " 1.36377131e+00 1.28955642e+00 1.49870748e+00 1.17977533e+00\n",
      " 8.17279859e-01 1.01785194e+00 7.02584121e-01 1.34020081e-01\n",
      " 1.24724342e+00 8.24026667e-01 1.45147982e+00 9.45469212e-01\n",
      " 9.50383860e-01 1.20526465e-01 5.18588142e-01 3.98977757e-01\n",
      " 8.28941314e-01 9.18481980e-01 1.69253275e+00 4.12471374e-01\n",
      " 2.77535212e-01 1.07365857e+00 9.50383860e-01 1.51220109e+00\n",
      " 1.27423065e+00 1.81247738e-01 1.73301360e+00 2.14981778e-01\n",
      " 1.54410297e+00 9.53713936e-02 8.28941314e-01 1.15278810e+00\n",
      " 9.11735172e-01 7.43064970e-01 1.44290085e+00 6.80511536e-01\n",
      " 8.37520283e-01 1.01785194e+00 1.67903913e+00 8.69422163e-01\n",
      " 7.95207274e-01 1.25399022e+00 7.41232809e-01 1.47513698e-01\n",
      " 1.28772426e+00 1.52569471e+00 1.07365857e+00 3.36424324e-01\n",
      " 4.66445838e-01 2.84282020e-01 1.11413941e+00 2.08234970e-01\n",
      " 8.18777774e-02]\n"
     ]
    }
   ],
   "source": [
    "zsc = abs(stats.zscore(df['length']) )\n",
    "print(\"Z score :\\n\" ,zsc)"
   ]
  },
  {
   "cell_type": "markdown",
   "id": "8b5cd34a",
   "metadata": {},
   "source": [
    "# Classifier"
   ]
  },
  {
   "cell_type": "code",
   "execution_count": 18,
   "id": "1700e334",
   "metadata": {},
   "outputs": [],
   "source": [
    "from sklearn.preprocessing import LabelEncoder\n",
    "from sklearn.model_selection import train_test_split\n",
    "\n",
    "col = ['mainroad', 'guestroom', 'basement', 'hotwaterheating','airconditioning', 'prefarea', 'furnishingstatus']\n",
    "df[col] = df[col].apply(LabelEncoder().fit_transform)\n",
    "x = df.drop(['furnishingstatus'], axis = 1)\n",
    "y = df['furnishingstatus']\n",
    "\n",
    "X_train,X_test,y_train,y_test = train_test_split(x,y,test_size = 0.2,random_state = 51)"
   ]
  },
  {
   "cell_type": "code",
   "execution_count": 19,
   "id": "c9cdca66",
   "metadata": {},
   "outputs": [
    {
     "name": "stdout",
     "output_type": "stream",
     "text": [
      "Accuracy :  42.201834862385326\n",
      "Report : \n",
      "               precision    recall  f1-score   support\n",
      "\n",
      "           0       0.24      0.24      0.24        25\n",
      "           1       0.49      0.51      0.50        45\n",
      "           2       0.46      0.44      0.45        39\n",
      "\n",
      "    accuracy                           0.42       109\n",
      "   macro avg       0.40      0.40      0.40       109\n",
      "weighted avg       0.42      0.42      0.42       109\n",
      "\n",
      "F1 Score :  39.578947368421055\n"
     ]
    }
   ],
   "source": [
    "from sklearn.metrics import accuracy_score\n",
    "from sklearn.metrics import f1_score\n",
    "from sklearn.metrics import classification_report\n",
    "from sklearn.ensemble import BaggingClassifier\n",
    "from sklearn.neighbors import KNeighborsClassifier\n",
    "\n",
    "c5 = BaggingClassifier(KNeighborsClassifier(),max_samples=0.5, max_features=0.5)\n",
    "c5.fit(X_train, y_train)\n",
    "p = c5.predict(X_test)\n",
    "print (\"Accuracy : \" , accuracy_score(y_test,p)*100)  \n",
    "print(\"Report : \\n\", classification_report(y_test, p))\n",
    "print(\"F1 Score : \",f1_score(y_test, p, average='macro')*100)"
   ]
  },
  {
   "cell_type": "markdown",
   "id": "c2786e3f",
   "metadata": {},
   "source": [
    "# Normalize the data and feed the data to any classifier."
   ]
  },
  {
   "cell_type": "code",
   "execution_count": 20,
   "id": "f5864bdf",
   "metadata": {},
   "outputs": [],
   "source": [
    "# narr = np.array(df.drop(['furnishingstatus'], axis=1)) #convert df to array and drop label col\n",
    "# m1 = np.mean(narr,axis = 0) #mean of all col\n",
    "# onearr = np.onearr(narr.shape) \n",
    "# print(onearr.shape) #same as np array\n",
    "# mean1 = m1 * onearr #duplicate rows 1x14 array and 14x545\n",
    "# Z1 = narr - mean1 #zero centralize\n",
    "# z = Z1/std \n",
    "# z"
   ]
  },
  {
   "cell_type": "code",
   "execution_count": 21,
   "id": "bcd8aa22",
   "metadata": {},
   "outputs": [
    {
     "data": {
      "text/html": [
       "<div>\n",
       "<style scoped>\n",
       "    .dataframe tbody tr th:only-of-type {\n",
       "        vertical-align: middle;\n",
       "    }\n",
       "\n",
       "    .dataframe tbody tr th {\n",
       "        vertical-align: top;\n",
       "    }\n",
       "\n",
       "    .dataframe thead th {\n",
       "        text-align: right;\n",
       "    }\n",
       "</style>\n",
       "<table border=\"1\" class=\"dataframe\">\n",
       "  <thead>\n",
       "    <tr style=\"text-align: right;\">\n",
       "      <th></th>\n",
       "      <th>0</th>\n",
       "      <th>1</th>\n",
       "      <th>2</th>\n",
       "      <th>3</th>\n",
       "      <th>4</th>\n",
       "      <th>5</th>\n",
       "      <th>6</th>\n",
       "      <th>7</th>\n",
       "      <th>8</th>\n",
       "      <th>9</th>\n",
       "      <th>10</th>\n",
       "      <th>11</th>\n",
       "      <th>12</th>\n",
       "      <th>13</th>\n",
       "    </tr>\n",
       "  </thead>\n",
       "  <tbody>\n",
       "    <tr>\n",
       "      <th>0</th>\n",
       "      <td>0.986394</td>\n",
       "      <td>0.164399</td>\n",
       "      <td>0.000399</td>\n",
       "      <td>0.000277</td>\n",
       "      <td>0.000003</td>\n",
       "      <td>1.345790e-06</td>\n",
       "      <td>0.000002</td>\n",
       "      <td>6.728948e-07</td>\n",
       "      <td>0.000000</td>\n",
       "      <td>0.000000e+00</td>\n",
       "      <td>0.0</td>\n",
       "      <td>6.728948e-07</td>\n",
       "      <td>1.345790e-06</td>\n",
       "      <td>6.728948e-07</td>\n",
       "    </tr>\n",
       "    <tr>\n",
       "      <th>1</th>\n",
       "      <td>0.992278</td>\n",
       "      <td>0.124035</td>\n",
       "      <td>0.000233</td>\n",
       "      <td>0.000169</td>\n",
       "      <td>0.000001</td>\n",
       "      <td>1.270561e-06</td>\n",
       "      <td>0.000001</td>\n",
       "      <td>3.176403e-07</td>\n",
       "      <td>0.000000</td>\n",
       "      <td>0.000000e+00</td>\n",
       "      <td>0.0</td>\n",
       "      <td>3.176403e-07</td>\n",
       "      <td>9.529209e-07</td>\n",
       "      <td>0.000000e+00</td>\n",
       "    </tr>\n",
       "    <tr>\n",
       "      <th>2</th>\n",
       "      <td>0.970142</td>\n",
       "      <td>0.242536</td>\n",
       "      <td>0.000318</td>\n",
       "      <td>0.000487</td>\n",
       "      <td>0.000002</td>\n",
       "      <td>1.276590e-06</td>\n",
       "      <td>0.000001</td>\n",
       "      <td>6.382952e-07</td>\n",
       "      <td>0.000000</td>\n",
       "      <td>6.382952e-07</td>\n",
       "      <td>0.0</td>\n",
       "      <td>0.000000e+00</td>\n",
       "      <td>1.276590e-06</td>\n",
       "      <td>6.382952e-07</td>\n",
       "    </tr>\n",
       "    <tr>\n",
       "      <th>3</th>\n",
       "      <td>0.970142</td>\n",
       "      <td>0.242536</td>\n",
       "      <td>0.000322</td>\n",
       "      <td>0.000635</td>\n",
       "      <td>0.000003</td>\n",
       "      <td>1.684111e-06</td>\n",
       "      <td>0.000002</td>\n",
       "      <td>8.420555e-07</td>\n",
       "      <td>0.000000</td>\n",
       "      <td>8.420555e-07</td>\n",
       "      <td>0.0</td>\n",
       "      <td>8.420555e-07</td>\n",
       "      <td>2.526167e-06</td>\n",
       "      <td>8.420555e-07</td>\n",
       "    </tr>\n",
       "    <tr>\n",
       "      <th>4</th>\n",
       "      <td>0.970142</td>\n",
       "      <td>0.242536</td>\n",
       "      <td>0.000550</td>\n",
       "      <td>0.000482</td>\n",
       "      <td>0.000004</td>\n",
       "      <td>1.093374e-06</td>\n",
       "      <td>0.000002</td>\n",
       "      <td>1.093374e-06</td>\n",
       "      <td>0.000001</td>\n",
       "      <td>1.093374e-06</td>\n",
       "      <td>0.0</td>\n",
       "      <td>1.093374e-06</td>\n",
       "      <td>2.186749e-06</td>\n",
       "      <td>0.000000e+00</td>\n",
       "    </tr>\n",
       "    <tr>\n",
       "      <th>...</th>\n",
       "      <td>...</td>\n",
       "      <td>...</td>\n",
       "      <td>...</td>\n",
       "      <td>...</td>\n",
       "      <td>...</td>\n",
       "      <td>...</td>\n",
       "      <td>...</td>\n",
       "      <td>...</td>\n",
       "      <td>...</td>\n",
       "      <td>...</td>\n",
       "      <td>...</td>\n",
       "      <td>...</td>\n",
       "      <td>...</td>\n",
       "      <td>...</td>\n",
       "    </tr>\n",
       "    <tr>\n",
       "      <th>540</th>\n",
       "      <td>0.894426</td>\n",
       "      <td>0.447213</td>\n",
       "      <td>0.001112</td>\n",
       "      <td>0.000952</td>\n",
       "      <td>0.000005</td>\n",
       "      <td>2.366958e-06</td>\n",
       "      <td>0.000002</td>\n",
       "      <td>2.366958e-06</td>\n",
       "      <td>0.000000</td>\n",
       "      <td>2.366958e-06</td>\n",
       "      <td>0.0</td>\n",
       "      <td>0.000000e+00</td>\n",
       "      <td>4.733917e-06</td>\n",
       "      <td>0.000000e+00</td>\n",
       "    </tr>\n",
       "    <tr>\n",
       "      <th>541</th>\n",
       "      <td>0.894426</td>\n",
       "      <td>0.447213</td>\n",
       "      <td>0.000920</td>\n",
       "      <td>0.000900</td>\n",
       "      <td>0.000006</td>\n",
       "      <td>1.851493e-06</td>\n",
       "      <td>0.000002</td>\n",
       "      <td>0.000000e+00</td>\n",
       "      <td>0.000000</td>\n",
       "      <td>0.000000e+00</td>\n",
       "      <td>0.0</td>\n",
       "      <td>0.000000e+00</td>\n",
       "      <td>0.000000e+00</td>\n",
       "      <td>0.000000e+00</td>\n",
       "    </tr>\n",
       "    <tr>\n",
       "      <th>542</th>\n",
       "      <td>0.894426</td>\n",
       "      <td>0.447213</td>\n",
       "      <td>0.000918</td>\n",
       "      <td>0.001196</td>\n",
       "      <td>0.000005</td>\n",
       "      <td>2.455353e-06</td>\n",
       "      <td>0.000002</td>\n",
       "      <td>2.455353e-06</td>\n",
       "      <td>0.000000</td>\n",
       "      <td>0.000000e+00</td>\n",
       "      <td>0.0</td>\n",
       "      <td>0.000000e+00</td>\n",
       "      <td>0.000000e+00</td>\n",
       "      <td>0.000000e+00</td>\n",
       "    </tr>\n",
       "    <tr>\n",
       "      <th>543</th>\n",
       "      <td>0.894427</td>\n",
       "      <td>0.447213</td>\n",
       "      <td>0.000694</td>\n",
       "      <td>0.000785</td>\n",
       "      <td>0.000004</td>\n",
       "      <td>1.218299e-06</td>\n",
       "      <td>0.000001</td>\n",
       "      <td>0.000000e+00</td>\n",
       "      <td>0.000000</td>\n",
       "      <td>0.000000e+00</td>\n",
       "      <td>0.0</td>\n",
       "      <td>0.000000e+00</td>\n",
       "      <td>0.000000e+00</td>\n",
       "      <td>0.000000e+00</td>\n",
       "    </tr>\n",
       "    <tr>\n",
       "      <th>544</th>\n",
       "      <td>0.970142</td>\n",
       "      <td>0.242536</td>\n",
       "      <td>0.000315</td>\n",
       "      <td>0.000460</td>\n",
       "      <td>0.000002</td>\n",
       "      <td>5.969122e-07</td>\n",
       "      <td>0.000001</td>\n",
       "      <td>5.969122e-07</td>\n",
       "      <td>0.000000</td>\n",
       "      <td>0.000000e+00</td>\n",
       "      <td>0.0</td>\n",
       "      <td>0.000000e+00</td>\n",
       "      <td>0.000000e+00</td>\n",
       "      <td>0.000000e+00</td>\n",
       "    </tr>\n",
       "  </tbody>\n",
       "</table>\n",
       "<p>545 rows × 14 columns</p>\n",
       "</div>"
      ],
      "text/plain": [
       "           0         1         2         3         4             5         6   \\\n",
       "0    0.986394  0.164399  0.000399  0.000277  0.000003  1.345790e-06  0.000002   \n",
       "1    0.992278  0.124035  0.000233  0.000169  0.000001  1.270561e-06  0.000001   \n",
       "2    0.970142  0.242536  0.000318  0.000487  0.000002  1.276590e-06  0.000001   \n",
       "3    0.970142  0.242536  0.000322  0.000635  0.000003  1.684111e-06  0.000002   \n",
       "4    0.970142  0.242536  0.000550  0.000482  0.000004  1.093374e-06  0.000002   \n",
       "..        ...       ...       ...       ...       ...           ...       ...   \n",
       "540  0.894426  0.447213  0.001112  0.000952  0.000005  2.366958e-06  0.000002   \n",
       "541  0.894426  0.447213  0.000920  0.000900  0.000006  1.851493e-06  0.000002   \n",
       "542  0.894426  0.447213  0.000918  0.001196  0.000005  2.455353e-06  0.000002   \n",
       "543  0.894427  0.447213  0.000694  0.000785  0.000004  1.218299e-06  0.000001   \n",
       "544  0.970142  0.242536  0.000315  0.000460  0.000002  5.969122e-07  0.000001   \n",
       "\n",
       "               7         8             9    10            11            12  \\\n",
       "0    6.728948e-07  0.000000  0.000000e+00  0.0  6.728948e-07  1.345790e-06   \n",
       "1    3.176403e-07  0.000000  0.000000e+00  0.0  3.176403e-07  9.529209e-07   \n",
       "2    6.382952e-07  0.000000  6.382952e-07  0.0  0.000000e+00  1.276590e-06   \n",
       "3    8.420555e-07  0.000000  8.420555e-07  0.0  8.420555e-07  2.526167e-06   \n",
       "4    1.093374e-06  0.000001  1.093374e-06  0.0  1.093374e-06  2.186749e-06   \n",
       "..            ...       ...           ...  ...           ...           ...   \n",
       "540  2.366958e-06  0.000000  2.366958e-06  0.0  0.000000e+00  4.733917e-06   \n",
       "541  0.000000e+00  0.000000  0.000000e+00  0.0  0.000000e+00  0.000000e+00   \n",
       "542  2.455353e-06  0.000000  0.000000e+00  0.0  0.000000e+00  0.000000e+00   \n",
       "543  0.000000e+00  0.000000  0.000000e+00  0.0  0.000000e+00  0.000000e+00   \n",
       "544  5.969122e-07  0.000000  0.000000e+00  0.0  0.000000e+00  0.000000e+00   \n",
       "\n",
       "               13  \n",
       "0    6.728948e-07  \n",
       "1    0.000000e+00  \n",
       "2    6.382952e-07  \n",
       "3    8.420555e-07  \n",
       "4    0.000000e+00  \n",
       "..            ...  \n",
       "540  0.000000e+00  \n",
       "541  0.000000e+00  \n",
       "542  0.000000e+00  \n",
       "543  0.000000e+00  \n",
       "544  0.000000e+00  \n",
       "\n",
       "[545 rows x 14 columns]"
      ]
     },
     "execution_count": 21,
     "metadata": {},
     "output_type": "execute_result"
    }
   ],
   "source": [
    "from sklearn import preprocessing\n",
    "df2 = preprocessing.normalize(x)\n",
    "df2 = pd.DataFrame(df2)\n",
    "df2"
   ]
  },
  {
   "cell_type": "code",
   "execution_count": 25,
   "id": "4021e769",
   "metadata": {},
   "outputs": [
    {
     "name": "stdout",
     "output_type": "stream",
     "text": [
      "Accuracy :  49.11926605504588\n",
      "Report : \n",
      "               precision    recall  f1-score   support\n",
      "\n",
      "           0       0.29      0.20      0.24        25\n",
      "           1       0.48      0.64      0.55        45\n",
      "           2       0.42      0.33      0.37        39\n",
      "\n",
      "    accuracy                           0.43       109\n",
      "   macro avg       0.40      0.39      0.39       109\n",
      "weighted avg       0.41      0.43      0.41       109\n",
      "\n",
      "F1 Score :  43.55645402815214\n"
     ]
    }
   ],
   "source": [
    "from sklearn.metrics import accuracy_score\n",
    "from sklearn.metrics import f1_score\n",
    "from sklearn.metrics import classification_report\n",
    "from sklearn.ensemble import BaggingClassifier\n",
    "from sklearn.neighbors import KNeighborsClassifier\n",
    "\n",
    "c5 = BaggingClassifier(KNeighborsClassifier(),max_samples=0.5, max_features=0.5)\n",
    "c5.fit(X_train, y_train)\n",
    "p = c5.predict(X_test)\n",
    "print (\"Accuracy : \" , accuracy_score(y_test,p)*100)  \n",
    "print(\"Report : \\n\", classification_report(y_test, p))\n",
    "print(\"F1 Score : \",f1_score(y_test, p, average='macro')*100)"
   ]
  },
  {
   "cell_type": "markdown",
   "id": "b799dd5a",
   "metadata": {},
   "source": [
    "# Evaluate your results, was normalization helpful? If yes then which one outperformed rest and why?"
   ]
  },
  {
   "cell_type": "markdown",
   "id": "108c6369",
   "metadata": {},
   "source": [
    "#### Yes,normalization was helpful. Classifier applied on the normalized data gave a higher accuracy than the original data. It gives equal weight to every feature."
   ]
  },
  {
   "cell_type": "markdown",
   "id": "059d279b",
   "metadata": {},
   "source": [
    "# Plot the area w.r.t to its independent variables in 2D and 3D"
   ]
  },
  {
   "cell_type": "code",
   "execution_count": 50,
   "id": "614d77f6",
   "metadata": {},
   "outputs": [
    {
     "data": {
      "image/png": "[encoded data removed]",
      "text/plain": [
       "<Figure size 432x288 with 1 Axes>"
      ]
     },
     "metadata": {
      "needs_background": "light"
     },
     "output_type": "display_data"
    }
   ],
   "source": [
    "#2D\n",
    "import matplotlib.pyplot as plt\n",
    "\n",
    "plt.scatter(df['width'], df['area'], color = \"purple\")\n",
    "plt.title(\"Area against width\") \n",
    "plt.xlabel(\"area\") \n",
    "plt.ylabel(\"width\") \n",
    "plt.show()\n"
   ]
  },
  {
   "cell_type": "code",
   "execution_count": 51,
   "id": "b11658e8",
   "metadata": {},
   "outputs": [
    {
     "data": {
      "image/png": "[encoded data removed]",
      "text/plain": [
       "<Figure size 432x288 with 1 Axes>"
      ]
     },
     "metadata": {
      "needs_background": "light"
     },
     "output_type": "display_data"
    }
   ],
   "source": [
    "plt.scatter(df['area'], df['length'], color = \"red\")\n",
    "plt.title(\"Area against Length\") \n",
    "plt.xlabel(\"length\") \n",
    "plt.ylabel(\"Area\") \n",
    "plt.show()"
   ]
  },
  {
   "cell_type": "code",
   "execution_count": 52,
   "id": "ceb1d623",
   "metadata": {},
   "outputs": [
    {
     "data": {
      "image/png": "[encoded data removed]",
      "text/plain": [
       "<Figure size 720x576 with 1 Axes>"
      ]
     },
     "metadata": {
      "needs_background": "light"
     },
     "output_type": "display_data"
    }
   ],
   "source": [
    "#3D\n",
    "from mpl_toolkits.mplot3d import Axes3D\n",
    "\n",
    "fig = plt.figure(figsize = (10,8))\n",
    "axis = fig.add_subplot( projection ='3d')\n",
    "axis.scatter(df['area'], df['width'], df['length'], color = 'yellow')\n",
    "plt.title(\"area against Width and Length\") \n",
    "plt.xlabel(\"Length\") \n",
    "plt.ylabel(\"Width\")\n",
    "plt.show()"
   ]
  },
  {
   "cell_type": "markdown",
   "id": "84a08aca",
   "metadata": {},
   "source": [
    "# Find the covariance &amp; correlation matrix of the normalized data"
   ]
  },
  {
   "cell_type": "code",
   "execution_count": 53,
   "id": "a5048728",
   "metadata": {},
   "outputs": [
    {
     "name": "stdout",
     "output_type": "stream",
     "text": [
      "Covariance Matrix: \n",
      " [[1.27517602e+10 1.16483998e+07]\n",
      " [1.16483998e+07 2.19686458e+04]]\n"
     ]
    }
   ],
   "source": [
    "covar = np.cov(df['area'], df['length'], bias = True)\n",
    "print(\"Covariance Matrix: \\n\", covar)\n",
    "# print(int(covar))"
   ]
  },
  {
   "cell_type": "code",
   "execution_count": 54,
   "id": "846ffc27",
   "metadata": {},
   "outputs": [
    {
     "name": "stdout",
     "output_type": "stream",
     "text": [
      "Corelation Matrix: \n",
      " [[1.         0.67742526]\n",
      " [0.67742526 1.        ]]\n"
     ]
    }
   ],
   "source": [
    "corel = np.corrcoef(df['area'], df['width'])\n",
    "print(\"Corelation Matrix: \\n\", corel)"
   ]
  },
  {
   "cell_type": "markdown",
   "id": "24c00612",
   "metadata": {},
   "source": [
    "# Find the correlation of length and area and plot it,."
   ]
  },
  {
   "cell_type": "code",
   "execution_count": 56,
   "id": "8731eed3",
   "metadata": {},
   "outputs": [
    {
     "data": {
      "text/plain": [
       "[<matplotlib.lines.Line2D at 0x218f3282760>]"
      ]
     },
     "execution_count": 56,
     "metadata": {},
     "output_type": "execute_result"
    },
    {
     "data": {
      "image/png": "[encoded data removed]",
      "text/plain": [
       "<Figure size 432x288 with 1 Axes>"
      ]
     },
     "metadata": {
      "needs_background": "light"
     },
     "output_type": "display_data"
    }
   ],
   "source": [
    "plt.scatter(df['area'], df['length'], color = \"pink\")\n",
    "plt.plot(np.unique(df['area']), np.poly1d(np.polyfit(df['area'], df['length'], 1))(np.unique(df['area'])), color ='green')"
   ]
  },
  {
   "cell_type": "code",
   "execution_count": null,
   "id": "f0df6934",
   "metadata": {},
   "outputs": [],
   "source": []
  }
 ],
 "metadata": {
  "kernelspec": {
   "display_name": "Python 3",
   "language": "python",
   "name": "python3"
  },
  "language_info": {
   "codemirror_mode": {
    "name": "ipython",
    "version": 3
   },
   "file_extension": ".py",
   "mimetype": "text/x-python",
   "name": "python",
   "nbconvert_exporter": "python",
   "pygments_lexer": "ipython3",
   "version": "3.8.8"
  }
 },
 "nbformat": 4,
 "nbformat_minor": 5
}
