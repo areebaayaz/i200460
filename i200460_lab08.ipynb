{
 "cells": [
  {
   "cell_type": "markdown",
   "id": "2410c07e",
   "metadata": {},
   "source": [
    "# Areeba Ayaz\n",
    "# 20i-0460"
   ]
  },
  {
   "cell_type": "markdown",
   "id": "2886a003",
   "metadata": {},
   "source": [
    "## Task01"
   ]
  },
  {
   "cell_type": "code",
   "execution_count": 38,
   "id": "17a8b005",
   "metadata": {},
   "outputs": [],
   "source": [
    "import pandas as pd \n",
    "import numpy as np "
   ]
  },
  {
   "cell_type": "code",
   "execution_count": 39,
   "id": "56095ea8",
   "metadata": {},
   "outputs": [
    {
     "data": {
      "text/html": [
       "<div>\n",
       "<style scoped>\n",
       "    .dataframe tbody tr th:only-of-type {\n",
       "        vertical-align: middle;\n",
       "    }\n",
       "\n",
       "    .dataframe tbody tr th {\n",
       "        vertical-align: top;\n",
       "    }\n",
       "\n",
       "    .dataframe thead th {\n",
       "        text-align: right;\n",
       "    }\n",
       "</style>\n",
       "<table border=\"1\" class=\"dataframe\">\n",
       "  <thead>\n",
       "    <tr style=\"text-align: right;\">\n",
       "      <th></th>\n",
       "      <th>day</th>\n",
       "      <th>outlook</th>\n",
       "      <th>temp</th>\n",
       "      <th>humidity</th>\n",
       "      <th>wind</th>\n",
       "      <th>play</th>\n",
       "    </tr>\n",
       "  </thead>\n",
       "  <tbody>\n",
       "    <tr>\n",
       "      <th>0</th>\n",
       "      <td>D1</td>\n",
       "      <td>Sunny</td>\n",
       "      <td>Hot</td>\n",
       "      <td>High</td>\n",
       "      <td>Weak</td>\n",
       "      <td>No</td>\n",
       "    </tr>\n",
       "    <tr>\n",
       "      <th>1</th>\n",
       "      <td>D2</td>\n",
       "      <td>Sunny</td>\n",
       "      <td>Hot</td>\n",
       "      <td>High</td>\n",
       "      <td>Strong</td>\n",
       "      <td>No</td>\n",
       "    </tr>\n",
       "    <tr>\n",
       "      <th>2</th>\n",
       "      <td>D3</td>\n",
       "      <td>Overcast</td>\n",
       "      <td>Hot</td>\n",
       "      <td>High</td>\n",
       "      <td>Weak</td>\n",
       "      <td>Yes</td>\n",
       "    </tr>\n",
       "    <tr>\n",
       "      <th>3</th>\n",
       "      <td>D4</td>\n",
       "      <td>Rain</td>\n",
       "      <td>Mild</td>\n",
       "      <td>High</td>\n",
       "      <td>Weak</td>\n",
       "      <td>Yes</td>\n",
       "    </tr>\n",
       "    <tr>\n",
       "      <th>4</th>\n",
       "      <td>D5</td>\n",
       "      <td>Rain</td>\n",
       "      <td>Cool</td>\n",
       "      <td>Normal</td>\n",
       "      <td>Weak</td>\n",
       "      <td>Yes</td>\n",
       "    </tr>\n",
       "  </tbody>\n",
       "</table>\n",
       "</div>"
      ],
      "text/plain": [
       "  day   outlook  temp humidity    wind play\n",
       "0  D1     Sunny   Hot     High    Weak   No\n",
       "1  D2     Sunny   Hot     High  Strong   No\n",
       "2  D3  Overcast   Hot     High    Weak  Yes\n",
       "3  D4      Rain  Mild     High    Weak  Yes\n",
       "4  D5      Rain  Cool   Normal    Weak  Yes"
      ]
     },
     "execution_count": 39,
     "metadata": {},
     "output_type": "execute_result"
    }
   ],
   "source": [
    "df = pd.read_csv(\"play_tennis.csv\")  \n",
    "df.head()"
   ]
  },
  {
   "cell_type": "code",
   "execution_count": 40,
   "id": "41045a42",
   "metadata": {},
   "outputs": [],
   "source": [
    "def entropy(cl): #entropy of class labels  \n",
    "    res = 0\n",
    "    unique , count = np.unique(cl, return_counts=True)\n",
    "    size = len(cl)\n",
    "    for i in count: # applying entropy ka formula pilog2(pi) \n",
    "        res += i/size * np.log2(i/size)  \n",
    "    res *= -1\n",
    "    return res"
   ]
  },
  {
   "cell_type": "code",
   "execution_count": 41,
   "id": "8493da63",
   "metadata": {},
   "outputs": [],
   "source": [
    " def find(feature, label):\n",
    "        \n",
    "    #entropy of each column w.r.t t to the class  \n",
    "    ulabel , clabel = np.unique(label , return_counts=True)\n",
    "    ufeature , cfeature = np.unique(feature , return_counts=True)\n",
    "    \n",
    "    entropies = []\n",
    "    yes = []\n",
    "    ycount = 0\n",
    "    no  = []\n",
    "    ncount  = 0\n",
    "    size = len(feature)\n",
    "    \n",
    "    for i in ufeature: \n",
    "        ycount = 0\n",
    "        ncount  = 0 \n",
    "        for j in range(size):\n",
    "            if i == feature[j]:\n",
    "                if label[j] == 'Yes':\n",
    "                    ycount = ycount + 1\n",
    "                else:\n",
    "                    ncount = ncount + 1\n",
    "        yes.append(ycount)\n",
    "        no.append(ncount)\n",
    "     \n",
    "    #applying entropy formula on yes and no arrays\n",
    "    size2 = len(ufeature)\n",
    "    for i in range(0, size2):  \n",
    "        res = 0\n",
    "        if (yes[i] == 0):\n",
    "            res += (no[i]/(cfeature[i]) * np.log2(no[i]/(cfeature[i])))\n",
    "        elif (no[i] == 0):\n",
    "            res += (yes[i]/(cfeature[i]) * np.log2(yes[i]/(cfeature[i])))      \n",
    "        else:\n",
    "            res += (yes[i]/(cfeature[i]) * np.log2(yes[i]/(cfeature[i])))\n",
    "            res += (no[i]/(cfeature[i]) * np.log2(no[i]/(cfeature[i])))\n",
    "        res *= -1\n",
    "        entropies.append(res)\n",
    "    \n",
    "#finding the information gain from the entropies\n",
    "    arr, countFeature = entropies, cfeature\n",
    "    ans = 0\n",
    "    label_en = entropy(label) \n",
    "    size3 = len(countFeature)\n",
    "    sizel = len(label)\n",
    "    for i in range(size3):\n",
    "        #the split entropy\n",
    "        ans += arr[i] * countFeature[i]/sizel \n",
    "    \n",
    "    #finding information gain\n",
    "    infog = label_en - ans    \n",
    "    \n",
    "    print(\"Information Gain:\\n\", infog)    \n",
    "    \n",
    "    return infog"
   ]
  },
  {
   "cell_type": "code",
   "execution_count": 42,
   "id": "fe66b4c2",
   "metadata": {},
   "outputs": [
    {
     "name": "stdout",
     "output_type": "stream",
     "text": [
      "Information Gain:\n",
      " 0.24674981977443922\n",
      "----------------------------------\n",
      "Information Gain:\n",
      " 0.15183550136234159\n",
      "----------------------------------\n",
      "Information Gain:\n",
      " 0.02922256565895487\n",
      "----------------------------------\n",
      "Information Gain:\n",
      " 0.04812703040826949\n"
     ]
    }
   ],
   "source": [
    "#Finding the information gain of each column/feature\n",
    "infog1 = find(np.array(df['outlook']) , np.array(df['play']))\n",
    "print(\"----------------------------------\")\n",
    "infog2 = find(np.array(df['humidity']) , np.array(df['play']))\n",
    "print(\"----------------------------------\")\n",
    "infog3 = find(np.array(df['temp']) , np.array(df['play']))\n",
    "print(\"----------------------------------\")\n",
    "infog4 = find(np.array(df['wind']) , np.array(df['play']))"
   ]
  },
  {
   "cell_type": "code",
   "execution_count": 43,
   "id": "f4043b75",
   "metadata": {},
   "outputs": [
    {
     "name": "stdout",
     "output_type": "stream",
     "text": [
      "    day outlook  temp humidity    wind play\n",
      "0    D1   Sunny   Hot     High    Weak   No\n",
      "1    D2   Sunny   Hot     High  Strong   No\n",
      "7    D8   Sunny  Mild     High    Weak   No\n",
      "8    D9   Sunny  Cool   Normal    Weak  Yes\n",
      "10  D11   Sunny  Mild   Normal  Strong  Yes\n",
      "----------------------------------\n",
      "    day   outlook  temp humidity    wind play\n",
      "2    D3  Overcast   Hot     High    Weak  Yes\n",
      "6    D7  Overcast  Cool   Normal  Strong  Yes\n",
      "11  D12  Overcast  Mild     High  Strong  Yes\n",
      "12  D13  Overcast   Hot   Normal    Weak  Yes\n",
      "----------------------------------\n",
      "    day outlook  temp humidity    wind play\n",
      "3    D4    Rain  Mild     High    Weak  Yes\n",
      "4    D5    Rain  Cool   Normal    Weak  Yes\n",
      "5    D6    Rain  Cool   Normal  Strong   No\n",
      "9   D10    Rain  Mild   Normal    Weak  Yes\n",
      "13  D14    Rain  Mild     High  Strong   No\n"
     ]
    }
   ],
   "source": [
    "outl = []\n",
    "#finding unique values of featuree \"outlook\"\n",
    "for i in df['outlook'].unique():\n",
    "    #storing unique values in a list\n",
    "    outl.append(df[df['outlook'] == i])\n",
    "#print(outl)  \n",
    "# splitting the data based on these unique values\n",
    "\n",
    "ans1 = pd.DataFrame(outl[0])\n",
    "print(ans1)\n",
    "print(\"----------------------------------\")\n",
    "\n",
    "ans2 = pd.DataFrame(outl[1])\n",
    "print(ans2)\n",
    "print(\"----------------------------------\")\n",
    "\n",
    "ans3 = pd.DataFrame(outl[2])\n",
    "print(ans3)"
   ]
  },
  {
   "cell_type": "code",
   "execution_count": 44,
   "id": "4eae709f",
   "metadata": {},
   "outputs": [
    {
     "name": "stdout",
     "output_type": "stream",
     "text": [
      "Information Gain:\n",
      " 0.9709505944546686\n",
      "----------------------------------\n",
      "Information Gain:\n",
      " 0.5709505944546686\n",
      "----------------------------------\n",
      "Information Gain:\n",
      " 0.01997309402197478\n"
     ]
    }
   ],
   "source": [
    "infog2 = find(np.array(ans1['humidity']) , np.array(ans1['play']))\n",
    "print(\"----------------------------------\")\n",
    "infog3 = find(np.array(ans1['temp']) , np.array(ans1['play']))\n",
    "print(\"----------------------------------\")\n",
    "infog4 = find(np.array(ans1['wind']) , np.array(ans1['play']))"
   ]
  },
  {
   "cell_type": "code",
   "execution_count": 45,
   "id": "9c1892aa",
   "metadata": {},
   "outputs": [
    {
     "name": "stdout",
     "output_type": "stream",
     "text": [
      "  day outlook  temp humidity    wind play\n",
      "0  D1   Sunny   Hot     High    Weak   No\n",
      "1  D2   Sunny   Hot     High  Strong   No\n",
      "7  D8   Sunny  Mild     High    Weak   No\n",
      "----------------------------------\n",
      "    day outlook  temp humidity    wind play\n",
      "8    D9   Sunny  Cool   Normal    Weak  Yes\n",
      "10  D11   Sunny  Mild   Normal  Strong  Yes\n"
     ]
    }
   ],
   "source": [
    "humid = [] #Highest info gain\n",
    "for i in ans1['humidity'].unique():\n",
    "    humid.append(ans1[ans1['humidity'] == i]) \n",
    "    \n",
    "df2 = pd.DataFrame(humid[0])\n",
    "print(df2)\n",
    "print(\"----------------------------------\")\n",
    "df3 = pd.DataFrame(humid[1])\n",
    "print(df3)"
   ]
  },
  {
   "cell_type": "code",
   "execution_count": 46,
   "id": "2792efc2",
   "metadata": {},
   "outputs": [
    {
     "name": "stdout",
     "output_type": "stream",
     "text": [
      "Information Gain:\n",
      " 0.01997309402197478\n",
      "----------------------------------\n",
      "Information Gain:\n",
      " 0.01997309402197478\n",
      "----------------------------------\n",
      "Information Gain:\n",
      " 0.9709505944546686\n"
     ]
    }
   ],
   "source": [
    "infog2 = find(np.array(ans3['humidity']) , np.array(ans3['play']))\n",
    "print(\"----------------------------------\")\n",
    "infog3 = find(np.array(ans3['temp']) , np.array(ans3['play']))\n",
    "print(\"----------------------------------\")\n",
    "infog4 = find(np.array(ans3['wind']) , np.array(ans3['play']))"
   ]
  },
  {
   "cell_type": "code",
   "execution_count": 47,
   "id": "3b863c09",
   "metadata": {},
   "outputs": [
    {
     "name": "stdout",
     "output_type": "stream",
     "text": [
      "   day outlook  temp humidity  wind play\n",
      "3   D4    Rain  Mild     High  Weak  Yes\n",
      "4   D5    Rain  Cool   Normal  Weak  Yes\n",
      "9  D10    Rain  Mild   Normal  Weak  Yes\n",
      "----------------------------------\n",
      "    day outlook  temp humidity    wind play\n",
      "5    D6    Rain  Cool   Normal  Strong   No\n",
      "13  D14    Rain  Mild     High  Strong   No\n"
     ]
    }
   ],
   "source": [
    "wind = [] #for this column\n",
    "for i in ans3['wind'].unique():\n",
    "    wind.append(ans3[ans3['wind'] == i]) \n",
    "    \n",
    "df3 = pd.DataFrame(wind[0])\n",
    "print(df3)\n",
    "print(\"----------------------------------\")\n",
    "df4 = pd.DataFrame(wind[1])\n",
    "print(df4)"
   ]
  },
  {
   "cell_type": "code",
   "execution_count": 48,
   "id": "e0bdb625",
   "metadata": {},
   "outputs": [
    {
     "name": "stdout",
     "output_type": "stream",
     "text": [
      "Yes\n",
      "-----------------------\n",
      "No\n"
     ]
    }
   ],
   "source": [
    "def DT(t): #testing. t is an array\n",
    "    res= 0\n",
    "    if t[0]=='Overcast':\n",
    "        res = 'Yes'\n",
    "    elif t[0] == 'Rain':\n",
    "        if t[3] == 'Weak':\n",
    "            res='No'\n",
    "        elif t[3] == 'Strong':\n",
    "            res='Yes'\n",
    "            \n",
    "    elif t[0] == 'Sunny':\n",
    "        if t[2] == 'High':\n",
    "            res = 'No'\n",
    "        elif t[2] == 'Normal':\n",
    "            res = 'Yes'\n",
    "                \n",
    "    return res   \n",
    "\n",
    "test1 = ['Overcast' , 'Cool' , 'Weak' , 'Weak']\n",
    "print(DT(test1))\n",
    "print(\"-----------------------\")\n",
    "\n",
    "test2 = ['Sunny' , 'Hot' , 'High' , 'Strong']\n",
    "print(DT(test2))"
   ]
  },
  {
   "cell_type": "markdown",
   "id": "4611aef4",
   "metadata": {},
   "source": [
    "# You have used Naïve Bayes for this dataset in the previous labs, can you tell where to use a decision tree and where to use Naïve Bayes? "
   ]
  },
  {
   "cell_type": "markdown",
   "id": "230cf71c",
   "metadata": {},
   "source": [
    "#### Decision tree is used for categorical and numeric data, it helps deciding between different courses of action. The naive bayes is suitable for binary and multi classifcialtion. It is better suited for categorical data."
   ]
  },
  {
   "cell_type": "code",
   "execution_count": null,
   "id": "caf4c87b",
   "metadata": {},
   "outputs": [],
   "source": []
  }
 ],
 "metadata": {
  "kernelspec": {
   "display_name": "Python 3",
   "language": "python",
   "name": "python3"
  },
  "language_info": {
   "codemirror_mode": {
    "name": "ipython",
    "version": 3
   },
   "file_extension": ".py",
   "mimetype": "text/x-python",
   "name": "python",
   "nbconvert_exporter": "python",
   "pygments_lexer": "ipython3",
   "version": "3.8.8"
  }
 },
 "nbformat": 4,
 "nbformat_minor": 5
}
