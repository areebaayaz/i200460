{
 "cells": [
  {
   "cell_type": "markdown",
   "id": "1b63d488",
   "metadata": {},
   "source": [
    "# Task01"
   ]
  },
  {
   "cell_type": "code",
   "execution_count": 30,
   "id": "d8e8eb8e",
   "metadata": {},
   "outputs": [
    {
     "data": {
      "text/plain": [
       "array([[7],\n",
       "       [6],\n",
       "       [5],\n",
       "       [1],\n",
       "       [4]])"
      ]
     },
     "execution_count": 30,
     "metadata": {},
     "output_type": "execute_result"
    }
   ],
   "source": [
    "import numpy as np\n",
    "\n",
    "vec = np.random.randint(9,size=(5,1))\n",
    "vec"
   ]
  },
  {
   "cell_type": "markdown",
   "id": "896a6be1",
   "metadata": {},
   "source": [
    "# Task02"
   ]
  },
  {
   "cell_type": "code",
   "execution_count": 62,
   "id": "c1c847c2",
   "metadata": {},
   "outputs": [
    {
     "data": {
      "text/plain": [
       "array([[ 1.  ],\n",
       "       [ 1.  ],\n",
       "       [ 1.  ],\n",
       "       [ 1.  ],\n",
       "       [-4.75]])"
      ]
     },
     "execution_count": 62,
     "metadata": {},
     "output_type": "execute_result"
    }
   ],
   "source": [
    "add = sum(vec[:-1])\n",
    "v = vec[-1]\n",
    "add = add * -1\n",
    "div = add/v\n",
    "new = np.ones(vec.shape)\n",
    "new[-1]= div\n",
    "new"
   ]
  },
  {
   "cell_type": "code",
   "execution_count": 67,
   "id": "d55ba13c",
   "metadata": {
    "scrolled": true
   },
   "outputs": [
    {
     "name": "stdout",
     "output_type": "stream",
     "text": [
      "0\n"
     ]
    }
   ],
   "source": [
    "ortho = np.dot(vec.T,new)\n",
    "print(int(ortho))"
   ]
  },
  {
   "cell_type": "code",
   "execution_count": 72,
   "id": "74a7238e",
   "metadata": {},
   "outputs": [
    {
     "name": "stdout",
     "output_type": "stream",
     "text": [
      "1.5707963267948966\n"
     ]
    }
   ],
   "source": [
    "ang = np.arccos(ortho)\n",
    "print(float(ang))"
   ]
  },
  {
   "cell_type": "markdown",
   "id": "f8f14748",
   "metadata": {},
   "source": [
    "# Task03"
   ]
  },
  {
   "cell_type": "code",
   "execution_count": 73,
   "id": "8563d4b9",
   "metadata": {},
   "outputs": [
    {
     "data": {
      "text/plain": [
       "array([[0.],\n",
       "       [0.],\n",
       "       [0.],\n",
       "       [0.],\n",
       "       [0.]])"
      ]
     },
     "execution_count": 73,
     "metadata": {},
     "output_type": "execute_result"
    }
   ],
   "source": [
    "#projection of original vector on orthognal\n",
    "proj = np.dot(vec.T,new)/np.dot(vec.T,vec)*vec #formula (a.b/||b||.b)\n",
    "proj"
   ]
  },
  {
   "cell_type": "code",
   "execution_count": 75,
   "id": "6a1a5083",
   "metadata": {},
   "outputs": [
    {
     "data": {
      "text/plain": [
       "array([[ 0.],\n",
       "       [ 0.],\n",
       "       [ 0.],\n",
       "       [ 0.],\n",
       "       [-0.]])"
      ]
     },
     "execution_count": 75,
     "metadata": {},
     "output_type": "execute_result"
    }
   ],
   "source": [
    "#projection of orthognal on original vector \n",
    "proj2 = np.dot(new.T,vec)/np.dot(new.T,new)*new #formula (a.b/||b||.b)\n",
    "proj2\n",
    "#anwer is 0s because it is perpendiclar "
   ]
  },
  {
   "cell_type": "markdown",
   "id": "fd7aeb5a",
   "metadata": {},
   "source": [
    "# Task04"
   ]
  },
  {
   "cell_type": "markdown",
   "id": "1d430fb9",
   "metadata": {},
   "source": [
    "# We cannot make the original vectors again as the value of projection is 0"
   ]
  },
  {
   "cell_type": "markdown",
   "id": "7bd72777",
   "metadata": {},
   "source": [
    "# Task05"
   ]
  },
  {
   "cell_type": "code",
   "execution_count": 55,
   "id": "68d1385d",
   "metadata": {},
   "outputs": [
    {
     "name": "stderr",
     "output_type": "stream",
     "text": [
      "<ipython-input-55-3dd168b29b53>:6: UserWarning: Attempting to set identical left == right == -3 results in singular transformations; automatically expanding.\n",
      "  a.set(xlim=(-3,-3), ylim=(-3,-3))\n",
      "<ipython-input-55-3dd168b29b53>:6: UserWarning: Attempting to set identical bottom == top == -3 results in singular transformations; automatically expanding.\n",
      "  a.set(xlim=(-3,-3), ylim=(-3,-3))\n"
     ]
    },
    {
     "data": {
      "text/plain": [
       "[(-3.15, -2.85), (-3.15, -2.85)]"
      ]
     },
     "execution_count": 55,
     "metadata": {},
     "output_type": "execute_result"
    },
    {
     "data": {
      "image/png": "[encoded data removed]",
      "text/plain": [
       "<Figure size 360x360 with 1 Axes>"
      ]
     },
     "metadata": {
      "needs_background": "light"
     },
     "output_type": "display_data"
    }
   ],
   "source": [
    "import matplotlib.pyplot as plt\n",
    "import numpy as np\n",
    "fig = plt.figure(figsize = (5,5))\n",
    "a = fig.add_subplot(111)\n",
    "a.grid(alpha = 0.3)\n",
    "a.set(xlim=(-3,-3), ylim=(-3,-3))"
   ]
  },
  {
   "cell_type": "code",
   "execution_count": 56,
   "id": "9316d3cc",
   "metadata": {},
   "outputs": [],
   "source": [
    "vec1 = np.array([2, 3])\n",
    "vec2 = np.array([3, 2])\n",
    "#X COMPONENT\n",
    "cx = vec2 * np.dot(vec1, vec2)\n",
    "cx = cx / np.dot(vec2, vec2)\n",
    "#Y COMPONENT\n",
    "cy = -cx[1]\n",
    "cy = np.array([cy, 4])"
   ]
  },
  {
   "cell_type": "code",
   "execution_count": 57,
   "id": "0ee68461",
   "metadata": {},
   "outputs": [
    {
     "data": {
      "image/png": "[encoded data removed]",
      "text/plain": [
       "<Figure size 360x360 with 1 Axes>"
      ]
     },
     "metadata": {
      "needs_background": "light"
     },
     "output_type": "display_data"
    }
   ],
   "source": [
    "fig = plt.figure(figsize=(5, 5))\n",
    "a = fig.add_subplot(111)\n",
    "a.grid(alpha=0.3)\n",
    "a.set(xlim=(-4, 4), ylim=(-4, 4))\n",
    "#VECTOR 1\n",
    "a.annotate('', xy=vec1, xytext=(0, 0), arrowprops=dict(facecolor='r'))\n",
    "#VECTOR 2\n",
    "a.annotate('', xy=vec2, xytext=(0, 0), arrowprops=dict(facecolor='g'))\n",
    "#Y COMPONENT OF PROJECTED VECTOR\n",
    "a.annotate('', xy=cy, xytext=(0, 0), arrowprops=dict(facecolor='b'))\n",
    "#X COMPONENT OF PROJECTED VECTOR\n",
    "a.annotate('', xy=cx, xytext=(0, 0), arrowprops=dict(facecolor='yellow'))\n",
    "plt.show()"
   ]
  },
  {
   "cell_type": "markdown",
   "id": "aa8ecb81",
   "metadata": {},
   "source": [
    "# Task06, Task07, Task08"
   ]
  },
  {
   "cell_type": "code",
   "execution_count": 5,
   "id": "863f58c3",
   "metadata": {},
   "outputs": [],
   "source": [
    "import matplotlib.pyplot as plt\n",
    "import numpy as np"
   ]
  },
  {
   "cell_type": "code",
   "execution_count": 14,
   "id": "c291a111",
   "metadata": {},
   "outputs": [
    {
     "name": "stdout",
     "output_type": "stream",
     "text": [
      "eigen values: \n",
      " [11.96164833+0.j         -1.47411935+0.j          0.1695124 +0.12694983j\n",
      "  0.1695124 -0.12694983j -0.02655378+0.j        ]\n",
      "eigen vectors: \n",
      " [[ 3.94655770e-01+0.j         -4.42667481e-01+0.j\n",
      "   1.55604119e-02+0.0218305j   1.55604119e-02-0.0218305j\n",
      "  -7.70242918e-03+0.j        ]\n",
      " [ 4.02838078e-01+0.j         -8.27415870e-02+0.j\n",
      "  -2.92711630e-01+0.09841044j -2.92711630e-01-0.09841044j\n",
      "  -4.14116489e-02+0.j        ]\n",
      " [ 4.32428515e-01+0.j          2.08909119e-01+0.j\n",
      "   2.72160961e-01+0.0566045j   2.72160961e-01-0.0566045j\n",
      "  -6.30412856e-04+0.j        ]\n",
      " [ 4.66234560e-01+0.j          4.55906092e-01+0.j\n",
      "   2.74747659e-01-0.5115454j   2.74747659e-01+0.5115454j\n",
      "   1.53671381e-02+0.j        ]\n",
      " [ 5.26876855e-01+0.j          7.38719126e-01+0.j\n",
      "   6.99625587e-01+0.j          6.99625587e-01-0.j\n",
      "   9.98994095e-01+0.j        ]]\n"
     ]
    }
   ],
   "source": [
    "df = np.genfromtxt('iris.csv',delimiter=',')\n",
    "dff = df[1:,:-1]\n",
    "# taking a sqaure cchunk and finding its eigen values and eigen vectors \n",
    "mat = []\n",
    "for i in range(0,5):\n",
    "    mat.append(dff[i])\n",
    "    \n",
    "eigval, eigvec = np.linalg.eig(mat)\n",
    "print(\"eigen values: \\n\",eigval)\n",
    "print(\"eigen vectors: \\n\",eigvec)"
   ]
  },
  {
   "cell_type": "code",
   "execution_count": 49,
   "id": "91795e38",
   "metadata": {},
   "outputs": [
    {
     "data": {
      "image/png": "[encoded data removed]",
      "text/plain": [
       "<Figure size 432x288 with 1 Axes>"
      ]
     },
     "metadata": {
      "needs_background": "light"
     },
     "output_type": "display_data"
    },
    {
     "data": {
      "image/png": "[encoded data removed]",
      "text/plain": [
       "<Figure size 432x288 with 1 Axes>"
      ]
     },
     "metadata": {
      "needs_background": "light"
     },
     "output_type": "display_data"
    }
   ],
   "source": [
    "# Centering the data\n",
    "# finding the mean\n",
    "m = np.mean(dff,axis=0)\n",
    "o = np.ones(dff.shape)\n",
    "mean = o * m # mean\n",
    "Z = dff - mean\n",
    "plt.subplot(1,2,1)\n",
    "plt.title(\"Before centring\")\n",
    "plt.scatter(dff,mean)\n",
    "plt.show()\n",
    "plt.subplot(1,2,2)\n",
    "plt.title(\"After centring\")\n",
    "plt.scatter(Z,mean)\n",
    "plt.show()"
   ]
  },
  {
   "cell_type": "code",
   "execution_count": 52,
   "id": "4a68fc9a",
   "metadata": {},
   "outputs": [
    {
     "name": "stdout",
     "output_type": "stream",
     "text": [
      "eigen values: \n",
      " [-6.82171438e-01+5.09154653j -6.82171438e-01-5.09154653j\n",
      " -4.80656197e+00+0.j          6.90739450e-01+4.38749013j\n",
      "  6.90739450e-01-4.38749013j  4.08282213e+00+0.j\n",
      " -2.38704040e+00+2.45944591j -2.38704040e+00-2.45944591j\n",
      " -2.88765246e+00+1.00662288j -2.88765246e+00-1.00662288j\n",
      "  2.35208382e+00+1.48830841j  2.35208382e+00-1.48830841j\n",
      " -1.77891891e+00+1.76168523j -1.77891891e+00-1.76168523j\n",
      "  1.85563900e-02+2.42542285j  1.85563900e-02-2.42542285j\n",
      " -1.83814244e+00+0.j          2.02677080e+00+0.25087648j\n",
      "  2.02677080e+00-0.25087648j  2.03282659e+00+0.j\n",
      "  6.89773418e-01+1.76568722j  6.89773418e-01-1.76568722j\n",
      "  1.19971044e+00+1.44009865j  1.19971044e+00-1.44009865j\n",
      " -8.05023573e-01+1.60187976j -8.05023573e-01-1.60187976j\n",
      "  1.70177942e+00+0.j         -1.31026183e+00+0.54002338j\n",
      " -1.31026183e+00-0.54002338j  7.99522778e-01+1.01270386j\n",
      "  7.99522778e-01-1.01270386j  1.26774913e+00+0.j\n",
      "  9.23476979e-01+0.82162257j  9.23476979e-01-0.82162257j\n",
      " -8.10198482e-01+0.99253571j -8.10198482e-01-0.99253571j\n",
      " -1.21238128e+00+0.21064004j -1.21238128e+00-0.21064004j\n",
      " -1.15883316e+00+0.j         -7.86900423e-01+0.87430184j\n",
      " -7.86900423e-01-0.87430184j  1.12613313e-01+1.14470928j\n",
      "  1.12613313e-01-1.14470928j -2.97706761e-01+1.08813325j\n",
      " -2.97706761e-01-1.08813325j  1.10899895e+00+0.30687334j\n",
      "  1.10899895e+00-0.30687334j  1.96347164e-01+0.90681167j\n",
      "  1.96347164e-01-0.90681167j  8.63168079e-01+0.26360765j\n",
      "  8.63168079e-01-0.26360765j -5.91980181e-01+0.66351807j\n",
      " -5.91980181e-01-0.66351807j  6.98454725e-01+0.45087874j\n",
      "  6.98454725e-01-0.45087874j  1.00811531e-01+0.82020361j\n",
      "  1.00811531e-01-0.82020361j -7.41270651e-01+0.20859296j\n",
      " -7.41270651e-01-0.20859296j -5.88298942e-01+0.4890982j\n",
      " -5.88298942e-01-0.4890982j  -1.67738710e-01+0.7360068j\n",
      " -1.67738710e-01-0.7360068j   1.17969369e-01+0.67336018j\n",
      "  1.17969369e-01-0.67336018j  5.81372481e-01+0.20171193j\n",
      "  5.81372481e-01-0.20171193j  4.84196077e-01+0.35224848j\n",
      "  4.84196077e-01-0.35224848j -5.41259603e-01+0.14244792j\n",
      " -5.41259603e-01-0.14244792j -3.24176589e-01+0.37615668j\n",
      " -3.24176589e-01-0.37615668j  1.96999143e-01+0.41019532j\n",
      "  1.96999143e-01-0.41019532j -3.23819394e-01+0.29986217j\n",
      " -3.23819394e-01-0.29986217j -1.72185624e-02+0.43827913j\n",
      " -1.72185624e-02-0.43827913j  1.17463728e-02+0.3974716j\n",
      "  1.17463728e-02-0.3974716j  -3.58980926e-01+0.13938872j\n",
      " -3.58980926e-01-0.13938872j  4.49201431e-01+0.j\n",
      "  3.63362906e-01+0.j          2.92073069e-01+0.j\n",
      "  2.09368309e-01+0.09900554j  2.09368309e-01-0.09900554j\n",
      " -5.99533215e-02+0.14976208j -5.99533215e-02-0.14976208j\n",
      " -1.66726714e-01+0.j         -1.35506114e-01+0.j\n",
      "  1.01490627e-02+0.09911315j  1.01490627e-02-0.09911315j\n",
      "  3.81445837e-07+0.j         -7.70431854e-03+0.04898241j\n",
      " -7.70431854e-03-0.04898241j]\n",
      "eigen vectors: \n",
      " [[ 3.83672972e-02-2.83424475e-02j  3.83672972e-02+2.83424475e-02j\n",
      "   6.08723978e-02+0.00000000e+00j ...  2.35485004e-08+0.00000000e+00j\n",
      "   1.05037332e-03-5.22787936e-05j  1.05037332e-03+5.22787936e-05j]\n",
      " [ 7.47963840e-03-1.63485168e-02j  7.47963840e-03+1.63485168e-02j\n",
      "   1.71827833e-01+0.00000000e+00j ...  1.02062104e-01+0.00000000e+00j\n",
      "   1.05139735e-01+1.88200563e-02j  1.05139735e-01-1.88200563e-02j]\n",
      " [ 2.56830267e-02-1.26018986e-02j  2.56830267e-02+1.26018986e-02j\n",
      "   5.60993755e-02+0.00000000e+00j ...  1.02062028e-01+0.00000000e+00j\n",
      "   8.58055824e-02+1.87359823e-02j  8.58055824e-02-1.87359823e-02j]\n",
      " ...\n",
      " [ 3.34280011e-02-1.19011773e-01j  3.34280011e-02+1.19011773e-01j\n",
      "   1.13366702e-02+0.00000000e+00j ...  1.02062062e-01+0.00000000e+00j\n",
      "   9.11635056e-02+1.19397816e-02j  9.11635056e-02-1.19397816e-02j]\n",
      " [ 6.87369495e-03-4.67912453e-02j  6.87369495e-03+4.67912453e-02j\n",
      "  -7.94496714e-03+0.00000000e+00j ...  1.02062082e-01+0.00000000e+00j\n",
      "   1.05256387e-01+2.64863457e-02j  1.05256387e-01-2.64863457e-02j]\n",
      " [-2.16941219e-02-5.55863513e-02j -2.16941219e-02+5.55863513e-02j\n",
      "   1.33773857e-01+0.00000000e+00j ...  1.02062099e-01+0.00000000e+00j\n",
      "   8.82743065e-02+1.42546002e-02j  8.82743065e-02-1.42546002e-02j]]\n"
     ]
    }
   ],
   "source": [
    "df = np.genfromtxt('ECG200_TRAIN.csv',delimiter='  ')\n",
    "# taking a sqaure cchunk and finding its eigen values and eigen vectors \n",
    "mat = []\n",
    "for i in range(0,97):\n",
    "    mat.append(df[i])\n",
    "    \n",
    "eigval, eigvec = np.linalg.eig(mat)\n",
    "print(\"eigen values: \\n\",eigval)\n",
    "print(\"eigen vectors: \\n\",eigvec)"
   ]
  },
  {
   "cell_type": "code",
   "execution_count": 54,
   "id": "c75b520e",
   "metadata": {},
   "outputs": [
    {
     "data": {
      "image/png": "[encoded data removed]",
      "text/plain": [
       "<Figure size 432x288 with 1 Axes>"
      ]
     },
     "metadata": {
      "needs_background": "light"
     },
     "output_type": "display_data"
    },
    {
     "data": {
      "image/png": "[encoded data removed]",
      "text/plain": [
       "<Figure size 432x288 with 1 Axes>"
      ]
     },
     "metadata": {
      "needs_background": "light"
     },
     "output_type": "display_data"
    }
   ],
   "source": [
    "# Centering the data\n",
    "# finding the mean\n",
    "m = np.mean(df,axis=0)\n",
    "o = np.ones(df.shape)\n",
    "mean = o * m   # mean\n",
    "Z = df - mean\n",
    "plt.subplot(1,2,1)\n",
    "plt.title(\"Before centring\")\n",
    "plt.scatter(df,mean)\n",
    "plt.show()\n",
    "plt.subplot(1,2,2)\n",
    "plt.title(\"After centring\")\n",
    "plt.scatter(Z,mean)\n",
    "plt.show()"
   ]
  },
  {
   "cell_type": "code",
   "execution_count": null,
   "id": "ba75d9f0",
   "metadata": {},
   "outputs": [],
   "source": []
  }
 ],
 "metadata": {
  "kernelspec": {
   "display_name": "Python 3",
   "language": "python",
   "name": "python3"
  },
  "language_info": {
   "codemirror_mode": {
    "name": "ipython",
    "version": 3
   },
   "file_extension": ".py",
   "mimetype": "text/x-python",
   "name": "python",
   "nbconvert_exporter": "python",
   "pygments_lexer": "ipython3",
   "version": "3.8.8"
  }
 },
 "nbformat": 4,
 "nbformat_minor": 5
}
