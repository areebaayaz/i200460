{
 "cells": [
  {
   "cell_type": "markdown",
   "metadata": {},
   "source": [
    "# Areeba Ayaz\n",
    "# 20I-0460\n",
    "# AI-K"
   ]
  },
  {
   "cell_type": "markdown",
   "metadata": {},
   "source": [
    "### Numpy Exercise\n",
    "In this exercise, we will be working with a dataset with the information of baseball players. Here is the code to read the dataset and convert it into lists."
   ]
  },
  {
   "cell_type": "code",
   "execution_count": 1,
   "metadata": {},
   "outputs": [
    {
     "name": "stdout",
     "output_type": "stream",
     "text": [
      "Populating the interactive namespace from numpy and matplotlib\n"
     ]
    }
   ],
   "source": [
    "%pylab inline"
   ]
  },
  {
   "cell_type": "code",
   "execution_count": 2,
   "metadata": {},
   "outputs": [],
   "source": [
    "import pandas as pd"
   ]
  },
  {
   "cell_type": "code",
   "execution_count": 3,
   "metadata": {},
   "outputs": [],
   "source": [
    "bbdata = pd.read_csv('baseball.csv')\n",
    "\n",
    "height = list(bbdata['height'])\n",
    "weight = list(bbdata['weights'])"
   ]
  },
  {
   "cell_type": "code",
   "execution_count": 4,
   "metadata": {},
   "outputs": [
    {
     "data": {
      "text/plain": [
       "<matplotlib.collections.PathCollection at 0x2307a55f910>"
      ]
     },
     "execution_count": 4,
     "metadata": {},
     "output_type": "execute_result"
    },
    {
     "data": {
      "image/png": "[encoded data removed]",
      "text/plain": [
       "<Figure size 432x288 with 1 Axes>"
      ]
     },
     "metadata": {
      "needs_background": "light"
     },
     "output_type": "display_data"
    }
   ],
   "source": [
    "plt.scatter(height,weight)"
   ]
  },
  {
   "cell_type": "markdown",
   "metadata": {},
   "source": [
    "### Real Work begins\n",
    "We have height and weidths as lists now, you task is to convert them into numpy arrays and then acheive the following insights.\n",
    "The units are height in inches, weight in Kgs"
   ]
  },
  {
   "cell_type": "code",
   "execution_count": 5,
   "metadata": {},
   "outputs": [
    {
     "name": "stdout",
     "output_type": "stream",
     "text": [
      "\n",
      "Height(Inches) :  [74 74 72 ... 75 75 73]\n",
      "\n",
      "Weight(kg) :  [180. 215. 210. ... 205. 190. 195.]\n"
     ]
    }
   ],
   "source": [
    "# Import numpy\n",
    "import numpy as np\n",
    "\n",
    "# Create a Numpy array from height: np_height\n",
    "np_height = np.array(height)\n",
    "\n",
    "# Print out np_height\n",
    "print('\\nHeight(Inches) : ', np_height)\n",
    "\n",
    "\n",
    "# Create array from weight with correct units: np_weight_kg \n",
    "np_weight_kg = np.array(weight)\n",
    "\n",
    "# print the array np_weight_kg\n",
    "print(\"\\nWeight(kg) : \", np_weight_kg)"
   ]
  },
  {
   "cell_type": "markdown",
   "metadata": {},
   "source": [
    "* 1 meter = 39.3701 inches"
   ]
  },
  {
   "cell_type": "code",
   "execution_count": 6,
   "metadata": {},
   "outputs": [
    {
     "name": "stdout",
     "output_type": "stream",
     "text": [
      "[1.87959899 1.87959899 1.82879901 ... 1.90499897 1.90499897 1.854199  ]\n"
     ]
    }
   ],
   "source": [
    "# Convert np_height to meters: np_height_m\n",
    "\n",
    "np_height_m = np.divide(np_height, 39.3701)\n",
    "\n",
    "# Print np_height_m\n",
    "\n",
    "print(np_height_m)\n"
   ]
  },
  {
   "cell_type": "markdown",
   "metadata": {},
   "source": [
    "- BMI=weight(kg)/(height (in m)**2)"
   ]
  },
  {
   "cell_type": "code",
   "execution_count": 7,
   "metadata": {},
   "outputs": [
    {
     "name": "stdout",
     "output_type": "stream",
     "text": [
      "[50.94975517 60.85665201 62.78954524 ... 56.48906288 52.35571681\n",
      " 56.71813303]\n"
     ]
    }
   ],
   "source": [
    "# Calculate the BMI: bmi\n",
    "\n",
    "bmi = np.divide(np_weight_kg, np_height_m**2)\n",
    "\n",
    "# Print out bmi\n",
    "print(bmi)"
   ]
  },
  {
   "cell_type": "markdown",
   "metadata": {},
   "source": [
    "Create a boolean Numpy array: the element of the array should be True if the corresponding baseball player's BMI is below 21. You can use the < operator for this. Name the array light.\n",
    "Print the array light.\n",
    "Print out a Numpy array with the BMIs of all baseball players whose BMI is below 21. Use light inside square brackets to do a selection on the bmi array.\n"
   ]
  },
  {
   "cell_type": "code",
   "execution_count": 8,
   "metadata": {},
   "outputs": [
    {
     "name": "stdout",
     "output_type": "stream",
     "text": [
      "[False False False ... False False False]\n"
     ]
    }
   ],
   "source": [
    "b = (bmi < 21)\n",
    "print(b)"
   ]
  },
  {
   "cell_type": "code",
   "execution_count": 9,
   "metadata": {},
   "outputs": [
    {
     "name": "stdout",
     "output_type": "stream",
     "text": [
      "float64\n",
      "(4, 2)\n"
     ]
    }
   ],
   "source": [
    "# Create baseball, a list of lists\n",
    "baseball = [[180, 78.4],\n",
    "            [215, 102.7],\n",
    "            [210, 98.5],\n",
    "            [188, 75.2]]\n",
    "\n",
    "# Import numpy\n",
    "import numpy as np\n",
    "\n",
    "# Create a 2D Numpy array from baseball: np_baseball\n",
    "np_baseball = np.array(baseball)\n",
    "\n",
    "# Print out the type of np_baseball\n",
    "print(np_baseball.dtype)\n",
    "\n",
    "# Print out the shape of np_baseball\n",
    "print(np_baseball.shape)"
   ]
  },
  {
   "cell_type": "code",
   "execution_count": 10,
   "metadata": {},
   "outputs": [
    {
     "name": "stdout",
     "output_type": "stream",
     "text": [
      "(1034, 2)\n"
     ]
    }
   ],
   "source": [
    "# Create a 2D Numpy array named np_baseball from the lists of weight and height\n",
    "np_baseball = list(zip(height, weight))\n",
    "\n",
    "np_baseball = np.array(np_baseball)\n",
    "\n",
    "# Print out the shape of np_baseball\n",
    "print(np_baseball.shape)"
   ]
  },
  {
   "cell_type": "markdown",
   "metadata": {},
   "source": [
    "- If you want to convert the units of height and weight. As a first step, create a Numpy array with two values: 0.0254, 0.453592. Name this array conversion.\n",
    "Multiply np_baseball with conversion and print out the result."
   ]
  },
  {
   "cell_type": "code",
   "execution_count": 11,
   "metadata": {},
   "outputs": [
    {
     "ename": "NameError",
     "evalue": "name 'arr' is not defined",
     "output_type": "error",
     "traceback": [
      "\u001b[1;31m---------------------------------------------------------------------------\u001b[0m",
      "\u001b[1;31mNameError\u001b[0m                                 Traceback (most recent call last)",
      "\u001b[1;32m<ipython-input-11-5e0ed12ef7ea>\u001b[0m in \u001b[0;36m<module>\u001b[1;34m\u001b[0m\n\u001b[0;32m      1\u001b[0m \u001b[0mconversion\u001b[0m \u001b[1;33m=\u001b[0m \u001b[1;33m[\u001b[0m\u001b[1;36m0.0254\u001b[0m\u001b[1;33m,\u001b[0m \u001b[1;36m0.453592\u001b[0m\u001b[1;33m]\u001b[0m\u001b[1;33m\u001b[0m\u001b[1;33m\u001b[0m\u001b[0m\n\u001b[1;32m----> 2\u001b[1;33m \u001b[0mconversion\u001b[0m \u001b[1;33m=\u001b[0m \u001b[0mnp\u001b[0m\u001b[1;33m.\u001b[0m\u001b[0marray\u001b[0m\u001b[1;33m(\u001b[0m\u001b[0marr\u001b[0m\u001b[1;33m)\u001b[0m\u001b[1;33m\u001b[0m\u001b[1;33m\u001b[0m\u001b[0m\n\u001b[0m\u001b[0;32m      3\u001b[0m \u001b[0mprint\u001b[0m\u001b[1;33m(\u001b[0m\u001b[0mnp\u001b[0m\u001b[1;33m.\u001b[0m\u001b[0mmatmul\u001b[0m\u001b[1;33m(\u001b[0m\u001b[0mnp_baseball\u001b[0m\u001b[1;33m,\u001b[0m \u001b[0marr\u001b[0m\u001b[1;33m)\u001b[0m\u001b[1;33m)\u001b[0m \u001b[1;31m#multiplying 1-D array with 2-D array\u001b[0m\u001b[1;33m\u001b[0m\u001b[1;33m\u001b[0m\u001b[0m\n",
      "\u001b[1;31mNameError\u001b[0m: name 'arr' is not defined"
     ]
    }
   ],
   "source": [
    "conversion = [0.0254, 0.453592]\n",
    "conversion = np.array(arr)\n",
    "print(np.matmul(np_baseball, arr)) #multiplying 1-D array with 2-D array"
   ]
  },
  {
   "cell_type": "markdown",
   "metadata": {},
   "source": [
    "### Now it's time for some statistics"
   ]
  },
  {
   "cell_type": "code",
   "execution_count": 21,
   "metadata": {},
   "outputs": [
    {
     "name": "stdout",
     "output_type": "stream",
     "text": [
      "73.6972920696325\n",
      "\n",
      "---------------------\n",
      "\n",
      "Median :  74.0\n",
      "\n",
      "Standard Deviation :  2.304703041620148\n",
      "\n",
      "Correlation:  [[1.         0.51603124]\n",
      " [0.51603124 1.        ]]\n"
     ]
    }
   ],
   "source": [
    "# Print out the mean of np_height\n",
    "m = np.mean(np_height)\n",
    "print(m)\n",
    "\n",
    "# Print out the median of np_height\n",
    "med = np.median(np_height)\n",
    "\n",
    "print(\"\\n---------------------\")\n",
    "\n",
    "# Print median height. Replace 'None'\n",
    "print(\"\\nMedian : \" , med)\n",
    "\n",
    "# Print out the standard deviation on height. Replace 'None'\n",
    "print(\"\\nStandard Deviation : \" , np.std(np_height))\n",
    "\n",
    "# Print out correlation between first and second column. Replace 'None'\n",
    "#weight = np.nan_to_num(weight, nan=np.nanmean(weight))\n",
    "\n",
    "#np_weight_kg[np.isnan(np_weight_kg)] = 0\n",
    "# np_height_m = np.nan_to_num(np_height_m, nan= 0.0)\n",
    "# np_weight_kg = np.nan_to_num(np_weight_kg, nan = 0.0)\n",
    "# print(\"\\nCorrelation: \", np.correlate(np_height_m,np_weight_kg))\n",
    "\n",
    "print(\"\\nCorrelation: \",np.corrcoef(np_height,np_weight_kg))"
   ]
  },
  {
   "cell_type": "code",
   "execution_count": 13,
   "metadata": {},
   "outputs": [
    {
     "name": "stdout",
     "output_type": "stream",
     "text": [
      "928\n"
     ]
    }
   ],
   "source": [
    "# Print the index of player with maximum height\n",
    "maxH = np.argmax(np_height)\n",
    "print(maxH)"
   ]
  },
  {
   "cell_type": "code",
   "execution_count": 14,
   "metadata": {},
   "outputs": [
    {
     "name": "stdout",
     "output_type": "stream",
     "text": [
      "[1.8288     1.8288     1.82879901 ... 1.8288     1.8288     1.8288    ]\n"
     ]
    }
   ],
   "source": [
    "#Replace all the players height greater than 6 Feet with 6 Feet\n",
    "np_height_m[np_height_m > 1.8288] = 1.8288\n",
    "print(np_height_m)"
   ]
  },
  {
   "cell_type": "code",
   "execution_count": 15,
   "metadata": {},
   "outputs": [
    {
     "name": "stdout",
     "output_type": "stream",
     "text": [
      "1033\n"
     ]
    }
   ],
   "source": [
    "#Count number of players with weight greater than 75 kg.\n",
    "count = (np_weight_kg > 75).sum()\n",
    "print(count)"
   ]
  },
  {
   "cell_type": "code",
   "execution_count": 16,
   "metadata": {},
   "outputs": [
    {
     "name": "stdout",
     "output_type": "stream",
     "text": [
      "[1008 1007  972 ...  406  390 1033]\n"
     ]
    }
   ],
   "source": [
    "# Sort the height, and get the sorting index as well\n",
    "np_height_m = np.argsort(np_height_m)\n",
    "print(np_height_m)"
   ]
  },
  {
   "cell_type": "code",
   "execution_count": 17,
   "metadata": {},
   "outputs": [
    {
     "name": "stdout",
     "output_type": "stream",
     "text": [
      "(2, 1034)\n",
      "(1034, 2)\n"
     ]
    }
   ],
   "source": [
    "#Reshape the 2 x Number of Players array to Number of Players x 2\n",
    "bas = np_baseball.T\n",
    "print(bas.shape)\n",
    "\n",
    "bas2 = bas.T\n",
    "print(bas2.shape)"
   ]
  },
  {
   "cell_type": "code",
   "execution_count": 18,
   "metadata": {},
   "outputs": [
    {
     "data": {
      "text/plain": [
       "<matplotlib.collections.PathCollection at 0x23079e16940>"
      ]
     },
     "execution_count": 18,
     "metadata": {},
     "output_type": "execute_result"
    },
    {
     "data": {
      "image/png": "[encoded data removed]",
      "text/plain": [
       "<Figure size 432x288 with 1 Axes>"
      ]
     },
     "metadata": {
      "needs_background": "light"
     },
     "output_type": "display_data"
    }
   ],
   "source": [
    "#Generate Scatter Plot, See plt.scatter, use height as one axis and weight as second axis\n",
    "plt.scatter(height,weight)"
   ]
  },
  {
   "cell_type": "code",
   "execution_count": 24,
   "metadata": {},
   "outputs": [
    {
     "data": {
      "image/png": "[encoded data removed]",
      "text/plain": [
       "<Figure size 432x288 with 1 Axes>"
      ]
     },
     "metadata": {
      "needs_background": "light"
     },
     "output_type": "display_data"
    }
   ],
   "source": [
    "#Now choose a random player, and project player height and weight to this random player, you can plot\n",
    "# the vector using plt.arrow function\n",
    "\n",
    "vec = np.random.randint(0,1035)\n",
    "plt.xlabel(\"Height\")\n",
    "plt.ylabel(\"Weight\")\n",
    "plt.plot(height,weight)\n",
    "plt.arrow(50, 160, height[vec],weight[vec], width = 2.5)\n",
    "plt.show()"
   ]
  },
  {
   "cell_type": "markdown",
   "metadata": {},
   "source": [
    "#### Advanced Operations"
   ]
  },
  {
   "cell_type": "markdown",
   "metadata": {},
   "source": [
    "1. Construct an array from the list: [1,2,3]\n",
    "2. Cast it into floats\n",
    "3. Create an array of int ranging from 0-10 \n",
    "4. Create an array containing 7 evenly spaced numbers between 0 and 23\n",
    "5. Create an array with shape (2,5,1,5,2,1) containing only the number 5\n",
    "6. Eliminate all length-1 dimensions. See the function squeeze.\n",
    "7. Reshape the resulting array from shape (2,5,3,2) to only 2D\n",
    "8. Calculate the mean, std, var, max, min, of an array with shape (3,3,12,3) containing floats drawn\n",
    "from a normal distribution with mean 21 and sigma 4.5. see the np.random.normal.\n",
    "9. Do the same but not on all elements but only on the 2nd dimension. \n",
    "10. Transform the array such that it is only 1d. See the function Flatten or ravel\n",
    "11. Remove all values smaller 15 and larger 26.\n",
    "12. Clip all values smaller 15 and larger 26 to NaN. See the function Clip\n",
    "13. Calculate the sum of the resulting array. It should not be NaN!.\n",
    "14. Convert the NaN’s to 0.0. See Where\n",
    "15. Save the array and load it again."
   ]
  },
  {
   "cell_type": "code",
   "execution_count": 25,
   "metadata": {},
   "outputs": [
    {
     "name": "stdout",
     "output_type": "stream",
     "text": [
      "[1 2 3]\n"
     ]
    }
   ],
   "source": [
    "# 1. Construct an array from the list: [1,2,3]\n",
    "arr = [1,2,3]\n",
    "arr = np.array(arr)\n",
    "print(arr)"
   ]
  },
  {
   "cell_type": "code",
   "execution_count": 26,
   "metadata": {},
   "outputs": [
    {
     "name": "stdout",
     "output_type": "stream",
     "text": [
      "[1. 2. 3.]\n"
     ]
    }
   ],
   "source": [
    "# 2. Cast it into floats\n",
    "arr = arr.astype(\"float\")\n",
    "print(arr)"
   ]
  },
  {
   "cell_type": "code",
   "execution_count": 27,
   "metadata": {},
   "outputs": [
    {
     "name": "stdout",
     "output_type": "stream",
     "text": [
      "[6 9 9 7 2 3 7 4 9 6 7 8]\n"
     ]
    }
   ],
   "source": [
    "# 3.Create an array of int ranging from 0-10\n",
    "arr2 = np.random.randint(0, 10, size = 12)\n",
    "print(arr2)"
   ]
  },
  {
   "cell_type": "code",
   "execution_count": 28,
   "metadata": {},
   "outputs": [
    {
     "name": "stdout",
     "output_type": "stream",
     "text": [
      "[ 0.          3.83333333  7.66666667 11.5        15.33333333 19.16666667\n",
      " 23.        ]\n"
     ]
    }
   ],
   "source": [
    "# 4 . Create an array containing 7 evenly spaced numbers between 0 and 23\n",
    "arr3 = np.linspace(0,23,7)\n",
    "print(arr3)"
   ]
  },
  {
   "cell_type": "code",
   "execution_count": 44,
   "metadata": {},
   "outputs": [
    {
     "data": {
      "text/plain": [
       "array([[[[[[5],\n",
       "           [5]],\n",
       "\n",
       "          [[5],\n",
       "           [5]],\n",
       "\n",
       "          [[5],\n",
       "           [5]],\n",
       "\n",
       "          [[5],\n",
       "           [5]],\n",
       "\n",
       "          [[5],\n",
       "           [5]]]],\n",
       "\n",
       "\n",
       "\n",
       "        [[[[5],\n",
       "           [5]],\n",
       "\n",
       "          [[5],\n",
       "           [5]],\n",
       "\n",
       "          [[5],\n",
       "           [5]],\n",
       "\n",
       "          [[5],\n",
       "           [5]],\n",
       "\n",
       "          [[5],\n",
       "           [5]]]],\n",
       "\n",
       "\n",
       "\n",
       "        [[[[5],\n",
       "           [5]],\n",
       "\n",
       "          [[5],\n",
       "           [5]],\n",
       "\n",
       "          [[5],\n",
       "           [5]],\n",
       "\n",
       "          [[5],\n",
       "           [5]],\n",
       "\n",
       "          [[5],\n",
       "           [5]]]],\n",
       "\n",
       "\n",
       "\n",
       "        [[[[5],\n",
       "           [5]],\n",
       "\n",
       "          [[5],\n",
       "           [5]],\n",
       "\n",
       "          [[5],\n",
       "           [5]],\n",
       "\n",
       "          [[5],\n",
       "           [5]],\n",
       "\n",
       "          [[5],\n",
       "           [5]]]],\n",
       "\n",
       "\n",
       "\n",
       "        [[[[5],\n",
       "           [5]],\n",
       "\n",
       "          [[5],\n",
       "           [5]],\n",
       "\n",
       "          [[5],\n",
       "           [5]],\n",
       "\n",
       "          [[5],\n",
       "           [5]],\n",
       "\n",
       "          [[5],\n",
       "           [5]]]]],\n",
       "\n",
       "\n",
       "\n",
       "\n",
       "       [[[[[5],\n",
       "           [5]],\n",
       "\n",
       "          [[5],\n",
       "           [5]],\n",
       "\n",
       "          [[5],\n",
       "           [5]],\n",
       "\n",
       "          [[5],\n",
       "           [5]],\n",
       "\n",
       "          [[5],\n",
       "           [5]]]],\n",
       "\n",
       "\n",
       "\n",
       "        [[[[5],\n",
       "           [5]],\n",
       "\n",
       "          [[5],\n",
       "           [5]],\n",
       "\n",
       "          [[5],\n",
       "           [5]],\n",
       "\n",
       "          [[5],\n",
       "           [5]],\n",
       "\n",
       "          [[5],\n",
       "           [5]]]],\n",
       "\n",
       "\n",
       "\n",
       "        [[[[5],\n",
       "           [5]],\n",
       "\n",
       "          [[5],\n",
       "           [5]],\n",
       "\n",
       "          [[5],\n",
       "           [5]],\n",
       "\n",
       "          [[5],\n",
       "           [5]],\n",
       "\n",
       "          [[5],\n",
       "           [5]]]],\n",
       "\n",
       "\n",
       "\n",
       "        [[[[5],\n",
       "           [5]],\n",
       "\n",
       "          [[5],\n",
       "           [5]],\n",
       "\n",
       "          [[5],\n",
       "           [5]],\n",
       "\n",
       "          [[5],\n",
       "           [5]],\n",
       "\n",
       "          [[5],\n",
       "           [5]]]],\n",
       "\n",
       "\n",
       "\n",
       "        [[[[5],\n",
       "           [5]],\n",
       "\n",
       "          [[5],\n",
       "           [5]],\n",
       "\n",
       "          [[5],\n",
       "           [5]],\n",
       "\n",
       "          [[5],\n",
       "           [5]],\n",
       "\n",
       "          [[5],\n",
       "           [5]]]]]])"
      ]
     },
     "execution_count": 44,
     "metadata": {},
     "output_type": "execute_result"
    }
   ],
   "source": [
    "# 5 .Create an array with shape (2,5,1,5,2,1) containing only the number 5\n",
    "arr4 = np.full((2,5,1,5,2,1), 5)\n",
    "arr4"
   ]
  },
  {
   "cell_type": "code",
   "execution_count": 46,
   "metadata": {},
   "outputs": [
    {
     "name": "stdout",
     "output_type": "stream",
     "text": [
      "1\n"
     ]
    },
    {
     "data": {
      "text/plain": [
       "array([[[[5, 5],\n",
       "         [5, 5],\n",
       "         [5, 5],\n",
       "         [5, 5],\n",
       "         [5, 5]],\n",
       "\n",
       "        [[5, 5],\n",
       "         [5, 5],\n",
       "         [5, 5],\n",
       "         [5, 5],\n",
       "         [5, 5]],\n",
       "\n",
       "        [[5, 5],\n",
       "         [5, 5],\n",
       "         [5, 5],\n",
       "         [5, 5],\n",
       "         [5, 5]],\n",
       "\n",
       "        [[5, 5],\n",
       "         [5, 5],\n",
       "         [5, 5],\n",
       "         [5, 5],\n",
       "         [5, 5]],\n",
       "\n",
       "        [[5, 5],\n",
       "         [5, 5],\n",
       "         [5, 5],\n",
       "         [5, 5],\n",
       "         [5, 5]]],\n",
       "\n",
       "\n",
       "       [[[5, 5],\n",
       "         [5, 5],\n",
       "         [5, 5],\n",
       "         [5, 5],\n",
       "         [5, 5]],\n",
       "\n",
       "        [[5, 5],\n",
       "         [5, 5],\n",
       "         [5, 5],\n",
       "         [5, 5],\n",
       "         [5, 5]],\n",
       "\n",
       "        [[5, 5],\n",
       "         [5, 5],\n",
       "         [5, 5],\n",
       "         [5, 5],\n",
       "         [5, 5]],\n",
       "\n",
       "        [[5, 5],\n",
       "         [5, 5],\n",
       "         [5, 5],\n",
       "         [5, 5],\n",
       "         [5, 5]],\n",
       "\n",
       "        [[5, 5],\n",
       "         [5, 5],\n",
       "         [5, 5],\n",
       "         [5, 5],\n",
       "         [5, 5]]]])"
      ]
     },
     "execution_count": 46,
     "metadata": {},
     "output_type": "execute_result"
    }
   ],
   "source": [
    "# 6.Eliminate all length-1 dimensions. See the function squeeze\n",
    "el = len(arr4)-1\n",
    "print(el)\n",
    "arr5 = np.squeeze(arr4)\n",
    "arr5"
   ]
  },
  {
   "cell_type": "code",
   "execution_count": 48,
   "metadata": {},
   "outputs": [
    {
     "name": "stdout",
     "output_type": "stream",
     "text": [
      "[[5 5 5 5 5 5 5 5 5 5 5 5 5 5 5 5 5 5 5 5 5 5 5 5 5 5 5 5 5 5 5 5 5 5 5 5\n",
      "  5 5 5 5 5 5 5 5 5 5 5 5 5 5]\n",
      " [5 5 5 5 5 5 5 5 5 5 5 5 5 5 5 5 5 5 5 5 5 5 5 5 5 5 5 5 5 5 5 5 5 5 5 5\n",
      "  5 5 5 5 5 5 5 5 5 5 5 5 5 5]]\n"
     ]
    }
   ],
   "source": [
    "# 7. Reshape the resulting array from shape (2,5,3,2) to only 2D\n",
    "new = np.reshape(arr5,(2,-1))\n",
    "print(new)"
   ]
  },
  {
   "cell_type": "code",
   "execution_count": 50,
   "metadata": {},
   "outputs": [
    {
     "name": "stdout",
     "output_type": "stream",
     "text": [
      "\n",
      "Mean: 21.38529846962877\n",
      "\n",
      "Median: 21.28809776329674\n",
      "\n",
      "Standard Deviation: 4.426553347554366\n",
      "\n",
      "Max norm: 34.65856955149585\n",
      "\n",
      "Min Norm: 9.448829924590648\n"
     ]
    }
   ],
   "source": [
    "# 8.Calculate the mean, std, var, max, min, of an array with shape (3,3,12,3) containing floats drawn from a normal distribution with mean 21 and sigma 4.5. see the np.random.normal.\n",
    "norm = np.random.normal(21,4.5,(3,3,12,3))\n",
    "print(\"\\nMean:\",np.mean(norm))\n",
    "print(\"\\nMedian:\",np.median(norm))\n",
    "print(\"\\nStandard Deviation:\",np.std(norm))\n",
    "print(\"\\nMax norm:\",np.max(norm))\n",
    "print(\"\\nMin Norm:\",np.min(norm))"
   ]
  },
  {
   "cell_type": "code",
   "execution_count": 51,
   "metadata": {},
   "outputs": [
    {
     "name": "stdout",
     "output_type": "stream",
     "text": [
      "\n",
      "Mean: 21.942204541874222\n",
      "\n",
      "Median: 21.732887107665178\n",
      "\n",
      "Standard Deviation: 4.29817911187683\n",
      "\n",
      "Max norm: 31.68506104039208\n",
      "\n",
      "Min Norm: 12.877205960315088\n"
     ]
    }
   ],
   "source": [
    "# 9.Do the same but not on all elements but only on the 2nd dimension.\n",
    "norm2 = norm[1]\n",
    "print(\"\\nMean:\",np.mean(norm2))\n",
    "print(\"\\nMedian:\",np.median(norm2))\n",
    "print(\"\\nStandard Deviation:\",np.std(norm2))\n",
    "print(\"\\nMax norm:\",np.max(norm2))\n",
    "print(\"\\nMin Norm:\",np.min(norm2))"
   ]
  },
  {
   "cell_type": "code",
   "execution_count": 52,
   "metadata": {},
   "outputs": [
    {
     "name": "stdout",
     "output_type": "stream",
     "text": [
      "[14.2686858  24.18823242 21.63600552 18.03798379 21.05850466 18.71075299\n",
      " 23.14806528 13.10208899 19.50039835 16.75627635 21.87415726 28.81900978\n",
      " 23.61049344 15.7877706  21.53005752 24.87530156 15.08733739 20.46336897\n",
      " 25.58895594 23.32177667 11.29448966 28.90755815 14.52476406 19.15423842\n",
      " 19.59103067 22.82452428 18.97074263 18.77546628 21.63539942 21.97069195\n",
      " 16.08414436 16.51187934 18.17987449 24.01787952 28.88156267 23.31625935\n",
      " 28.98426263 23.77393903 14.98930176 15.91114069 19.86245977 21.0750124\n",
      " 24.14970364 17.07456102 15.50663499 16.97128743 22.55808356 27.07696984\n",
      " 26.85455843 21.93594567 17.05951701 14.76436607 22.04547924 17.35362322\n",
      " 24.95632184 25.05980849 17.66628285 15.46389711 21.80862514 17.96994985\n",
      " 22.90086821 15.78026529 19.5889105  20.31277922 25.42198564 19.28302249\n",
      " 25.51979585 24.14866225 16.99688376 21.00879191 23.4871588  14.1814518\n",
      " 18.75322389 24.1925044  25.59144046 17.7866136  22.82730499 22.09370122\n",
      " 24.67427314 21.12548252 20.48975368 16.69733776 21.8560845  25.27739047\n",
      " 26.58888377 20.16452867 31.05213021 13.73679294 21.36024956 23.04487376\n",
      " 19.99635026 27.03433934 15.76731785 13.49537224 24.7724495  15.83848392\n",
      " 29.40409241 24.00795808 18.38067038 18.11408994 18.26445679 23.19696707\n",
      " 17.35480274 16.24292545 20.42862754 24.12833684 26.40988419 23.23889858\n",
      " 22.89219813 16.31610657 16.74802429 23.55784679 17.91435773 15.95993178\n",
      " 28.12182635 21.70366586 19.68282716 20.29451674 20.39096865 20.83010632\n",
      " 20.23024314 21.95576145 14.6646528  22.27886284 18.77938439 21.18217062\n",
      " 24.75983986 29.96664182 29.13452934 16.34119316 20.42904576 30.46013354\n",
      " 22.66580824 23.37562178 18.13998294 24.83563768 26.00524428 25.24019102\n",
      " 20.91413705 19.85715835 23.54583619 27.28940952 18.03103353 13.32004821\n",
      " 17.20279278 16.64820033 15.25115079 16.36414927 22.92771805 25.759386\n",
      " 14.95971439 30.45654428 21.93439225 25.16938944 26.77024316 24.92594965\n",
      " 18.76140395 20.82485768 13.29977242 26.60882334 20.52949345 21.2975059\n",
      " 27.70368131 23.04721984 19.65284707 19.01287974 30.84398696 25.82249808\n",
      " 16.01985246 20.59171281 19.85908222 17.90685359 20.89321079 21.25048969\n",
      " 21.94578993 17.53953044 26.73983391 27.76725068 22.70228214 19.86179247\n",
      " 30.46739895 16.36089815 20.58502309 20.67198977 21.26095764 22.31740827\n",
      " 22.75642653 12.87720596 23.82475213 26.02259256 24.36957154 31.68506104\n",
      " 19.25838115 19.61394069 28.54533904 27.04217603 25.71375219 28.99070383\n",
      " 18.13897777 22.20604518 18.3287774  24.92802644 17.77771537 16.55124162\n",
      " 22.20597913 24.28116007 21.76210836 22.21200407 24.93473395 17.53827712\n",
      " 18.52834197 23.35787108 19.41634872 25.22495042 24.88756344 28.44716475\n",
      " 17.24060083 21.51273547 20.4438232  21.55382116 21.05795165 22.90191391\n",
      " 34.65856955 17.43053091 22.87233505 22.30724986 12.40720225 21.14533415\n",
      " 20.46036998 25.41402108 18.56510424 29.11025193 22.34310958 20.85418167\n",
      " 18.71890828 19.90374829 27.23479132 25.95550988 27.58557542 22.46574591\n",
      " 20.77889557 23.94374451 21.90991399 19.54903782 20.98486892 14.77765343\n",
      " 19.36660322 21.47847924 22.79212463 21.52478405 20.98555572 22.86726077\n",
      " 18.52760509 23.3149299  25.11549028 13.33250175 21.06599498 23.69833451\n",
      " 19.78106836 27.29607803 21.1112023  17.08872879 25.18257908 22.27038217\n",
      " 33.82295496 26.2832535  21.05826771 24.77897233 20.07233257 26.13784498\n",
      " 20.33173734 30.98361814 13.65128142 21.03194773 21.87431358 16.64276976\n",
      " 15.85833543 21.28883563 17.57017271 16.53457736 17.88201355 17.8426962\n",
      " 22.53251705 12.58280134 22.27289749 11.41224996 23.5716581  13.88085803\n",
      "  9.44882992 21.34201922 28.27982549 17.4276046  25.95938523 30.42863429\n",
      " 21.13242767 22.39554028 14.29386072 15.65490318 22.08716914 25.70572115\n",
      " 21.21053467 26.4293287  25.56516931 21.56392746 13.7788228  18.19878429\n",
      " 18.77889393 22.05071507 17.71252183 20.72637993 20.61509565 25.40173712\n",
      " 29.49972673 18.84248077 24.8047554  24.77438598 29.18484462 28.19106822\n",
      " 18.15323364 14.17786572 21.61120971 21.2873599  12.79794542 27.88316772]\n"
     ]
    }
   ],
   "source": [
    "# 10. Transform the array such that it is only 1d. See the function Flatten or ravel\n",
    "trans = np.ravel(norm)\n",
    "print(trans)"
   ]
  },
  {
   "cell_type": "code",
   "execution_count": 53,
   "metadata": {},
   "outputs": [
    {
     "name": "stdout",
     "output_type": "stream",
     "text": [
      "[14.2686858  24.18823242 21.63600552 18.03798379 21.05850466 18.71075299\n",
      " 23.14806528 13.10208899 19.50039835 16.75627635 21.87415726 28.81900978\n",
      " 23.61049344 15.7877706  21.53005752 24.87530156 15.08733739 20.46336897\n",
      " 25.58895594 23.32177667 11.29448966 28.90755815 14.52476406 19.15423842\n",
      " 19.59103067 22.82452428 18.97074263 18.77546628 21.63539942 21.97069195\n",
      " 16.08414436 16.51187934 18.17987449 24.01787952 28.88156267 23.31625935\n",
      " 28.98426263 23.77393903 14.98930176 15.91114069 19.86245977 21.0750124\n",
      " 24.14970364 17.07456102 15.50663499 16.97128743 22.55808356 27.07696984\n",
      " 26.85455843 21.93594567 17.05951701 14.76436607 22.04547924 17.35362322\n",
      " 24.95632184 25.05980849 17.66628285 15.46389711 21.80862514 17.96994985\n",
      " 22.90086821 15.78026529 19.5889105  20.31277922 25.42198564 19.28302249\n",
      " 25.51979585 24.14866225 16.99688376 21.00879191 23.4871588  14.1814518\n",
      " 18.75322389 24.1925044  25.59144046 17.7866136  22.82730499 22.09370122\n",
      " 24.67427314 21.12548252 20.48975368 16.69733776 21.8560845  25.27739047\n",
      " 26.58888377 20.16452867 31.05213021 13.73679294 21.36024956 23.04487376\n",
      " 19.99635026 27.03433934 15.76731785 13.49537224 24.7724495  15.83848392\n",
      " 29.40409241 24.00795808 18.38067038 18.11408994 18.26445679 23.19696707\n",
      " 17.35480274 16.24292545 20.42862754 24.12833684 26.40988419 23.23889858\n",
      " 22.89219813 16.31610657 16.74802429 23.55784679 17.91435773 15.95993178\n",
      " 28.12182635 21.70366586 19.68282716 20.29451674 20.39096865 20.83010632\n",
      " 20.23024314 21.95576145 14.6646528  22.27886284 18.77938439 21.18217062\n",
      " 24.75983986 29.96664182 29.13452934 16.34119316 20.42904576 30.46013354\n",
      " 22.66580824 23.37562178 18.13998294 24.83563768 26.00524428 25.24019102\n",
      " 20.91413705 19.85715835 23.54583619 27.28940952 18.03103353 13.32004821\n",
      " 17.20279278 16.64820033 15.25115079 16.36414927 22.92771805 25.759386\n",
      " 14.95971439 30.45654428 21.93439225 25.16938944 26.77024316 24.92594965\n",
      " 18.76140395 20.82485768 13.29977242 26.60882334 20.52949345 21.2975059\n",
      " 27.70368131 23.04721984 19.65284707 19.01287974 30.84398696 25.82249808\n",
      " 16.01985246 20.59171281 19.85908222 17.90685359 20.89321079 21.25048969\n",
      " 21.94578993 17.53953044 26.73983391 27.76725068 22.70228214 19.86179247\n",
      " 30.46739895 16.36089815 20.58502309 20.67198977 21.26095764 22.31740827\n",
      " 22.75642653 12.87720596 23.82475213 26.02259256 24.36957154 31.68506104\n",
      " 19.25838115 19.61394069 28.54533904 27.04217603 25.71375219 28.99070383\n",
      " 18.13897777 22.20604518 18.3287774  24.92802644 17.77771537 16.55124162\n",
      " 22.20597913 24.28116007 21.76210836 22.21200407 24.93473395 17.53827712\n",
      " 18.52834197 23.35787108 19.41634872 25.22495042 24.88756344 28.44716475\n",
      " 17.24060083 21.51273547 20.4438232  21.55382116 21.05795165 22.90191391\n",
      " 34.65856955 17.43053091 22.87233505 22.30724986 12.40720225 21.14533415\n",
      " 20.46036998 25.41402108 18.56510424 29.11025193 22.34310958 20.85418167\n",
      " 18.71890828 19.90374829 27.23479132 25.95550988 27.58557542 22.46574591\n",
      " 20.77889557 23.94374451 21.90991399 19.54903782 20.98486892 14.77765343\n",
      " 19.36660322 21.47847924 22.79212463 21.52478405 20.98555572 22.86726077\n",
      " 18.52760509 23.3149299  25.11549028 13.33250175 21.06599498 23.69833451\n",
      " 19.78106836 27.29607803 21.1112023  17.08872879 25.18257908 22.27038217\n",
      " 33.82295496 26.2832535  21.05826771 24.77897233 20.07233257 26.13784498\n",
      " 20.33173734 30.98361814 13.65128142 21.03194773 21.87431358 16.64276976\n",
      " 15.85833543 21.28883563 17.57017271 16.53457736 17.88201355 17.8426962\n",
      " 22.53251705 12.58280134 22.27289749 11.41224996 23.5716581  13.88085803\n",
      "  9.44882992 21.34201922 28.27982549 17.4276046  25.95938523 30.42863429\n",
      " 21.13242767 22.39554028 14.29386072 15.65490318 22.08716914 25.70572115\n",
      " 21.21053467 26.4293287  25.56516931 21.56392746 13.7788228  18.19878429\n",
      " 18.77889393 22.05071507 17.71252183 20.72637993 20.61509565 25.40173712\n",
      " 29.49972673 18.84248077 24.8047554  24.77438598 29.18484462 28.19106822\n",
      " 18.15323364 14.17786572 21.61120971 21.2873599  12.79794542 27.88316772]\n"
     ]
    }
   ],
   "source": [
    "# 11. Remove all values smaller 15 and larger 26.\n",
    "pos = np.where((trans < 15) & (trans > 26))\n",
    "new = np.delete(trans,pos)\n",
    "print(new)"
   ]
  },
  {
   "cell_type": "code",
   "execution_count": 58,
   "metadata": {},
   "outputs": [
    {
     "name": "stdout",
     "output_type": "stream",
     "text": [
      "[14.2686858   0.          0.          0.          0.          0.\n",
      "  0.         13.10208899  0.          0.          0.         28.81900978\n",
      "  0.          0.          0.          0.          0.          0.\n",
      "  0.          0.         11.29448966 28.90755815 14.52476406  0.\n",
      "  0.          0.          0.          0.          0.          0.\n",
      "  0.          0.          0.          0.         28.88156267  0.\n",
      " 28.98426263  0.         14.98930176  0.          0.          0.\n",
      "  0.          0.          0.          0.          0.         27.07696984\n",
      " 26.85455843  0.          0.         14.76436607  0.          0.\n",
      "  0.          0.          0.          0.          0.          0.\n",
      "  0.          0.          0.          0.          0.          0.\n",
      "  0.          0.          0.          0.          0.         14.1814518\n",
      "  0.          0.          0.          0.          0.          0.\n",
      "  0.          0.          0.          0.          0.          0.\n",
      " 26.58888377  0.         31.05213021 13.73679294  0.          0.\n",
      "  0.         27.03433934  0.         13.49537224  0.          0.\n",
      " 29.40409241  0.          0.          0.          0.          0.\n",
      "  0.          0.          0.          0.         26.40988419  0.\n",
      "  0.          0.          0.          0.          0.          0.\n",
      " 28.12182635  0.          0.          0.          0.          0.\n",
      "  0.          0.         14.6646528   0.          0.          0.\n",
      "  0.         29.96664182 29.13452934  0.          0.         30.46013354\n",
      "  0.          0.          0.          0.         26.00524428  0.\n",
      "  0.          0.          0.         27.28940952  0.         13.32004821\n",
      "  0.          0.          0.          0.          0.          0.\n",
      " 14.95971439 30.45654428  0.          0.         26.77024316  0.\n",
      "  0.          0.         13.29977242 26.60882334  0.          0.\n",
      " 27.70368131  0.          0.          0.         30.84398696  0.\n",
      "  0.          0.          0.          0.          0.          0.\n",
      "  0.          0.         26.73983391 27.76725068  0.          0.\n",
      " 30.46739895  0.          0.          0.          0.          0.\n",
      "  0.         12.87720596  0.         26.02259256  0.         31.68506104\n",
      "  0.          0.         28.54533904 27.04217603  0.         28.99070383\n",
      "  0.          0.          0.          0.          0.          0.\n",
      "  0.          0.          0.          0.          0.          0.\n",
      "  0.          0.          0.          0.          0.         28.44716475\n",
      "  0.          0.          0.          0.          0.          0.\n",
      " 34.65856955  0.          0.          0.         12.40720225  0.\n",
      "  0.          0.          0.         29.11025193  0.          0.\n",
      "  0.          0.         27.23479132  0.         27.58557542  0.\n",
      "  0.          0.          0.          0.          0.         14.77765343\n",
      "  0.          0.          0.          0.          0.          0.\n",
      "  0.          0.          0.         13.33250175  0.          0.\n",
      "  0.         27.29607803  0.          0.          0.          0.\n",
      " 33.82295496 26.2832535   0.          0.          0.         26.13784498\n",
      "  0.         30.98361814 13.65128142  0.          0.          0.\n",
      "  0.          0.          0.          0.          0.          0.\n",
      "  0.         12.58280134  0.         11.41224996  0.         13.88085803\n",
      "  9.44882992  0.         28.27982549  0.          0.         30.42863429\n",
      "  0.          0.         14.29386072  0.          0.          0.\n",
      "  0.         26.4293287   0.          0.         13.7788228   0.\n",
      "  0.          0.          0.          0.          0.          0.\n",
      " 29.49972673  0.          0.          0.         29.18484462 28.19106822\n",
      "  0.         14.17786572  0.          0.         12.79794542 27.88316772]\n"
     ]
    }
   ],
   "source": [
    "# 12 . Clip all values smaller 15 and larger 26 to NaN. See the function Clip\n",
    "cl = np.clip(trans, 15,  26)\n",
    "trans[trans == cl] = 'NaN'\n",
    "new = trans\n",
    "print(new)"
   ]
  },
  {
   "cell_type": "code",
   "execution_count": 59,
   "metadata": {},
   "outputs": [
    {
     "name": "stdout",
     "output_type": "stream",
     "text": [
      "\n",
      "Sum: 1692.1119495839725\n"
     ]
    }
   ],
   "source": [
    "# 13 .Calculate the sum of the resulting array. It should not be NaN!.\n",
    "print(\"\\nSum:\",np.nansum(trans))"
   ]
  },
  {
   "cell_type": "code",
   "execution_count": 56,
   "metadata": {},
   "outputs": [
    {
     "name": "stdout",
     "output_type": "stream",
     "text": [
      "[14.2686858   0.          0.          0.          0.          0.\n",
      "  0.         13.10208899  0.          0.          0.         28.81900978\n",
      "  0.          0.          0.          0.          0.          0.\n",
      "  0.          0.         11.29448966 28.90755815 14.52476406  0.\n",
      "  0.          0.          0.          0.          0.          0.\n",
      "  0.          0.          0.          0.         28.88156267  0.\n",
      " 28.98426263  0.         14.98930176  0.          0.          0.\n",
      "  0.          0.          0.          0.          0.         27.07696984\n",
      " 26.85455843  0.          0.         14.76436607  0.          0.\n",
      "  0.          0.          0.          0.          0.          0.\n",
      "  0.          0.          0.          0.          0.          0.\n",
      "  0.          0.          0.          0.          0.         14.1814518\n",
      "  0.          0.          0.          0.          0.          0.\n",
      "  0.          0.          0.          0.          0.          0.\n",
      " 26.58888377  0.         31.05213021 13.73679294  0.          0.\n",
      "  0.         27.03433934  0.         13.49537224  0.          0.\n",
      " 29.40409241  0.          0.          0.          0.          0.\n",
      "  0.          0.          0.          0.         26.40988419  0.\n",
      "  0.          0.          0.          0.          0.          0.\n",
      " 28.12182635  0.          0.          0.          0.          0.\n",
      "  0.          0.         14.6646528   0.          0.          0.\n",
      "  0.         29.96664182 29.13452934  0.          0.         30.46013354\n",
      "  0.          0.          0.          0.         26.00524428  0.\n",
      "  0.          0.          0.         27.28940952  0.         13.32004821\n",
      "  0.          0.          0.          0.          0.          0.\n",
      " 14.95971439 30.45654428  0.          0.         26.77024316  0.\n",
      "  0.          0.         13.29977242 26.60882334  0.          0.\n",
      " 27.70368131  0.          0.          0.         30.84398696  0.\n",
      "  0.          0.          0.          0.          0.          0.\n",
      "  0.          0.         26.73983391 27.76725068  0.          0.\n",
      " 30.46739895  0.          0.          0.          0.          0.\n",
      "  0.         12.87720596  0.         26.02259256  0.         31.68506104\n",
      "  0.          0.         28.54533904 27.04217603  0.         28.99070383\n",
      "  0.          0.          0.          0.          0.          0.\n",
      "  0.          0.          0.          0.          0.          0.\n",
      "  0.          0.          0.          0.          0.         28.44716475\n",
      "  0.          0.          0.          0.          0.          0.\n",
      " 34.65856955  0.          0.          0.         12.40720225  0.\n",
      "  0.          0.          0.         29.11025193  0.          0.\n",
      "  0.          0.         27.23479132  0.         27.58557542  0.\n",
      "  0.          0.          0.          0.          0.         14.77765343\n",
      "  0.          0.          0.          0.          0.          0.\n",
      "  0.          0.          0.         13.33250175  0.          0.\n",
      "  0.         27.29607803  0.          0.          0.          0.\n",
      " 33.82295496 26.2832535   0.          0.          0.         26.13784498\n",
      "  0.         30.98361814 13.65128142  0.          0.          0.\n",
      "  0.          0.          0.          0.          0.          0.\n",
      "  0.         12.58280134  0.         11.41224996  0.         13.88085803\n",
      "  9.44882992  0.         28.27982549  0.          0.         30.42863429\n",
      "  0.          0.         14.29386072  0.          0.          0.\n",
      "  0.         26.4293287   0.          0.         13.7788228   0.\n",
      "  0.          0.          0.          0.          0.          0.\n",
      " 29.49972673  0.          0.          0.         29.18484462 28.19106822\n",
      "  0.         14.17786572  0.          0.         12.79794542 27.88316772]\n"
     ]
    }
   ],
   "source": [
    "# 14. Convert the NaN’s to 0.0. See Where\n",
    "arr = np.nan_to_num(new,0) \n",
    "print(arr)"
   ]
  },
  {
   "cell_type": "code",
   "execution_count": 57,
   "metadata": {},
   "outputs": [
    {
     "name": "stdout",
     "output_type": "stream",
     "text": [
      "[14.2686858   0.          0.          0.          0.          0.\n",
      "  0.         13.10208899  0.          0.          0.         28.81900978\n",
      "  0.          0.          0.          0.          0.          0.\n",
      "  0.          0.         11.29448966 28.90755815 14.52476406  0.\n",
      "  0.          0.          0.          0.          0.          0.\n",
      "  0.          0.          0.          0.         28.88156267  0.\n",
      " 28.98426263  0.         14.98930176  0.          0.          0.\n",
      "  0.          0.          0.          0.          0.         27.07696984\n",
      " 26.85455843  0.          0.         14.76436607  0.          0.\n",
      "  0.          0.          0.          0.          0.          0.\n",
      "  0.          0.          0.          0.          0.          0.\n",
      "  0.          0.          0.          0.          0.         14.1814518\n",
      "  0.          0.          0.          0.          0.          0.\n",
      "  0.          0.          0.          0.          0.          0.\n",
      " 26.58888377  0.         31.05213021 13.73679294  0.          0.\n",
      "  0.         27.03433934  0.         13.49537224  0.          0.\n",
      " 29.40409241  0.          0.          0.          0.          0.\n",
      "  0.          0.          0.          0.         26.40988419  0.\n",
      "  0.          0.          0.          0.          0.          0.\n",
      " 28.12182635  0.          0.          0.          0.          0.\n",
      "  0.          0.         14.6646528   0.          0.          0.\n",
      "  0.         29.96664182 29.13452934  0.          0.         30.46013354\n",
      "  0.          0.          0.          0.         26.00524428  0.\n",
      "  0.          0.          0.         27.28940952  0.         13.32004821\n",
      "  0.          0.          0.          0.          0.          0.\n",
      " 14.95971439 30.45654428  0.          0.         26.77024316  0.\n",
      "  0.          0.         13.29977242 26.60882334  0.          0.\n",
      " 27.70368131  0.          0.          0.         30.84398696  0.\n",
      "  0.          0.          0.          0.          0.          0.\n",
      "  0.          0.         26.73983391 27.76725068  0.          0.\n",
      " 30.46739895  0.          0.          0.          0.          0.\n",
      "  0.         12.87720596  0.         26.02259256  0.         31.68506104\n",
      "  0.          0.         28.54533904 27.04217603  0.         28.99070383\n",
      "  0.          0.          0.          0.          0.          0.\n",
      "  0.          0.          0.          0.          0.          0.\n",
      "  0.          0.          0.          0.          0.         28.44716475\n",
      "  0.          0.          0.          0.          0.          0.\n",
      " 34.65856955  0.          0.          0.         12.40720225  0.\n",
      "  0.          0.          0.         29.11025193  0.          0.\n",
      "  0.          0.         27.23479132  0.         27.58557542  0.\n",
      "  0.          0.          0.          0.          0.         14.77765343\n",
      "  0.          0.          0.          0.          0.          0.\n",
      "  0.          0.          0.         13.33250175  0.          0.\n",
      "  0.         27.29607803  0.          0.          0.          0.\n",
      " 33.82295496 26.2832535   0.          0.          0.         26.13784498\n",
      "  0.         30.98361814 13.65128142  0.          0.          0.\n",
      "  0.          0.          0.          0.          0.          0.\n",
      "  0.         12.58280134  0.         11.41224996  0.         13.88085803\n",
      "  9.44882992  0.         28.27982549  0.          0.         30.42863429\n",
      "  0.          0.         14.29386072  0.          0.          0.\n",
      "  0.         26.4293287   0.          0.         13.7788228   0.\n",
      "  0.          0.          0.          0.          0.          0.\n",
      " 29.49972673  0.          0.          0.         29.18484462 28.19106822\n",
      "  0.         14.17786572  0.          0.         12.79794542 27.88316772]\n"
     ]
    }
   ],
   "source": [
    "# 15. Save the array and load it again.\n",
    "arr = np.save('lab11.npy', new)\n",
    "new = np.load('lab11.npy')\n",
    "print(new)"
   ]
  },
  {
   "cell_type": "code",
   "execution_count": null,
   "metadata": {},
   "outputs": [],
   "source": []
  },
  {
   "cell_type": "code",
   "execution_count": null,
   "metadata": {},
   "outputs": [],
   "source": []
  },
  {
   "cell_type": "code",
   "execution_count": null,
   "metadata": {},
   "outputs": [],
   "source": []
  },
  {
   "cell_type": "code",
   "execution_count": null,
   "metadata": {},
   "outputs": [],
   "source": []
  },
  {
   "cell_type": "code",
   "execution_count": null,
   "metadata": {},
   "outputs": [],
   "source": []
  },
  {
   "cell_type": "code",
   "execution_count": null,
   "metadata": {},
   "outputs": [],
   "source": []
  },
  {
   "cell_type": "code",
   "execution_count": null,
   "metadata": {},
   "outputs": [],
   "source": []
  }
 ],
 "metadata": {
  "kernelspec": {
   "display_name": "Python 3",
   "language": "python",
   "name": "python3"
  },
  "language_info": {
   "codemirror_mode": {
    "name": "ipython",
    "version": 3
   },
   "file_extension": ".py",
   "mimetype": "text/x-python",
   "name": "python",
   "nbconvert_exporter": "python",
   "pygments_lexer": "ipython3",
   "version": "3.8.8"
  }
 },
 "nbformat": 4,
 "nbformat_minor": 1
}
