{
 "cells": [
  {
   "cell_type": "markdown",
   "id": "297fb41e",
   "metadata": {},
   "source": [
    "# Areeba Ayaz\n",
    "# 20I-0460\n",
    "# AI-K"
   ]
  },
  {
   "cell_type": "code",
   "execution_count": 33,
   "id": "793efad9",
   "metadata": {},
   "outputs": [],
   "source": [
    "import numpy as np\n",
    "import pandas as pd\n",
    "import math\n",
    "from itertools import combinations"
   ]
  },
  {
   "cell_type": "markdown",
   "id": "95a16d6e",
   "metadata": {},
   "source": [
    "# Bonus Task\n",
    "### A friend of yours has just opened a pizza shop and he doesn’t want to you come there fearing you would eat for free. Somehow you sneak in the shop and you order an 8 inch pizza , your friend tells you that he doesn’t have an 8 inch pizza but he can give you two 5 inch ones at the same price with the exact same things. As a statistician, should you be taking that deal? Is that beneficial for you or not? Give statistical reasoning."
   ]
  },
  {
   "cell_type": "code",
   "execution_count": 34,
   "id": "58b33ace",
   "metadata": {},
   "outputs": [
    {
     "name": "stdout",
     "output_type": "stream",
     "text": [
      "Area of the 8 inch pizza is:\n",
      " 50.27\n",
      "-------------------\n",
      "Area of the two 5 inch pizzas is:\n",
      " 39.27\n"
     ]
    }
   ],
   "source": [
    "#calculating areas of both the pizzas\n",
    "#area = pi.r^2\n",
    "\n",
    "#8-inch radius = 4\n",
    "e = math.pi * (4**2)\n",
    "e = round(e,2)\n",
    "print(\"Area of the 8 inch pizza is:\\n\", e)\n",
    "\n",
    "print(\"-------------------\")\n",
    "\n",
    "#5-inch radius = 2.5\n",
    "r = 5/2\n",
    "f = math.pi * (r**2)\n",
    "f = f * 2 #of 2 pizzas\n",
    "f = round(f,2)\n",
    "print(\"Area of the two 5 inch pizzas is:\\n\", f)"
   ]
  },
  {
   "cell_type": "markdown",
   "id": "6d2faa3e",
   "metadata": {},
   "source": [
    "#### It would not be better to get 2 5-inch pizzas, as the area is smaller than that of the 8-inch pizza"
   ]
  },
  {
   "cell_type": "markdown",
   "id": "2db1e6f1",
   "metadata": {},
   "source": [
    "# Task01\n",
    "### You and your friend are standing in front of a magician and he has a basket with 6 white, 4 red and 5 blue balls, each time the magician draws 3 balls and asks you to predict what would be the color of the balls. If you predict correctly the magician loses the game and you win. Since you have become a statistician after doing the ML assignment, what should be the optimal color scheme of the balls that you would propose in order to win the game?"
   ]
  },
  {
   "cell_type": "code",
   "execution_count": 35,
   "id": "e9838d06",
   "metadata": {},
   "outputs": [
    {
     "name": "stdout",
     "output_type": "stream",
     "text": [
      "15\n",
      "------------------\n"
     ]
    },
    {
     "data": {
      "text/plain": [
       "['W', 'W', 'W', 'W', 'W', 'W', 'B', 'B', 'B', 'B', 'B', 'R', 'R', 'R', 'R']"
      ]
     },
     "execution_count": 35,
     "metadata": {},
     "output_type": "execute_result"
    }
   ],
   "source": [
    "white = ['W', 'W', 'W', 'W', 'W', 'W'] #6 white balls\n",
    "blue = ['B', 'B', 'B', 'B', 'B'] #5 blue balls\n",
    "red = ['R', 'R', 'R', 'R'] #4 red balls\n",
    "\n",
    "balls = white\n",
    "#balls.append(blue)\n",
    "balls.extend(blue)\n",
    "balls.extend(red)\n",
    "print(len(balls))\n",
    "print(\"------------------\")\n",
    "balls"
   ]
  },
  {
   "cell_type": "code",
   "execution_count": 36,
   "id": "0096a104",
   "metadata": {},
   "outputs": [
    {
     "data": {
      "text/plain": [
       "[('W', 'W', 'W'),\n",
       " ('B', 'R', 'R'),\n",
       " ('W', 'W', 'B'),\n",
       " ('W', 'B', 'R'),\n",
       " ('W', 'W', 'R'),\n",
       " ('W', 'B', 'B'),\n",
       " ('B', 'B', 'R'),\n",
       " ('W', 'R', 'R'),\n",
       " ('B', 'B', 'B'),\n",
       " ('R', 'R', 'R')]"
      ]
     },
     "execution_count": 36,
     "metadata": {},
     "output_type": "execute_result"
    }
   ],
   "source": [
    "#should have 455 possible combinations\n",
    "comb = combinations(balls,3) #3 balls each time\n",
    "c =[]\n",
    "\n",
    "for i in comb:\n",
    "    c.append(i)\n",
    "\n",
    "#print(c)\n",
    "#to check\n",
    "len(c)\n",
    "\n",
    "unique =set(combinations(balls,3)) #unique combinations\n",
    "unique = set(uniqueCombinations)\n",
    "\n",
    "u =list(uniqueCombinations)\n",
    "u"
   ]
  },
  {
   "cell_type": "code",
   "execution_count": 37,
   "id": "ee0f4306",
   "metadata": {},
   "outputs": [
    {
     "name": "stdout",
     "output_type": "stream",
     "text": [
      "10\n",
      "Combinations: 20 \n",
      "Probability: 0.04395604395604396\n",
      "-----------------------------\n",
      "Combinations: 30 \n",
      "Probability: 0.06593406593406594\n",
      "-----------------------------\n",
      "Combinations: 75 \n",
      "Probability: 0.16483516483516483\n",
      "-----------------------------\n"
     ]
    }
   ],
   "source": [
    "size =(len(u))\n",
    "print(size)\n",
    "\n",
    "arr = [0]*size\n",
    "#print(arr)\n",
    "\n",
    "for i, j in enumerate(u):\n",
    "    arr[i]= c.count(j)\n",
    "\n",
    "for index, a in enumerate(arr):\n",
    "    if a == max(arr):\n",
    "        break\n",
    "    print('Combinations:',a, '\\nProbability:', a/len(c))\n",
    "    print(\"-----------------------------\")"
   ]
  },
  {
   "cell_type": "markdown",
   "id": "c8fcf9d0",
   "metadata": {},
   "source": [
    "# Task 02"
   ]
  },
  {
   "cell_type": "code",
   "execution_count": 41,
   "id": "f317d305",
   "metadata": {},
   "outputs": [
    {
     "data": {
      "text/html": [
       "<div>\n",
       "<style scoped>\n",
       "    .dataframe tbody tr th:only-of-type {\n",
       "        vertical-align: middle;\n",
       "    }\n",
       "\n",
       "    .dataframe tbody tr th {\n",
       "        vertical-align: top;\n",
       "    }\n",
       "\n",
       "    .dataframe thead th {\n",
       "        text-align: right;\n",
       "    }\n",
       "</style>\n",
       "<table border=\"1\" class=\"dataframe\">\n",
       "  <thead>\n",
       "    <tr style=\"text-align: right;\">\n",
       "      <th></th>\n",
       "      <th>SepalLengthCm</th>\n",
       "      <th>SepalWidthCm</th>\n",
       "      <th>PetalLengthCm</th>\n",
       "      <th>PetalWidthCm</th>\n",
       "      <th>Species</th>\n",
       "    </tr>\n",
       "  </thead>\n",
       "  <tbody>\n",
       "    <tr>\n",
       "      <th>0</th>\n",
       "      <td>5.1</td>\n",
       "      <td>3.5</td>\n",
       "      <td>1.4</td>\n",
       "      <td>0.2</td>\n",
       "      <td>Iris-setosa</td>\n",
       "    </tr>\n",
       "    <tr>\n",
       "      <th>1</th>\n",
       "      <td>4.9</td>\n",
       "      <td>3.0</td>\n",
       "      <td>1.4</td>\n",
       "      <td>0.2</td>\n",
       "      <td>Iris-setosa</td>\n",
       "    </tr>\n",
       "    <tr>\n",
       "      <th>2</th>\n",
       "      <td>4.7</td>\n",
       "      <td>3.2</td>\n",
       "      <td>1.3</td>\n",
       "      <td>0.2</td>\n",
       "      <td>Iris-setosa</td>\n",
       "    </tr>\n",
       "    <tr>\n",
       "      <th>3</th>\n",
       "      <td>4.6</td>\n",
       "      <td>3.1</td>\n",
       "      <td>1.5</td>\n",
       "      <td>0.2</td>\n",
       "      <td>Iris-setosa</td>\n",
       "    </tr>\n",
       "    <tr>\n",
       "      <th>4</th>\n",
       "      <td>5.0</td>\n",
       "      <td>3.6</td>\n",
       "      <td>1.4</td>\n",
       "      <td>0.2</td>\n",
       "      <td>Iris-setosa</td>\n",
       "    </tr>\n",
       "  </tbody>\n",
       "</table>\n",
       "</div>"
      ],
      "text/plain": [
       "   SepalLengthCm  SepalWidthCm  PetalLengthCm  PetalWidthCm      Species\n",
       "0            5.1           3.5            1.4           0.2  Iris-setosa\n",
       "1            4.9           3.0            1.4           0.2  Iris-setosa\n",
       "2            4.7           3.2            1.3           0.2  Iris-setosa\n",
       "3            4.6           3.1            1.5           0.2  Iris-setosa\n",
       "4            5.0           3.6            1.4           0.2  Iris-setosa"
      ]
     },
     "execution_count": 41,
     "metadata": {},
     "output_type": "execute_result"
    }
   ],
   "source": [
    "df = pd.read_csv('Iris.csv')\n",
    "df.drop('Id',axis=1,inplace = True)\n",
    "df.columns\n",
    "\n",
    "df.head()"
   ]
  },
  {
   "cell_type": "code",
   "execution_count": 44,
   "id": "64d984b7",
   "metadata": {},
   "outputs": [
    {
     "name": "stdout",
     "output_type": "stream",
     "text": [
      "[[5.1 3.5 1.4 0.2]\n",
      " [4.9 3.  1.4 0.2]\n",
      " [4.7 3.2 1.3 0.2]\n",
      " [4.6 3.1 1.5 0.2]\n",
      " [5.  3.6 1.4 0.2]\n",
      " [5.4 3.9 1.7 0.4]\n",
      " [4.6 3.4 1.4 0.3]\n",
      " [5.  3.4 1.5 0.2]\n",
      " [4.4 2.9 1.4 0.2]\n",
      " [4.9 3.1 1.5 0.1]\n",
      " [5.4 3.7 1.5 0.2]\n",
      " [4.8 3.4 1.6 0.2]\n",
      " [4.8 3.  1.4 0.1]\n",
      " [4.3 3.  1.1 0.1]\n",
      " [5.8 4.  1.2 0.2]\n",
      " [5.7 4.4 1.5 0.4]\n",
      " [5.4 3.9 1.3 0.4]\n",
      " [5.1 3.5 1.4 0.3]\n",
      " [5.7 3.8 1.7 0.3]\n",
      " [5.1 3.8 1.5 0.3]\n",
      " [5.4 3.4 1.7 0.2]\n",
      " [5.1 3.7 1.5 0.4]\n",
      " [4.6 3.6 1.  0.2]\n",
      " [5.1 3.3 1.7 0.5]\n",
      " [4.8 3.4 1.9 0.2]\n",
      " [5.  3.  1.6 0.2]\n",
      " [5.  3.4 1.6 0.4]\n",
      " [5.2 3.5 1.5 0.2]\n",
      " [5.2 3.4 1.4 0.2]\n",
      " [4.7 3.2 1.6 0.2]\n",
      " [4.8 3.1 1.6 0.2]\n",
      " [5.4 3.4 1.5 0.4]\n",
      " [5.2 4.1 1.5 0.1]\n",
      " [5.5 4.2 1.4 0.2]\n",
      " [4.9 3.1 1.5 0.1]\n",
      " [5.  3.2 1.2 0.2]\n",
      " [5.5 3.5 1.3 0.2]\n",
      " [4.9 3.1 1.5 0.1]\n",
      " [4.4 3.  1.3 0.2]\n",
      " [5.1 3.4 1.5 0.2]\n",
      " [5.  3.5 1.3 0.3]\n",
      " [4.5 2.3 1.3 0.3]\n",
      " [4.4 3.2 1.3 0.2]\n",
      " [5.  3.5 1.6 0.6]\n",
      " [5.1 3.8 1.9 0.4]\n",
      " [4.8 3.  1.4 0.3]\n",
      " [5.1 3.8 1.6 0.2]\n",
      " [4.6 3.2 1.4 0.2]\n",
      " [5.3 3.7 1.5 0.2]\n",
      " [5.  3.3 1.4 0.2]\n",
      " [7.  3.2 4.7 1.4]\n",
      " [6.4 3.2 4.5 1.5]\n",
      " [6.9 3.1 4.9 1.5]\n",
      " [5.5 2.3 4.  1.3]\n",
      " [6.5 2.8 4.6 1.5]\n",
      " [5.7 2.8 4.5 1.3]\n",
      " [6.3 3.3 4.7 1.6]\n",
      " [4.9 2.4 3.3 1. ]\n",
      " [6.6 2.9 4.6 1.3]\n",
      " [5.2 2.7 3.9 1.4]\n",
      " [5.  2.  3.5 1. ]\n",
      " [5.9 3.  4.2 1.5]\n",
      " [6.  2.2 4.  1. ]\n",
      " [6.1 2.9 4.7 1.4]\n",
      " [5.6 2.9 3.6 1.3]\n",
      " [6.7 3.1 4.4 1.4]\n",
      " [5.6 3.  4.5 1.5]\n",
      " [5.8 2.7 4.1 1. ]\n",
      " [6.2 2.2 4.5 1.5]\n",
      " [5.6 2.5 3.9 1.1]\n",
      " [5.9 3.2 4.8 1.8]\n",
      " [6.1 2.8 4.  1.3]\n",
      " [6.3 2.5 4.9 1.5]\n",
      " [6.1 2.8 4.7 1.2]\n",
      " [6.4 2.9 4.3 1.3]\n",
      " [6.6 3.  4.4 1.4]\n",
      " [6.8 2.8 4.8 1.4]\n",
      " [6.7 3.  5.  1.7]\n",
      " [6.  2.9 4.5 1.5]\n",
      " [5.7 2.6 3.5 1. ]\n",
      " [5.5 2.4 3.8 1.1]\n",
      " [5.5 2.4 3.7 1. ]\n",
      " [5.8 2.7 3.9 1.2]\n",
      " [6.  2.7 5.1 1.6]\n",
      " [5.4 3.  4.5 1.5]\n",
      " [6.  3.4 4.5 1.6]\n",
      " [6.7 3.1 4.7 1.5]\n",
      " [6.3 2.3 4.4 1.3]\n",
      " [5.6 3.  4.1 1.3]\n",
      " [5.5 2.5 4.  1.3]\n",
      " [5.5 2.6 4.4 1.2]\n",
      " [6.1 3.  4.6 1.4]\n",
      " [5.8 2.6 4.  1.2]\n",
      " [5.  2.3 3.3 1. ]\n",
      " [5.6 2.7 4.2 1.3]\n",
      " [5.7 3.  4.2 1.2]\n",
      " [5.7 2.9 4.2 1.3]\n",
      " [6.2 2.9 4.3 1.3]\n",
      " [5.1 2.5 3.  1.1]\n",
      " [5.7 2.8 4.1 1.3]\n",
      " [6.3 3.3 6.  2.5]\n",
      " [5.8 2.7 5.1 1.9]\n",
      " [7.1 3.  5.9 2.1]\n",
      " [6.3 2.9 5.6 1.8]\n",
      " [6.5 3.  5.8 2.2]\n",
      " [7.6 3.  6.6 2.1]\n",
      " [4.9 2.5 4.5 1.7]\n",
      " [7.3 2.9 6.3 1.8]\n",
      " [6.7 2.5 5.8 1.8]\n",
      " [7.2 3.6 6.1 2.5]\n",
      " [6.5 3.2 5.1 2. ]\n",
      " [6.4 2.7 5.3 1.9]\n",
      " [6.8 3.  5.5 2.1]\n",
      " [5.7 2.5 5.  2. ]\n",
      " [5.8 2.8 5.1 2.4]\n",
      " [6.4 3.2 5.3 2.3]\n",
      " [6.5 3.  5.5 1.8]\n",
      " [7.7 3.8 6.7 2.2]\n",
      " [7.7 2.6 6.9 2.3]\n",
      " [6.  2.2 5.  1.5]\n",
      " [6.9 3.2 5.7 2.3]\n",
      " [5.6 2.8 4.9 2. ]\n",
      " [7.7 2.8 6.7 2. ]\n",
      " [6.3 2.7 4.9 1.8]\n",
      " [6.7 3.3 5.7 2.1]\n",
      " [7.2 3.2 6.  1.8]\n",
      " [6.2 2.8 4.8 1.8]\n",
      " [6.1 3.  4.9 1.8]\n",
      " [6.4 2.8 5.6 2.1]\n",
      " [7.2 3.  5.8 1.6]\n",
      " [7.4 2.8 6.1 1.9]\n",
      " [7.9 3.8 6.4 2. ]\n",
      " [6.4 2.8 5.6 2.2]\n",
      " [6.3 2.8 5.1 1.5]\n",
      " [6.1 2.6 5.6 1.4]\n",
      " [7.7 3.  6.1 2.3]\n",
      " [6.3 3.4 5.6 2.4]\n",
      " [6.4 3.1 5.5 1.8]\n",
      " [6.  3.  4.8 1.8]\n",
      " [6.9 3.1 5.4 2.1]\n",
      " [6.7 3.1 5.6 2.4]\n",
      " [6.9 3.1 5.1 2.3]\n",
      " [5.8 2.7 5.1 1.9]\n",
      " [6.8 3.2 5.9 2.3]\n",
      " [6.7 3.3 5.7 2.5]\n",
      " [6.7 3.  5.2 2.3]\n",
      " [6.3 2.5 5.  1.9]\n",
      " [6.5 3.  5.2 2. ]\n",
      " [6.2 3.4 5.4 2.3]\n",
      " [5.9 3.  5.1 1.8]]\n"
     ]
    }
   ],
   "source": [
    "u = df['Species'].unique()\n",
    "\n",
    "df1= df.drop('Species', axis = 1)\n",
    "nu = df1.to_numpy() \n",
    "\n",
    "print(nu) "
   ]
  },
  {
   "cell_type": "code",
   "execution_count": 71,
   "id": "5b226646",
   "metadata": {},
   "outputs": [
    {
     "name": "stdout",
     "output_type": "stream",
     "text": [
      "Covarinace:\n",
      " [               SepalLengthCm  SepalWidthCm  PetalLengthCm  PetalWidthCm\n",
      "SepalLengthCm       0.124249      0.100298       0.016139      0.010547\n",
      "SepalWidthCm        0.100298      0.145180       0.011682      0.011437\n",
      "PetalLengthCm       0.016139      0.011682       0.030106      0.005698\n",
      "PetalWidthCm        0.010547      0.011437       0.005698      0.011494,                SepalLengthCm  SepalWidthCm  PetalLengthCm  PetalWidthCm\n",
      "SepalLengthCm       0.266433      0.085184       0.182898      0.055780\n",
      "SepalWidthCm        0.085184      0.098469       0.082653      0.041204\n",
      "PetalLengthCm       0.182898      0.082653       0.220816      0.073102\n",
      "PetalWidthCm        0.055780      0.041204       0.073102      0.039106,                SepalLengthCm  SepalWidthCm  PetalLengthCm  PetalWidthCm\n",
      "SepalLengthCm       0.404343      0.093763       0.303290      0.049094\n",
      "SepalWidthCm        0.093763      0.104004       0.071380      0.047629\n",
      "PetalLengthCm       0.303290      0.071380       0.304588      0.048824\n",
      "PetalWidthCm        0.049094      0.047629       0.048824      0.075433]\n",
      "-------------------------------------\n",
      "-------------------------------------\n",
      "Covarince 2:\n",
      " [[[0.12424898 0.         0.         0.        ]\n",
      "  [0.         0.14517959 0.         0.        ]\n",
      "  [0.         0.         0.03010612 0.        ]\n",
      "  [0.         0.         0.         0.01149388]]\n",
      "\n",
      " [[0.26643265 0.         0.         0.        ]\n",
      "  [0.         0.09846939 0.         0.        ]\n",
      "  [0.         0.         0.22081633 0.        ]\n",
      "  [0.         0.         0.         0.03910612]]\n",
      "\n",
      " [[0.40434286 0.         0.         0.        ]\n",
      "  [0.         0.10400408 0.         0.        ]\n",
      "  [0.         0.         0.30458776 0.        ]\n",
      "  [0.         0.         0.         0.07543265]]]\n"
     ]
    }
   ],
   "source": [
    "#finding covarinace\n",
    "co = []\n",
    "ind = df['Species']\n",
    "for i in u:\n",
    "    co.append(df[ind == i].cov())\n",
    "    \n",
    "print (\"Covarinace:\\n\",co)\n",
    "print(\"-------------------------------------\")\n",
    "print(\"-------------------------------------\")\n",
    "co2 = np.array(co)\n",
    "for a in range(0,3):\n",
    "    for b in range(0,4):\n",
    "        for c in range(0,4):\n",
    "            if c != b:\n",
    "                co2[a][c][b] = 0             \n",
    "print(\"Covarince 2:\\n\",co2)"
   ]
  },
  {
   "cell_type": "code",
   "execution_count": 72,
   "id": "a64b234c",
   "metadata": {},
   "outputs": [
    {
     "name": "stdout",
     "output_type": "stream",
     "text": [
      "Determinant function:\n",
      " [6.24194290e-06 2.26550291e-04 9.66211009e-04]\n",
      "-------------------------------\n",
      "Inverse:\n",
      " [[[ 8.04835584  0.          0.          0.        ]\n",
      "  [ 0.          6.88802047  0.          0.        ]\n",
      "  [ 0.          0.         33.21583514  0.        ]\n",
      "  [ 0.          0.          0.         87.00284091]]\n",
      "\n",
      " [[ 3.75329371  0.          0.          0.        ]\n",
      "  [ 0.         10.15544041  0.          0.        ]\n",
      "  [ 0.          0.          4.52865065  0.        ]\n",
      "  [ 0.          0.          0.         25.57144348]]\n",
      "\n",
      " [[ 2.47314867  0.          0.          0.        ]\n",
      "  [ 0.          9.61500726  0.          0.        ]\n",
      "  [ 0.          0.          3.28312607  0.        ]\n",
      "  [ 0.          0.          0.         13.2568584 ]]]\n"
     ]
    }
   ],
   "source": [
    "from numpy import linalg as LA\n",
    "det = LA.det(co2)\n",
    "print(\"Determinant function:\\n\",det)\n",
    "\n",
    "print(\"-------------------------------\")\n",
    "\n",
    "inverse= LA.inv(co2)\n",
    "print(\"Inverse:\\n\",inverse)"
   ]
  },
  {
   "cell_type": "markdown",
   "id": "7edef84e",
   "metadata": {},
   "source": [
    "# Task 03"
   ]
  },
  {
   "cell_type": "code",
   "execution_count": 73,
   "id": "8605fd31",
   "metadata": {},
   "outputs": [],
   "source": [
    "from sklearn.naive_bayes import GaussianNB\n",
    "from sklearn.model_selection import train_test_split\n",
    "from sklearn.metrics import classification_report\n",
    "from sklearn.preprocessing import LabelEncoder\n",
    "from sklearn.metrics import accuracy_score\n",
    "from sklearn.metrics import f1_score"
   ]
  },
  {
   "cell_type": "code",
   "execution_count": 74,
   "id": "3e95958e",
   "metadata": {},
   "outputs": [],
   "source": [
    "df = pd.read_csv(\"Iris.csv\")\n",
    "df = df.drop('Id' , axis=1)\n",
    "labels = df['Species']\n",
    "le = LabelEncoder()\n",
    "X = df.drop(\"Species\", axis = 1)\n",
    "y = le.fit_transform(labels)\n",
    "\n",
    "X_train, X_test, y_train, y_test = train_test_split(X, y, test_size = 0.3, random_state = 52)"
   ]
  },
  {
   "cell_type": "code",
   "execution_count": 75,
   "id": "f89ecae0",
   "metadata": {},
   "outputs": [
    {
     "name": "stdout",
     "output_type": "stream",
     "text": [
      "Score:\n",
      " 0.9111111111111111\n"
     ]
    }
   ],
   "source": [
    "clf1 = GaussianNB()\n",
    "clf1.fit(X_train, y_train)\n",
    "predict = clf1.predict(X_test)\n",
    "score = clf1.score(X_test,y_test)\n",
    "print(\"Score:\\n\",score)"
   ]
  },
  {
   "cell_type": "code",
   "execution_count": 76,
   "id": "e8a63582",
   "metadata": {},
   "outputs": [
    {
     "name": "stdout",
     "output_type": "stream",
     "text": [
      "[[5.  3.5 1.6 0.6]\n",
      " [4.9 3.1 1.5 0.1]\n",
      " [6.8 3.2 5.9 2.3]\n",
      " [6.7 3.  5.2 2.3]\n",
      " [7.3 2.9 6.3 1.8]\n",
      " [6.9 3.1 4.9 1.5]\n",
      " [5.  2.  3.5 1. ]\n",
      " [4.5 2.3 1.3 0.3]\n",
      " [7.7 2.8 6.7 2. ]\n",
      " [7.9 3.8 6.4 2. ]\n",
      " [6.7 3.3 5.7 2.1]\n",
      " [6.5 3.  5.8 2.2]\n",
      " [6.  2.7 5.1 1.6]\n",
      " [4.6 3.1 1.5 0.2]\n",
      " [7.4 2.8 6.1 1.9]\n",
      " [7.7 2.6 6.9 2.3]\n",
      " [5.1 3.3 1.7 0.5]\n",
      " [6.5 3.  5.5 1.8]\n",
      " [7.1 3.  5.9 2.1]\n",
      " [4.8 3.4 1.9 0.2]\n",
      " [5.7 2.6 3.5 1. ]\n",
      " [5.2 3.5 1.5 0.2]\n",
      " [6.1 3.  4.6 1.4]\n",
      " [5.7 2.9 4.2 1.3]\n",
      " [6.2 2.8 4.8 1.8]\n",
      " [7.7 3.8 6.7 2.2]\n",
      " [5.5 2.3 4.  1.3]\n",
      " [5.6 2.5 3.9 1.1]\n",
      " [7.2 3.6 6.1 2.5]\n",
      " [5.6 3.  4.5 1.5]\n",
      " [7.  3.2 4.7 1.4]\n",
      " [7.7 3.  6.1 2.3]\n",
      " [6.4 3.2 4.5 1.5]\n",
      " [5.1 3.8 1.5 0.3]\n",
      " [6.3 2.5 4.9 1.5]\n",
      " [5.1 3.8 1.9 0.4]\n",
      " [7.2 3.2 6.  1.8]\n",
      " [5.4 3.  4.5 1.5]\n",
      " [5.6 2.8 4.9 2. ]\n",
      " [6.3 3.3 4.7 1.6]\n",
      " [5.  3.6 1.4 0.2]\n",
      " [5.5 2.4 3.8 1.1]\n",
      " [6.  2.2 4.  1. ]\n",
      " [4.7 3.2 1.3 0.2]\n",
      " [5.9 3.2 4.8 1.8]]\n"
     ]
    }
   ],
   "source": [
    "t = np.array(X_test)\n",
    "print(t)"
   ]
  },
  {
   "cell_type": "code",
   "execution_count": 77,
   "id": "2c982a8a",
   "metadata": {},
   "outputs": [
    {
     "data": {
      "text/plain": [
       "array([4.7, 3. , 6.9, 2.2])"
      ]
     },
     "execution_count": 77,
     "metadata": {},
     "output_type": "execute_result"
    }
   ],
   "source": [
    "arr = [4.7,3.0,6.9,2.2]\n",
    "arr = np.array(arr)\n",
    "arr"
   ]
  },
  {
   "cell_type": "code",
   "execution_count": 78,
   "id": "2b0bdbab",
   "metadata": {},
   "outputs": [],
   "source": [
    "def find(d , val , m , inverse):\n",
    "    tr = (val - m).T\n",
    "    tr = (-0.5) * tr\n",
    "    \n",
    "    dd =  ((2*3.14)**4)*d\n",
    "    dd = 1/ dd \n",
    "    dd = dd **(1/2)\n",
    "    \n",
    "    s = val - m\n",
    "    o = np.dot((inverse),(s))\n",
    "    o.reshape(4,1)\n",
    "    \n",
    "    o = np.dot(tr.T , o)\n",
    "    ans = 2.718 ** o\n",
    "        \n",
    "    return dd * ans"
   ]
  },
  {
   "cell_type": "code",
   "execution_count": 79,
   "id": "50d8acb3",
   "metadata": {},
   "outputs": [
    {
     "name": "stdout",
     "output_type": "stream",
     "text": [
      "[2, 2, 2, 2, 2, 2, 2, 2, 2, 2, 2, 2, 2, 2, 2, 2, 2, 2, 2, 2, 2, 2, 2, 2, 2, 2, 2, 2, 2, 2, 2, 2, 2, 2, 2, 2, 2, 2, 2, 2, 2, 2, 2, 2, 2]\n"
     ]
    }
   ],
   "source": [
    "check = []\n",
    "size = 149 * (0.3)\n",
    "size = int(size)\n",
    "size += 1\n",
    "\n",
    "#finding the mean\n",
    "m = np.mean(nu,axis=0)\n",
    "\n",
    "for i in range(0,size):\n",
    "    p1 = find(det[0] , arr , m[0] , inverse[0])\n",
    "    p1 *= 1/3\n",
    "    \n",
    "    p2 = find(det[1] , arr , m[1] , inverse[1])\n",
    "    p2*=1/3\n",
    "    \n",
    "    p3 = find(det[2] , arr , m[2] , inverse[2])\n",
    "    p3*=1/3\n",
    "    \n",
    "    if p1 > p2 and p1 > p3:\n",
    "        check.append(0)\n",
    "    \n",
    "    if p2 > p1 and p2 > p3:\n",
    "        check.append(1)\n",
    "\n",
    "    if p3 > p1 and p3 > p2:\n",
    "        check.append(2)\n",
    "print(check)  "
   ]
  },
  {
   "cell_type": "code",
   "execution_count": 80,
   "id": "af5894d0",
   "metadata": {},
   "outputs": [
    {
     "data": {
      "text/plain": [
       "17"
      ]
     },
     "execution_count": 80,
     "metadata": {},
     "output_type": "execute_result"
    }
   ],
   "source": [
    "add = 0\n",
    "for i in range(0,45):\n",
    "    if check[i] == y_test[i]:\n",
    "        add = add + 1 \n",
    "add"
   ]
  },
  {
   "cell_type": "code",
   "execution_count": 85,
   "id": "b1b2da04",
   "metadata": {},
   "outputs": [
    {
     "name": "stdout",
     "output_type": "stream",
     "text": [
      "Accuracy of the built-in function:\n",
      " 9111.111111111111\n",
      "----------------------------------\n",
      "Accuracy wthout using built-in function:\n",
      " 37.77777777777778\n"
     ]
    }
   ],
   "source": [
    "score *= 100\n",
    "print(\"Accuracy of the built-in function:\\n\" , score*100)\n",
    "\n",
    "print(\"----------------------------------\")\n",
    "\n",
    "accuracy = add/len(y_test)\n",
    "accuracy *= 100\n",
    "print(\"Accuracy wthout using built-in function:\\n\" , accuracy)"
   ]
  },
  {
   "cell_type": "markdown",
   "id": "a290835c",
   "metadata": {},
   "source": [
    "#### The accuarcy is better after using the built-in function, so it is better to use that"
   ]
  },
  {
   "cell_type": "code",
   "execution_count": null,
   "id": "130add9b",
   "metadata": {},
   "outputs": [],
   "source": []
  }
 ],
 "metadata": {
  "kernelspec": {
   "display_name": "Python 3",
   "language": "python",
   "name": "python3"
  },
  "language_info": {
   "codemirror_mode": {
    "name": "ipython",
    "version": 3
   },
   "file_extension": ".py",
   "mimetype": "text/x-python",
   "name": "python",
   "nbconvert_exporter": "python",
   "pygments_lexer": "ipython3",
   "version": "3.8.8"
  }
 },
 "nbformat": 4,
 "nbformat_minor": 5
}
