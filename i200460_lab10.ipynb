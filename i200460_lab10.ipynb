{
 "cells": [
  {
   "cell_type": "code",
   "execution_count": 86,
   "id": "88ff3962",
   "metadata": {},
   "outputs": [],
   "source": [
    "import numpy as np\n",
    "from numpy import random"
   ]
  },
  {
   "cell_type": "markdown",
   "id": "2ae13ef6",
   "metadata": {},
   "source": [
    "# Create a numpy array of int, characters, float and find their shapes"
   ]
  },
  {
   "cell_type": "code",
   "execution_count": 87,
   "id": "701da96c",
   "metadata": {},
   "outputs": [
    {
     "name": "stdout",
     "output_type": "stream",
     "text": [
      "[1 2 3 4 5]\n",
      "---------------------\n",
      "(5,)\n"
     ]
    }
   ],
   "source": [
    "arr = np.array([1, 2, 3, 4,5])\n",
    "print(arr)\n",
    "print(\"---------------------\")\n",
    "print(arr.shape)"
   ]
  },
  {
   "cell_type": "code",
   "execution_count": 88,
   "id": "17eaca52",
   "metadata": {},
   "outputs": [
    {
     "name": "stdout",
     "output_type": "stream",
     "text": [
      "['a' 'b' 'c' 'd' 'e']\n",
      "---------------------\n",
      "(5,)\n"
     ]
    }
   ],
   "source": [
    "arrc = np.array(['a', 'b', 'c', 'd','e'])\n",
    "print(arrc)\n",
    "print(\"---------------------\")\n",
    "print(arrc.shape)"
   ]
  },
  {
   "cell_type": "code",
   "execution_count": 89,
   "id": "8e0c04af",
   "metadata": {},
   "outputs": [
    {
     "name": "stdout",
     "output_type": "stream",
     "text": [
      "[2.1 6.3 4.7 3.6]\n",
      "---------------------\n",
      "(4,)\n"
     ]
    }
   ],
   "source": [
    "arr3 = np.array([2.1,6.3,4.7,3.6])\n",
    "print(arr3)\n",
    "print(\"---------------------\")\n",
    "print(arr3.shape)"
   ]
  },
  {
   "cell_type": "markdown",
   "id": "90580e1d",
   "metadata": {},
   "source": [
    "# Create a zeros, empty, identity , eye and a full array"
   ]
  },
  {
   "cell_type": "code",
   "execution_count": 90,
   "id": "03e431f3",
   "metadata": {},
   "outputs": [
    {
     "name": "stdout",
     "output_type": "stream",
     "text": [
      "[[0 0 0]\n",
      " [0 0 0]]\n"
     ]
    }
   ],
   "source": [
    "arrz = np.zeros((2,3), dtype=int, order='C')\n",
    "print(arrz)"
   ]
  },
  {
   "cell_type": "code",
   "execution_count": 91,
   "id": "28e75b64",
   "metadata": {},
   "outputs": [
    {
     "name": "stdout",
     "output_type": "stream",
     "text": [
      "[[0 0 0]\n",
      " [0 0 0]]\n"
     ]
    }
   ],
   "source": [
    "arre = np.empty((2,3), dtype = int, order='C')\n",
    "print(arre)"
   ]
  },
  {
   "cell_type": "code",
   "execution_count": 92,
   "id": "fd9a8952",
   "metadata": {},
   "outputs": [
    {
     "data": {
      "text/plain": [
       "array([[1, 0],\n",
       "       [0, 1]])"
      ]
     },
     "execution_count": 92,
     "metadata": {},
     "output_type": "execute_result"
    }
   ],
   "source": [
    "arri = np.identity(2, dtype = int)\n",
    "arri"
   ]
  },
  {
   "cell_type": "code",
   "execution_count": 93,
   "id": "1febce1b",
   "metadata": {},
   "outputs": [
    {
     "data": {
      "text/plain": [
       "array([[0, 0, 0, 1, 0, 0, 0, 0, 0],\n",
       "       [0, 0, 0, 0, 1, 0, 0, 0, 0],\n",
       "       [0, 0, 0, 0, 0, 1, 0, 0, 0],\n",
       "       [0, 0, 0, 0, 0, 0, 1, 0, 0],\n",
       "       [0, 0, 0, 0, 0, 0, 0, 1, 0],\n",
       "       [0, 0, 0, 0, 0, 0, 0, 0, 1],\n",
       "       [0, 0, 0, 0, 0, 0, 0, 0, 0],\n",
       "       [0, 0, 0, 0, 0, 0, 0, 0, 0],\n",
       "       [0, 0, 0, 0, 0, 0, 0, 0, 0]])"
      ]
     },
     "execution_count": 93,
     "metadata": {},
     "output_type": "execute_result"
    }
   ],
   "source": [
    "arre2 = np.eye(9,k = 3, dtype = int) #k is the diagnol\n",
    "arre2"
   ]
  },
  {
   "cell_type": "code",
   "execution_count": 94,
   "id": "11475919",
   "metadata": {},
   "outputs": [
    {
     "name": "stdout",
     "output_type": "stream",
     "text": [
      "[[11 11]\n",
      " [11 11]\n",
      " [11 11]\n",
      " [11 11]]\n"
     ]
    }
   ],
   "source": [
    "arrf = np.full([4, 2],11, dtype = int)\n",
    "print(arrf)"
   ]
  },
  {
   "cell_type": "markdown",
   "id": "c37296ee",
   "metadata": {},
   "source": [
    "# Declare an array having the datatype of object, is it possible?"
   ]
  },
  {
   "cell_type": "code",
   "execution_count": 95,
   "id": "5b0c9014",
   "metadata": {},
   "outputs": [
    {
     "name": "stdout",
     "output_type": "stream",
     "text": [
      "[[None None None]\n",
      " [None None None]]\n"
     ]
    }
   ],
   "source": [
    "arro = np.empty((2,3), dtype = object) \n",
    "print(arro)"
   ]
  },
  {
   "cell_type": "markdown",
   "id": "f10cc775",
   "metadata": {},
   "source": [
    "#### Yes, it is possible"
   ]
  },
  {
   "cell_type": "markdown",
   "id": "0ecab3c8",
   "metadata": {},
   "source": [
    "# Create an array having 5 equally spaced numbers ranging from 5 to 15"
   ]
  },
  {
   "cell_type": "code",
   "execution_count": 96,
   "id": "885f33a8",
   "metadata": {},
   "outputs": [
    {
     "data": {
      "text/plain": [
       "array([ 5,  7, 10, 12, 15])"
      ]
     },
     "execution_count": 96,
     "metadata": {},
     "output_type": "execute_result"
    }
   ],
   "source": [
    "arrs = np.linspace(5, 15, num = 5, dtype = int)\n",
    "arrs"
   ]
  },
  {
   "cell_type": "markdown",
   "id": "608b9959",
   "metadata": {},
   "source": [
    "# Create a numpy array ranging from 1 to 100."
   ]
  },
  {
   "cell_type": "code",
   "execution_count": 97,
   "id": "d3be69ec",
   "metadata": {},
   "outputs": [
    {
     "data": {
      "text/plain": [
       "array([  1,   2,   3,   4,   5,   6,   7,   8,   9,  10,  11,  12,  13,\n",
       "        14,  15,  16,  17,  18,  19,  20,  21,  22,  23,  24,  25,  26,\n",
       "        27,  28,  29,  30,  31,  32,  33,  34,  35,  36,  37,  38,  39,\n",
       "        40,  41,  42,  43,  44,  45,  46,  47,  48,  49,  50,  51,  52,\n",
       "        53,  54,  55,  56,  57,  58,  59,  60,  61,  62,  63,  64,  65,\n",
       "        66,  67,  68,  69,  70,  71,  72,  73,  74,  75,  76,  77,  78,\n",
       "        79,  80,  81,  82,  83,  84,  85,  86,  87,  88,  89,  90,  91,\n",
       "        92,  93,  94,  95,  96,  97,  98,  99, 100])"
      ]
     },
     "execution_count": 97,
     "metadata": {},
     "output_type": "execute_result"
    }
   ],
   "source": [
    "arr2 = np.arange(1,101, dtype= int)\n",
    "arr2"
   ]
  },
  {
   "cell_type": "markdown",
   "id": "092f7721",
   "metadata": {},
   "source": [
    "# Reshape the above array into (100,15). Is it possible?\n",
    "#### It is not possible"
   ]
  },
  {
   "cell_type": "markdown",
   "id": "f113d97a",
   "metadata": {},
   "source": [
    "# Reshape the array into (100,10).\n",
    "#### It is not possible."
   ]
  },
  {
   "cell_type": "markdown",
   "id": "b9ea5db9",
   "metadata": {},
   "source": [
    "# Flatten and ravel the reshaped array. What is the difference?"
   ]
  },
  {
   "cell_type": "code",
   "execution_count": 98,
   "id": "c0b7c08e",
   "metadata": {},
   "outputs": [
    {
     "name": "stdout",
     "output_type": "stream",
     "text": [
      "[  1   2   3   4   5   6   7   8   9  10  11  12  13  14  15  16  17  18\n",
      "  19  20  21  22  23  24  25  26  27  28  29  30  31  32  33  34  35  36\n",
      "  37  38  39  40  41  42  43  44  45  46  47  48  49  50  51  52  53  54\n",
      "  55  56  57  58  59  60  61  62  63  64  65  66  67  68  69  70  71  72\n",
      "  73  74  75  76  77  78  79  80  81  82  83  84  85  86  87  88  89  90\n",
      "  91  92  93  94  95  96  97  98  99 100]\n",
      "(100,)\n",
      "-------------------------\n",
      "[  1   2   3   4   5   6   7   8   9  10  11  12  13  14  15  16  17  18\n",
      "  19  20  21  22  23  24  25  26  27  28  29  30  31  32  33  34  35  36\n",
      "  37  38  39  40  41  42  43  44  45  46  47  48  49  50  51  52  53  54\n",
      "  55  56  57  58  59  60  61  62  63  64  65  66  67  68  69  70  71  72\n",
      "  73  74  75  76  77  78  79  80  81  82  83  84  85  86  87  88  89  90\n",
      "  91  92  93  94  95  96  97  98  99 100]\n",
      "(100,)\n"
     ]
    }
   ],
   "source": [
    "arrfl = np.reshape(arr2,(10,-1))\n",
    "print(arrfl.flatten())\n",
    "print(arrfl.flatten().shape)\n",
    "print(\"-------------------------\")\n",
    "print(arrfl.ravel())\n",
    "print(arrfl.ravel().shape)"
   ]
  },
  {
   "cell_type": "markdown",
   "id": "bbc37b02",
   "metadata": {},
   "source": [
    "#### Ravel and flatten both convert multidimensional array  into one dimensional array. Ravel is faster than flatten which is only limited to numpy arrays."
   ]
  },
  {
   "cell_type": "markdown",
   "id": "67e9d348",
   "metadata": {},
   "source": [
    "# Take an array [[1 2 3] [4 5 6] [ 7 8 9]]. Sum it along 0 and 1 axis"
   ]
  },
  {
   "cell_type": "code",
   "execution_count": 99,
   "id": "63529f36",
   "metadata": {},
   "outputs": [
    {
     "name": "stdout",
     "output_type": "stream",
     "text": [
      "[12 15 18]\n",
      "---------------------\n",
      "[ 6 15 24]\n"
     ]
    }
   ],
   "source": [
    "arra = np.array([[1, 2, 3], [4, 5, 6], [ 7, 8, 9]])\n",
    "arrsum = np.sum(arra,axis = 0)\n",
    "print(arrsum)\n",
    "print(\"---------------------\")\n",
    "arrsum2 = np.sum(arra,axis = 1)\n",
    "print(arrsum2)"
   ]
  },
  {
   "cell_type": "markdown",
   "id": "64735544",
   "metadata": {},
   "source": [
    "# Find the number of bytes used by your array"
   ]
  },
  {
   "cell_type": "code",
   "execution_count": 100,
   "id": "36b4061b",
   "metadata": {},
   "outputs": [
    {
     "name": "stdout",
     "output_type": "stream",
     "text": [
      "36\n"
     ]
    }
   ],
   "source": [
    "print(arra.nbytes)"
   ]
  },
  {
   "cell_type": "markdown",
   "id": "28183909",
   "metadata": {},
   "source": [
    "# Find the maximum and minimum values in a 1D array."
   ]
  },
  {
   "cell_type": "code",
   "execution_count": 101,
   "id": "8e718277",
   "metadata": {},
   "outputs": [
    {
     "name": "stdout",
     "output_type": "stream",
     "text": [
      "8\n"
     ]
    }
   ],
   "source": [
    "arr = np.array([1, 8, 7, 2, 5])\n",
    "print(np.max(arr))"
   ]
  },
  {
   "cell_type": "code",
   "execution_count": 102,
   "id": "a2d23816",
   "metadata": {},
   "outputs": [
    {
     "name": "stdout",
     "output_type": "stream",
     "text": [
      "1\n"
     ]
    }
   ],
   "source": [
    "print(np.min(arr))"
   ]
  },
  {
   "cell_type": "markdown",
   "id": "e986d808",
   "metadata": {},
   "source": [
    "# Find the maximum and minimum values in 2D array"
   ]
  },
  {
   "cell_type": "code",
   "execution_count": 103,
   "id": "853dee0c",
   "metadata": {},
   "outputs": [
    {
     "name": "stdout",
     "output_type": "stream",
     "text": [
      "9\n"
     ]
    }
   ],
   "source": [
    "print(np.max(arra))"
   ]
  },
  {
   "cell_type": "code",
   "execution_count": 104,
   "id": "dc04182a",
   "metadata": {},
   "outputs": [
    {
     "name": "stdout",
     "output_type": "stream",
     "text": [
      "1\n"
     ]
    }
   ],
   "source": [
    "print(np.min(arra))"
   ]
  },
  {
   "cell_type": "markdown",
   "id": "d5d8d3cc",
   "metadata": {},
   "source": [
    "# Sort an array"
   ]
  },
  {
   "cell_type": "code",
   "execution_count": 105,
   "id": "2d03b648",
   "metadata": {},
   "outputs": [
    {
     "name": "stdout",
     "output_type": "stream",
     "text": [
      "[1 2 5 7 8]\n"
     ]
    }
   ],
   "source": [
    "print(np.sort(arr))"
   ]
  },
  {
   "cell_type": "markdown",
   "id": "944ab36f",
   "metadata": {},
   "source": [
    "# Is * and mul the same as dot product for numpy arrays and matrices? Check."
   ]
  },
  {
   "cell_type": "code",
   "execution_count": 120,
   "id": "d909bf05",
   "metadata": {},
   "outputs": [
    {
     "name": "stdout",
     "output_type": "stream",
     "text": [
      "[ 2 12  8  4  1]\n",
      "-----------------------------\n",
      "[ 2 12  8  4  1]\n",
      "-----------------------------\n",
      "54\n",
      "-----------------------------\n"
     ]
    }
   ],
   "source": [
    "a1 = np.random.randint(1,5, size=(5))\n",
    "a2 = np.random.randint(1,5,size = (5))\n",
    "ans = a1* a2\n",
    "print(ans)\n",
    "print(\"-----------------------------\")\n",
    "ans2 = np.multiply(a1,a2)\n",
    "print(ans2)\n",
    "print(\"-----------------------------\")\n",
    "a = [1,12,5,7]\n",
    "b = [9,0,2,5]\n",
    "a = np.array(a)\n",
    "b = np.array(b)\n",
    "ans3 = np.dot(a.T, b)\n",
    "print(ans3)\n",
    "print(\"-----------------------------\")"
   ]
  },
  {
   "cell_type": "markdown",
   "id": "7dd7fab9",
   "metadata": {},
   "source": [
    "#### They are not the same"
   ]
  },
  {
   "cell_type": "markdown",
   "id": "87701cbb",
   "metadata": {},
   "source": [
    "# Take the square root and norm of an array."
   ]
  },
  {
   "cell_type": "code",
   "execution_count": 121,
   "id": "d2552d9b",
   "metadata": {},
   "outputs": [
    {
     "data": {
      "text/plain": [
       "array([3., 2., 4.])"
      ]
     },
     "execution_count": 121,
     "metadata": {},
     "output_type": "execute_result"
    }
   ],
   "source": [
    "arrsq = np.sqrt([9, 4,  16])\n",
    "arrsq"
   ]
  },
  {
   "cell_type": "code",
   "execution_count": 122,
   "id": "a682ca59",
   "metadata": {},
   "outputs": [
    {
     "name": "stdout",
     "output_type": "stream",
     "text": [
      "5.477225575051661\n"
     ]
    }
   ],
   "source": [
    "norma = np.linalg.norm(arr2)\n",
    "print(norma)"
   ]
  },
  {
   "cell_type": "markdown",
   "id": "15f6e143",
   "metadata": {},
   "source": [
    "# Find the std, non-zero, zero values and mean of an array."
   ]
  },
  {
   "cell_type": "code",
   "execution_count": 123,
   "id": "4613b48f",
   "metadata": {},
   "outputs": [
    {
     "data": {
      "text/plain": [
       "array([10,  0,  6,  2, 10,  2, 12])"
      ]
     },
     "execution_count": 123,
     "metadata": {},
     "output_type": "execute_result"
    }
   ],
   "source": [
    "arr = random.randint(15, size = (7))\n",
    "arr"
   ]
  },
  {
   "cell_type": "code",
   "execution_count": 124,
   "id": "259ac102",
   "metadata": {},
   "outputs": [
    {
     "name": "stdout",
     "output_type": "stream",
     "text": [
      "4.4077853201547175\n",
      "--------------\n",
      "(array([0, 2, 3, 4, 5, 6], dtype=int64),)\n",
      "--------------\n",
      "(array([0, 1, 2, 3, 4, 5, 6], dtype=int64),)\n"
     ]
    }
   ],
   "source": [
    "st = np.std(arr)\n",
    "print(st)\n",
    "print(\"--------------\")\n",
    "nzer = np.nonzero(arr)\n",
    "print(nzer)\n",
    "print(\"--------------\")\n",
    "arr2 = np.array([1,0,2,0,5])\n",
    "ze = np.where(arr2 == 0)[0]\n",
    "print(zer)"
   ]
  },
  {
   "cell_type": "markdown",
   "id": "3a0c0b0d",
   "metadata": {},
   "source": [
    "# Convert some angles to radians and vice versa."
   ]
  },
  {
   "cell_type": "code",
   "execution_count": 127,
   "id": "c70624a9",
   "metadata": {},
   "outputs": [
    {
     "name": "stdout",
     "output_type": "stream",
     "text": [
      "1.5707963267948966 90.0\n"
     ]
    }
   ],
   "source": [
    "rad = np.radians(90)\n",
    "ang = np.rad2deg(rad)\n",
    "print(rad, ang)"
   ]
  },
  {
   "cell_type": "markdown",
   "id": "7ac6f7d2",
   "metadata": {},
   "source": [
    "# Save and load some of your arrays"
   ]
  },
  {
   "cell_type": "code",
   "execution_count": 125,
   "id": "a623c919",
   "metadata": {},
   "outputs": [
    {
     "name": "stdout",
     "output_type": "stream",
     "text": [
      "[ True  True  True  True  True]\n"
     ]
    }
   ],
   "source": [
    "np.savetxt(\"lab10.txt\", arr2)\n",
    "ld = np.loadtxt(\"lab10.txt\")\n",
    "print(arr2 == ld)"
   ]
  },
  {
   "cell_type": "markdown",
   "id": "64bf1cf7",
   "metadata": {},
   "source": [
    "# Calculate the mean, std, var, max, min, of an array with shape (3,3,12,3) containing floats drawn from a normal distribution with mean 21 and sigma 4.5. see the np.random.normal."
   ]
  },
  {
   "cell_type": "code",
   "execution_count": 129,
   "id": "bf3f09c5",
   "metadata": {},
   "outputs": [
    {
     "name": "stdout",
     "output_type": "stream",
     "text": [
      "[[[[ 8.90112831 10.77111336 10.43338126]\n",
      "   [11.62057759 12.55073024 11.04511518]\n",
      "   [ 9.66066173 13.14110725  9.41642252]\n",
      "   [ 8.47857995 16.20482538  8.27447401]\n",
      "   [ 5.26247686  7.64934896 13.66743461]\n",
      "   [10.44919983 13.45458322 12.23630714]\n",
      "   [11.7394282   7.45931329 13.54581368]\n",
      "   [10.13234201 16.45826207  7.76286955]\n",
      "   [14.82635371  7.06474694 10.21574808]\n",
      "   [15.13773602 13.42923746 15.0483404 ]\n",
      "   [16.04474364  6.19818513 11.18240753]\n",
      "   [ 8.8891591   5.07452652 11.71714679]]\n",
      "\n",
      "  [[15.82341716 10.87824727 11.05652202]\n",
      "   [16.9983634  11.57234087 11.79880531]\n",
      "   [ 6.92963191 16.40981294  8.3261568 ]\n",
      "   [ 5.09402851 22.35047168 12.94687412]\n",
      "   [19.20525345 14.11352082  9.79410004]\n",
      "   [ 4.96545617 10.29394483 16.51219845]\n",
      "   [15.35576834 14.4989356  13.68304403]\n",
      "   [10.09769891  7.392948    4.29749927]\n",
      "   [ 9.91349572 12.75250913 11.68247983]\n",
      "   [14.37757238 11.59483832  9.75714818]\n",
      "   [19.07315617 13.86457996 11.64306506]\n",
      "   [ 7.2612553   7.14440551 12.79128173]]\n",
      "\n",
      "  [[14.27802957 12.67561421 19.50065054]\n",
      "   [10.63614225 15.29556345 13.73474732]\n",
      "   [15.76159615 11.75122128 15.94012428]\n",
      "   [17.89222734 10.37865835 12.40477217]\n",
      "   [13.26263451 12.27317841 15.53654881]\n",
      "   [10.21037357 10.81825188 12.77291611]\n",
      "   [17.5517856  11.8089197  13.1340019 ]\n",
      "   [11.88583403  7.55180298 13.77023795]\n",
      "   [11.55598763 15.52305667  8.80768016]\n",
      "   [16.54430034 16.99257248  6.56769732]\n",
      "   [15.41576318 14.86041848 18.1302164 ]\n",
      "   [ 9.49679643 13.3739676  11.5058385 ]]]\n",
      "\n",
      "\n",
      " [[[12.96207613 13.85270688 14.56663597]\n",
      "   [ 8.89675172 13.25529961  7.37791052]\n",
      "   [15.68842998 14.02607481 10.88878261]\n",
      "   [14.94934012 12.92301299 10.80072108]\n",
      "   [ 9.59353107 12.66326155 16.42961855]\n",
      "   [10.79629958  8.57320317 13.93077628]\n",
      "   [12.43258804 15.81491877  8.5141045 ]\n",
      "   [13.5362242   9.19182338 10.96011845]\n",
      "   [10.13183845 19.08438976 13.67824749]\n",
      "   [11.04995123 13.36152183  6.03830362]\n",
      "   [11.24333786 10.73251854 10.763767  ]\n",
      "   [11.65546685  8.3234553  10.70695734]]\n",
      "\n",
      "  [[ 5.43781243 12.88576662 13.96272503]\n",
      "   [22.24212308  8.95813199  9.82575107]\n",
      "   [17.28373184 12.11289227 13.88646751]\n",
      "   [13.770857   14.86010444 14.67608662]\n",
      "   [12.69958967 13.52239736 11.55000609]\n",
      "   [18.26363146 13.94864996  7.02127844]\n",
      "   [ 9.60407715 11.86782693  4.41521422]\n",
      "   [10.41579718 12.73679415 10.1465219 ]\n",
      "   [10.78396321 18.88162566 12.55039304]\n",
      "   [15.9242326  10.53036705 15.9110942 ]\n",
      "   [ 9.13808902  7.13645236 10.45085332]\n",
      "   [ 9.50242101  8.40253274 13.8639695 ]]\n",
      "\n",
      "  [[13.48329359  9.75912313  9.83702883]\n",
      "   [ 8.64431944 11.46076424 16.62638431]\n",
      "   [17.84023836 16.39929189 12.91887142]\n",
      "   [ 5.37453434 10.919009   12.56848904]\n",
      "   [10.52702908 15.48285676 12.61302466]\n",
      "   [ 5.01913397 15.06231828  8.79536606]\n",
      "   [13.30326327 14.50572933 10.31009716]\n",
      "   [11.31754112 18.87755505 19.00915946]\n",
      "   [14.0330386   9.38625541 15.67834447]\n",
      "   [12.86055879  6.08563349 13.50617226]\n",
      "   [ 9.83967065 11.39980996 12.34512959]\n",
      "   [17.85960071 12.69997884 13.80737932]]]\n",
      "\n",
      "\n",
      " [[[13.64962535 13.21525961  7.91585121]\n",
      "   [14.66741042 14.71522916 12.52153595]\n",
      "   [14.35162495  7.60814131 15.87226691]\n",
      "   [ 8.68057275 11.22028426 14.29505655]\n",
      "   [12.62742088 11.33871001  8.01055218]\n",
      "   [13.40042264  9.93502675 13.171924  ]\n",
      "   [11.83944087 11.29148297  9.99340949]\n",
      "   [13.4001515   6.68145982 14.64098593]\n",
      "   [ 9.84581138 12.91111859 10.01036914]\n",
      "   [ 9.11725487 11.03736978  9.73553503]\n",
      "   [12.49234076 11.03157491  8.47545771]\n",
      "   [11.61993461 16.07569221 14.6258634 ]]\n",
      "\n",
      "  [[ 9.78206321  7.79639053 12.67228388]\n",
      "   [15.33087916 13.67108635 18.65084458]\n",
      "   [13.24056834 12.3948081  14.34008569]\n",
      "   [10.01411856 13.80136335  6.08936456]\n",
      "   [18.71150102  7.14280949  9.5272654 ]\n",
      "   [ 8.9597477  11.6500616  14.58096244]\n",
      "   [13.75568306 10.98768351 12.24678899]\n",
      "   [19.71850924  9.35123501 12.32425176]\n",
      "   [ 7.30017001 12.26506333 12.68799774]\n",
      "   [ 8.01334936 19.53409207 15.12192121]\n",
      "   [13.20980486 10.0459554   8.4840047 ]\n",
      "   [12.2018392   9.91378224  7.04223167]]\n",
      "\n",
      "  [[12.07896771 20.14268806 11.99980223]\n",
      "   [13.42898479 13.34960435  8.41523976]\n",
      "   [ 8.36157621  9.03918874 15.26346798]\n",
      "   [13.43692825 14.38410283 13.00174756]\n",
      "   [ 7.16352088 13.15563108 16.7086632 ]\n",
      "   [ 8.55994829  9.8016256  10.20158325]\n",
      "   [14.76995758 15.0023086  12.61495403]\n",
      "   [10.03302811 12.06966542 11.12479968]\n",
      "   [ 8.53491953 10.13748789  9.90790129]\n",
      "   [10.818251   10.09590866 16.27501811]\n",
      "   [10.53114747 14.17173879 10.18641605]\n",
      "   [14.15000838 15.489791   14.6809644 ]]]]\n"
     ]
    }
   ],
   "source": [
    "mean, std = 12, 3.5\n",
    "x = np.random.normal(loc = mean, scale = std, size= (3,3,12,3))\n",
    "print(x)"
   ]
  },
  {
   "cell_type": "code",
   "execution_count": 130,
   "id": "ae07a910",
   "metadata": {},
   "outputs": [
    {
     "name": "stdout",
     "output_type": "stream",
     "text": [
      "<built-in method mean of numpy.ndarray object at 0x000001693810B510>\n"
     ]
    }
   ],
   "source": [
    "print(np.mean(x))"
   ]
  },
  {
   "cell_type": "code",
   "execution_count": 131,
   "id": "533e38a0",
   "metadata": {},
   "outputs": [
    {
     "name": "stdout",
     "output_type": "stream",
     "text": [
      "3.2976817873823694\n"
     ]
    }
   ],
   "source": [
    "print(np.std(x))"
   ]
  },
  {
   "cell_type": "code",
   "execution_count": 132,
   "id": "70b686be",
   "metadata": {},
   "outputs": [
    {
     "name": "stdout",
     "output_type": "stream",
     "text": [
      "10.87470517083338\n"
     ]
    }
   ],
   "source": [
    "print(np.var(x))"
   ]
  },
  {
   "cell_type": "code",
   "execution_count": 134,
   "id": "fce941ae",
   "metadata": {},
   "outputs": [
    {
     "name": "stdout",
     "output_type": "stream",
     "text": [
      "4.297499271461147\n"
     ]
    }
   ],
   "source": [
    "print(np.min(x))"
   ]
  },
  {
   "cell_type": "code",
   "execution_count": 135,
   "id": "7c59100f",
   "metadata": {},
   "outputs": [
    {
     "name": "stdout",
     "output_type": "stream",
     "text": [
      "22.350471682280343\n"
     ]
    }
   ],
   "source": [
    "print(np.max(x))"
   ]
  },
  {
   "cell_type": "code",
   "execution_count": null,
   "id": "29a4120e",
   "metadata": {},
   "outputs": [],
   "source": []
  }
 ],
 "metadata": {
  "kernelspec": {
   "display_name": "Python 3",
   "language": "python",
   "name": "python3"
  },
  "language_info": {
   "codemirror_mode": {
    "name": "ipython",
    "version": 3
   },
   "file_extension": ".py",
   "mimetype": "text/x-python",
   "name": "python",
   "nbconvert_exporter": "python",
   "pygments_lexer": "ipython3",
   "version": "3.8.8"
  }
 },
 "nbformat": 4,
 "nbformat_minor": 5
}
