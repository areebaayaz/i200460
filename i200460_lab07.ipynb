{
 "cells": [
  {
   "cell_type": "markdown",
   "id": "ddc4773e",
   "metadata": {},
   "source": [
    "# Task01"
   ]
  },
  {
   "cell_type": "code",
   "execution_count": 2,
   "id": "92f092e7",
   "metadata": {},
   "outputs": [],
   "source": [
    "import numpy as np\n",
    "import pandas as pd "
   ]
  },
  {
   "cell_type": "code",
   "execution_count": 18,
   "id": "9acfb7a3",
   "metadata": {},
   "outputs": [
    {
     "data": {
      "text/plain": [
       "'I love mangoes Mangoes are a lot tastier than other fruits I like mangoes because they are good Apples are good too but I prefer mangoes People say mango is the king of fruit so that is why mangoes are good Mangoes are good because they are juicy'"
      ]
     },
     "execution_count": 18,
     "metadata": {},
     "output_type": "execute_result"
    }
   ],
   "source": [
    "positive = \"I love mangoes Mangoes are a lot tastier than other fruits I like mangoes because they are good Apples are good too but I prefer mangoes People say mango is the king of fruit so that is why mangoes are good Mangoes are good because they are juicy\"\n",
    "positive"
   ]
  },
  {
   "cell_type": "code",
   "execution_count": 29,
   "id": "26e36718",
   "metadata": {},
   "outputs": [
    {
     "data": {
      "text/plain": [
       "'Eating too many mangoes can have a negative impact on your health Mangoes are good but not too good I like apples more than mangoes I don’t like mangoes because they are expensive Mangoes are not good.I don’t like mangoes'"
      ]
     },
     "execution_count": 29,
     "metadata": {},
     "output_type": "execute_result"
    }
   ],
   "source": [
    "negative = \"Eating too many mangoes can have a negative impact on your health Mangoes are good but not too good I like apples more than mangoes I don’t like mangoes because they are expensive Mangoes are not good.I don’t like mangoes\"\n",
    "negative"
   ]
  },
  {
   "cell_type": "code",
   "execution_count": 30,
   "id": "81837eb0",
   "metadata": {},
   "outputs": [
    {
     "data": {
      "text/plain": [
       "'i love mangoes mangoes are a lot tastier than other fruits i like mangoes because they are good apples are good too but i prefer mangoes people say mango is the king of fruit so that is why mangoes are good mangoes are good because they are juicy'"
      ]
     },
     "execution_count": 30,
     "metadata": {},
     "output_type": "execute_result"
    }
   ],
   "source": [
    "p = positive.lower() #convertinng all letters in lowercase\n",
    "p"
   ]
  },
  {
   "cell_type": "code",
   "execution_count": 31,
   "id": "b46743fa",
   "metadata": {},
   "outputs": [
    {
     "data": {
      "text/plain": [
       "44"
      ]
     },
     "execution_count": 31,
     "metadata": {},
     "output_type": "execute_result"
    }
   ],
   "source": [
    "p = positive.lower() #convertinng all letters in lowercase\n",
    "p = p.split()\n",
    "n = negative.lower()\n",
    "n = n.split()\n",
    "\n",
    "comb = []\n",
    "comb = p + n\n",
    "comb\n",
    "combine = np.unique(comb)\n",
    "combine\n",
    "s = len(combine)\n",
    "s"
   ]
  },
  {
   "cell_type": "code",
   "execution_count": 32,
   "id": "8d7893d3",
   "metadata": {},
   "outputs": [
    {
     "name": "stdout",
     "output_type": "stream",
     "text": [
      "Prob of positive:\n",
      " {'a': 0.021739130434782608, 'apples': 0.021739130434782608, 'are': 0.07608695652173914, 'because': 0.03260869565217391, 'but': 0.021739130434782608, 'can': 0.010869565217391304, 'don’t': 0.010869565217391304, 'eating': 0.010869565217391304, 'expensive': 0.010869565217391304, 'fruit': 0.021739130434782608, 'fruits': 0.021739130434782608, 'good': 0.05434782608695652, 'good.i': 0.010869565217391304, 'have': 0.010869565217391304, 'health': 0.010869565217391304, 'i': 0.043478260869565216, 'impact': 0.010869565217391304, 'is': 0.03260869565217391, 'juicy': 0.021739130434782608, 'king': 0.021739130434782608, 'like': 0.021739130434782608, 'lot': 0.021739130434782608, 'love': 0.021739130434782608, 'mango': 0.021739130434782608, 'mangoes': 0.07608695652173914, 'many': 0.010869565217391304, 'more': 0.010869565217391304, 'negative': 0.010869565217391304, 'not': 0.010869565217391304, 'of': 0.021739130434782608, 'on': 0.010869565217391304, 'other': 0.021739130434782608, 'people': 0.021739130434782608, 'prefer': 0.021739130434782608, 'say': 0.021739130434782608, 'so': 0.021739130434782608, 'tastier': 0.021739130434782608, 'than': 0.021739130434782608, 'that': 0.021739130434782608, 'the': 0.021739130434782608, 'they': 0.03260869565217391, 'too': 0.021739130434782608, 'why': 0.021739130434782608, 'your': 0.010869565217391304}\n",
      "-------------------------------------\n",
      "Prob of negative:\n",
      " {'a': 0.023809523809523808, 'apples': 0.023809523809523808, 'are': 0.047619047619047616, 'because': 0.023809523809523808, 'but': 0.023809523809523808, 'can': 0.023809523809523808, 'don’t': 0.03571428571428571, 'eating': 0.023809523809523808, 'expensive': 0.023809523809523808, 'fruit': 0.011904761904761904, 'fruits': 0.011904761904761904, 'good': 0.03571428571428571, 'good.i': 0.023809523809523808, 'have': 0.023809523809523808, 'health': 0.023809523809523808, 'i': 0.03571428571428571, 'impact': 0.023809523809523808, 'is': 0.011904761904761904, 'juicy': 0.011904761904761904, 'king': 0.011904761904761904, 'like': 0.047619047619047616, 'lot': 0.011904761904761904, 'love': 0.011904761904761904, 'mango': 0.011904761904761904, 'mangoes': 0.08333333333333333, 'many': 0.023809523809523808, 'more': 0.023809523809523808, 'negative': 0.023809523809523808, 'not': 0.03571428571428571, 'of': 0.011904761904761904, 'on': 0.023809523809523808, 'other': 0.011904761904761904, 'people': 0.011904761904761904, 'prefer': 0.011904761904761904, 'say': 0.011904761904761904, 'so': 0.011904761904761904, 'tastier': 0.011904761904761904, 'than': 0.023809523809523808, 'that': 0.011904761904761904, 'the': 0.011904761904761904, 'they': 0.023809523809523808, 'too': 0.03571428571428571, 'why': 0.011904761904761904, 'your': 0.023809523809523808}\n"
     ]
    }
   ],
   "source": [
    "#finds the probability of words in the pos and neg list\n",
    "ppos = {} #dictionaries\n",
    "pneg = {}\n",
    "def prob1(comb, p, n, s):\n",
    "    \n",
    "    lp = len(p)\n",
    "    ln = len(n)\n",
    "    for i in comb: #in the unique words\n",
    "        cp = 0\n",
    "        cn = 0\n",
    "        for j in p: #check in positive list\n",
    "            if i == j:\n",
    "                cp += 1\n",
    "        for k in n: #check neagtive list\n",
    "            if i == k:\n",
    "                cn += 1\n",
    "        ppos[i] = ((cp + 1)/(lp + s))\n",
    "        pneg[i] = ((cn + 1)/(ln + s))\n",
    "        \n",
    "    print(\"Prob of positive:\\n\", ppos)\n",
    "    print(\"-------------------------------------\")\n",
    "    print(\"Prob of negative:\\n\", pneg)\n",
    "    \n",
    "prob1(combine, p, n, s) "
   ]
  },
  {
   "cell_type": "code",
   "execution_count": 33,
   "id": "5743fc28",
   "metadata": {},
   "outputs": [],
   "source": [
    "#in case the word is not in list\n",
    "def prob2(combine, p, n, s):\n",
    "    lp = len(p)\n",
    "    ln = len(n)\n",
    "    ppos.update({combine:(1)/(lp + s)})\n",
    "    pneg.update({combine:(1)/(ln + s)})"
   ]
  },
  {
   "cell_type": "code",
   "execution_count": 40,
   "id": "aeb84ca4",
   "metadata": {},
   "outputs": [
    {
     "name": "stdout",
     "output_type": "stream",
     "text": [
      "Probability of Positive:\n",
      " 3.432346809925506e-05\n",
      "---------------------------------\n",
      "Probability of Negative:\n",
      " 2.147323575895004e-05\n",
      "---------------------------------\n",
      "---------------------------------\n",
      "It is positive\n"
     ]
    }
   ],
   "source": [
    "test = \"mangoes are cheap\"\n",
    "t = test.lower()\n",
    "t = test.split()\n",
    "\n",
    "probp = []\n",
    "probn = []\n",
    "\n",
    "for i in t:\n",
    "    if i in combine:\n",
    "        probp.append(ppos[i])\n",
    "        probn.append(pneg[i])\n",
    "    #if word not in the combined lists\n",
    "    else:\n",
    "        prob2(i, p, n, s)\n",
    "        probp.append(ppos[i])\n",
    "        probn.append(pneg[i])\n",
    "\n",
    "\n",
    "#Finding prob of pos and neg  sentences\n",
    "sp = 6/11\n",
    "sn = 5/11\n",
    "st = sp + sn\n",
    "\n",
    "probpo = sp/st\n",
    "probne = sn/st\n",
    "\n",
    "\n",
    "p1 = probpo * np.prod(probp)\n",
    "p2 = probne * np.prod(probn)\n",
    "\n",
    "print('Probability of Positive:\\n',p1)\n",
    "print(\"---------------------------------\")\n",
    "print('Probability of Negative:\\n',p2)\n",
    "\n",
    "\n",
    "\n",
    "print(\"---------------------------------\")\n",
    "print(\"---------------------------------\")\n",
    "\n",
    "if p1 > p2:\n",
    "    print(\"It is positive\")\n",
    "else:\n",
    "    print(\"It is negative\")"
   ]
  },
  {
   "cell_type": "code",
   "execution_count": null,
   "id": "a929258a",
   "metadata": {},
   "outputs": [],
   "source": []
  },
  {
   "cell_type": "code",
   "execution_count": null,
   "id": "ad43a281",
   "metadata": {},
   "outputs": [],
   "source": []
  }
 ],
 "metadata": {
  "kernelspec": {
   "display_name": "Python 3",
   "language": "python",
   "name": "python3"
  },
  "language_info": {
   "codemirror_mode": {
    "name": "ipython",
    "version": 3
   },
   "file_extension": ".py",
   "mimetype": "text/x-python",
   "name": "python",
   "nbconvert_exporter": "python",
   "pygments_lexer": "ipython3",
   "version": "3.8.8"
  }
 },
 "nbformat": 4,
 "nbformat_minor": 5
}
