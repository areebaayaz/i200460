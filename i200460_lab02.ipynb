{
 "cells": [
  {
   "cell_type": "code",
   "execution_count": 2,
   "id": "564ae54d",
   "metadata": {},
   "outputs": [],
   "source": [
    "list = ['red', 'black', 'blue']"
   ]
  },
  {
   "cell_type": "code",
   "execution_count": 3,
   "id": "dc77177c",
   "metadata": {},
   "outputs": [
    {
     "name": "stdout",
     "output_type": "stream",
     "text": [
      "(0, 'red')\n",
      "(1, 'black')\n",
      "(2, 'blue')\n"
     ]
    }
   ],
   "source": [
    "#will print index number and corresponding value as a tuple\n",
    "for i in enumerate(list):\n",
    "    print(i)"
   ]
  },
  {
   "cell_type": "code",
   "execution_count": 4,
   "id": "47d69d22",
   "metadata": {},
   "outputs": [
    {
     "name": "stdout",
     "output_type": "stream",
     "text": [
      "0 red\n",
      "1 black\n",
      "2 blue\n"
     ]
    }
   ],
   "source": [
    "#will print index number and corresponding value\n",
    "for i, value in enumerate(list):\n",
    "    print(i,value)"
   ]
  },
  {
   "cell_type": "code",
   "execution_count": 5,
   "id": "2d04d441",
   "metadata": {},
   "outputs": [
    {
     "name": "stdout",
     "output_type": "stream",
     "text": [
      "6 red\n",
      "7 black\n",
      "8 blue\n"
     ]
    }
   ],
   "source": [
    "#will print index number starting from 6 and corresponding value\n",
    "for i, val in enumerate(list,6):\n",
    "    print(i,val)"
   ]
  },
  {
   "cell_type": "markdown",
   "id": "80163994",
   "metadata": {},
   "source": [
    "# Task 01"
   ]
  },
  {
   "cell_type": "code",
   "execution_count": 12,
   "id": "6ac06c17",
   "metadata": {},
   "outputs": [
    {
     "name": "stdout",
     "output_type": "stream",
     "text": [
      "------------------------\n"
     ]
    },
    {
     "ename": "AttributeError",
     "evalue": "'University' object has no attribute '__printt'",
     "output_type": "error",
     "traceback": [
      "\u001b[1;31m---------------------------------------------------------------------------\u001b[0m",
      "\u001b[1;31mAttributeError\u001b[0m                            Traceback (most recent call last)",
      "\u001b[1;32m<ipython-input-12-853e66fff4bb>\u001b[0m in \u001b[0;36m<module>\u001b[1;34m\u001b[0m\n\u001b[0;32m     23\u001b[0m \u001b[0mobj\u001b[0m \u001b[1;33m=\u001b[0m \u001b[0mUniversity\u001b[0m\u001b[1;33m(\u001b[0m\u001b[1;34m\"FAST\"\u001b[0m\u001b[1;33m,\u001b[0m \u001b[1;34m\"Islamabad\"\u001b[0m\u001b[1;33m)\u001b[0m\u001b[1;33m\u001b[0m\u001b[1;33m\u001b[0m\u001b[0m\n\u001b[0;32m     24\u001b[0m \u001b[0mprint\u001b[0m\u001b[1;33m(\u001b[0m\u001b[1;34m\"------------------------\"\u001b[0m\u001b[1;33m)\u001b[0m\u001b[1;33m\u001b[0m\u001b[1;33m\u001b[0m\u001b[0m\n\u001b[1;32m---> 25\u001b[1;33m \u001b[0mobj\u001b[0m\u001b[1;33m.\u001b[0m\u001b[0m__printt\u001b[0m\u001b[1;33m(\u001b[0m\u001b[1;33m)\u001b[0m\u001b[1;33m\u001b[0m\u001b[1;33m\u001b[0m\u001b[0m\n\u001b[0m",
      "\u001b[1;31mAttributeError\u001b[0m: 'University' object has no attribute '__printt'"
     ]
    }
   ],
   "source": [
    "#__ is private _ is protected\n",
    "class University:\n",
    "    __campus = 3 \n",
    "    def __init__(self,uname,location):\n",
    "        self.uname = uname\n",
    "        self.location = location\n",
    "    def __printt(self):\n",
    "        print(\"This function is protected\")\n",
    "    def display(self):\n",
    "        #fstring\n",
    "        print(f'\\nName is {self.uname} \\nLocation is {self.location}')\n",
    "\n",
    "#Inheriting parent class university\n",
    "class Department(University): \n",
    "        def __init__(self,name,program, u_name, u_location):\n",
    "            super().__init__(u_name,u_location)\n",
    "            self.name = name\n",
    "            self.program=program\n",
    "        def display(self):\n",
    "            super().display()\n",
    "            print(f\"\\nName of deprtment is {self.name} \\nNo of Programs: {self.program}\")\n",
    "\n",
    "obj = University(\"FAST\", \"Islamabad\") \n",
    "print(\"------------------------\")\n",
    "obj.__printt()"
   ]
  },
  {
   "cell_type": "code",
   "execution_count": 13,
   "id": "029d2726",
   "metadata": {},
   "outputs": [
    {
     "name": "stdout",
     "output_type": "stream",
     "text": [
      "\n",
      "Name is FAST \n",
      "Location is Islamabad\n",
      "\n",
      "Name of deprtment is AI \n",
      "No of Programs: 5\n"
     ]
    }
   ],
   "source": [
    "obj = Department(\"AI\",5,\"FAST\",'Islamabad')\n",
    "obj.display()"
   ]
  },
  {
   "cell_type": "markdown",
   "id": "acd8a016",
   "metadata": {},
   "source": [
    "# Task 02"
   ]
  },
  {
   "cell_type": "code",
   "execution_count": 15,
   "id": "bf278ea2",
   "metadata": {},
   "outputs": [
    {
     "name": "stdout",
     "output_type": "stream",
     "text": [
      "List of colors: \n",
      "1 Red\n",
      "2 Orange\n",
      "3 Yellow\n",
      "4 Green\n",
      "5 Pink\n",
      "6 Blue\n",
      "7 Brown\n"
     ]
    }
   ],
   "source": [
    "colors = ['Red', 'Orange', 'Yellow', 'Green', 'Pink', 'Blue', 'Brown']\n",
    "\n",
    "print(\"List of colors: \")\n",
    "for i, val in enumerate(colors,1):\n",
    "    print(i,val)"
   ]
  },
  {
   "cell_type": "markdown",
   "id": "80028368",
   "metadata": {},
   "source": [
    "# Task 03\n"
   ]
  },
  {
   "cell_type": "markdown",
   "id": "c62c6d5a",
   "metadata": {},
   "source": [
    "# Part 1"
   ]
  },
  {
   "cell_type": "code",
   "execution_count": 23,
   "id": "6e68796a",
   "metadata": {},
   "outputs": [
    {
     "name": "stdout",
     "output_type": "stream",
     "text": [
      "Strings with the same first and last characters:  ['dead', 'modem', 'trust', 'aloha', 'taort']\n",
      "--------------\n",
      "Number of Strings more than 2 letters and the same first and last characters:  5\n"
     ]
    }
   ],
   "source": [
    "arr = ['two', 'I', 'dead', 'modem', 'trust', 'count', 'aloha', 'a', 'taort']\n",
    "count = 0\n",
    "same = []\n",
    "for i in range(0,len(arr)):\n",
    "    if(len(arr[i])>=2):\n",
    "        f = arr[i][0]\n",
    "        l = arr[i][-1]\n",
    "        if(f == l):\n",
    "            same.append(arr[i])\n",
    "            count+=1\n",
    "print(\"Strings with the same first and last characters: \", same)\n",
    "print(\"--------------\")\n",
    "print(\"Number of Strings more than 2 letters and the same first and last characters: \", count)"
   ]
  },
  {
   "cell_type": "markdown",
   "id": "2f43e8d0",
   "metadata": {},
   "source": [
    "# Part 2"
   ]
  },
  {
   "cell_type": "code",
   "execution_count": 37,
   "id": "140522c3",
   "metadata": {},
   "outputs": [
    {
     "name": "stdout",
     "output_type": "stream",
     "text": [
      "Words starting with x :\n",
      " ['xylol', 'xenia', 'xerus']\n",
      "--------------------\n",
      "Without x words:\n",
      " ['count', 'dead', 'fangs', 'modem', 'trust', 'two']\n"
     ]
    }
   ],
   "source": [
    "arr = ['two', 'xylol', 'dead', 'modem', 'trust', 'count', 'xenia', 'fangs', 'xerus']\n",
    "exclude = []\n",
    "for i in range(0,len(arr)):\n",
    "    if(arr[i][0]=='x'):\n",
    "        exclude.append(arr[i])\n",
    "print(\"Words starting with x :\\n\",exclude)\n",
    "print(\"--------------------\")\n",
    "\n",
    "#removing x words\n",
    "for i in exclude:\n",
    "    for j in arr:\n",
    "        if (j == i):\n",
    "            arr.remove(j)\n",
    "arr = sorted(arr)\n",
    "print(\"Without x words:\\n\", arr)"
   ]
  },
  {
   "cell_type": "code",
   "execution_count": 39,
   "id": "c3348e61",
   "metadata": {},
   "outputs": [
    {
     "data": {
      "text/plain": [
       "['xylol', 'xenia', 'xerus', 'count', 'dead', 'fangs', 'modem', 'trust', 'two']"
      ]
     },
     "execution_count": 39,
     "metadata": {},
     "output_type": "execute_result"
    }
   ],
   "source": [
    "final = exclude + arr\n",
    "final"
   ]
  },
  {
   "cell_type": "markdown",
   "id": "d69c20bb",
   "metadata": {},
   "source": [
    "# Part 3"
   ]
  },
  {
   "cell_type": "code",
   "execution_count": 41,
   "id": "900a9338",
   "metadata": {},
   "outputs": [
    {
     "data": {
      "text/plain": [
       "[(8, 1, 2), (1, 2, 3), (4, 5, 6), (7, 8, 9)]"
      ]
     },
     "execution_count": 41,
     "metadata": {},
     "output_type": "execute_result"
    }
   ],
   "source": [
    "arr = [(1,2,3), (4,5,6), (7,8,9), (8,1,2)]\n",
    "\n",
    "for i in range(0,len(arr)): \n",
    "    for j in range(0,(len(arr)-i-1)): \n",
    "            if(arr[j][-1] > arr[j+1][-1]): \n",
    "                temp = arr[j] \n",
    "                arr[j] = arr[j + 1] \n",
    "                arr[j+1] = temp \n",
    "arr"
   ]
  },
  {
   "cell_type": "markdown",
   "id": "0187d870",
   "metadata": {},
   "source": [
    "# Part 4"
   ]
  },
  {
   "cell_type": "code",
   "execution_count": 52,
   "id": "92223f2e",
   "metadata": {},
   "outputs": [
    {
     "data": {
      "text/plain": [
       "[1, 2, 3, 9, 7, 5, 4, 0]"
      ]
     },
     "execution_count": 52,
     "metadata": {},
     "output_type": "execute_result"
    }
   ],
   "source": [
    "arr = [1,1,2,3,3,9,7,7,5,4,0,12,12]\n",
    "new = []\n",
    "# arr = sorted(arr)\n",
    "for i in range(0,(len(arr)-1)):\n",
    "#     if(arr[i] == arr[i+1]):\n",
    "#         arr.remove(arr[i])\n",
    "    if(arr[i] != arr[i+1]):\n",
    "        new.append(arr[i])\n",
    "new"
   ]
  },
  {
   "cell_type": "markdown",
   "id": "78b49a61",
   "metadata": {},
   "source": [
    "# Part 5"
   ]
  },
  {
   "cell_type": "code",
   "execution_count": 57,
   "id": "0ac2ad39",
   "metadata": {},
   "outputs": [
    {
     "name": "stdout",
     "output_type": "stream",
     "text": [
      "[0, 2, 4, 8, 9]\n",
      "[1, 3, 5, 6, 7]\n"
     ]
    }
   ],
   "source": [
    "arr = [9,4,0,2,8]\n",
    "arr2 = [5,7,3,6,1]\n",
    "arr = sorted(arr)\n",
    "arr2 = sorted(arr2)\n",
    "print(arr)\n",
    "print(arr2)"
   ]
  },
  {
   "cell_type": "code",
   "execution_count": 58,
   "id": "949d3e95",
   "metadata": {},
   "outputs": [
    {
     "name": "stdout",
     "output_type": "stream",
     "text": [
      "[0, 1, 2, 3, 4, 5, 6, 7, 8, 9]\n"
     ]
    }
   ],
   "source": [
    "new = arr + arr2\n",
    "print(sorted(new))"
   ]
  },
  {
   "cell_type": "markdown",
   "id": "8986ef0c",
   "metadata": {},
   "source": [
    "# Task 04"
   ]
  },
  {
   "cell_type": "code",
   "execution_count": 60,
   "id": "98adeec9",
   "metadata": {},
   "outputs": [
    {
     "data": {
      "text/html": [
       "<div>\n",
       "<style scoped>\n",
       "    .dataframe tbody tr th:only-of-type {\n",
       "        vertical-align: middle;\n",
       "    }\n",
       "\n",
       "    .dataframe tbody tr th {\n",
       "        vertical-align: top;\n",
       "    }\n",
       "\n",
       "    .dataframe thead th {\n",
       "        text-align: right;\n",
       "    }\n",
       "</style>\n",
       "<table border=\"1\" class=\"dataframe\">\n",
       "  <thead>\n",
       "    <tr style=\"text-align: right;\">\n",
       "      <th></th>\n",
       "      <th>country</th>\n",
       "      <th>beer_servings</th>\n",
       "      <th>spirit_servings</th>\n",
       "      <th>wine_servings</th>\n",
       "      <th>total_litres_of_pure_alcohol</th>\n",
       "      <th>continent</th>\n",
       "    </tr>\n",
       "  </thead>\n",
       "  <tbody>\n",
       "    <tr>\n",
       "      <th>0</th>\n",
       "      <td>Afghanistan</td>\n",
       "      <td>0</td>\n",
       "      <td>0</td>\n",
       "      <td>0</td>\n",
       "      <td>0.0</td>\n",
       "      <td>AS</td>\n",
       "    </tr>\n",
       "    <tr>\n",
       "      <th>1</th>\n",
       "      <td>Albania</td>\n",
       "      <td>89</td>\n",
       "      <td>132</td>\n",
       "      <td>54</td>\n",
       "      <td>4.9</td>\n",
       "      <td>EU</td>\n",
       "    </tr>\n",
       "    <tr>\n",
       "      <th>2</th>\n",
       "      <td>Algeria</td>\n",
       "      <td>25</td>\n",
       "      <td>0</td>\n",
       "      <td>14</td>\n",
       "      <td>0.7</td>\n",
       "      <td>AF</td>\n",
       "    </tr>\n",
       "    <tr>\n",
       "      <th>3</th>\n",
       "      <td>Andorra</td>\n",
       "      <td>245</td>\n",
       "      <td>138</td>\n",
       "      <td>312</td>\n",
       "      <td>12.4</td>\n",
       "      <td>EU</td>\n",
       "    </tr>\n",
       "    <tr>\n",
       "      <th>4</th>\n",
       "      <td>Angola</td>\n",
       "      <td>217</td>\n",
       "      <td>57</td>\n",
       "      <td>45</td>\n",
       "      <td>5.9</td>\n",
       "      <td>AF</td>\n",
       "    </tr>\n",
       "    <tr>\n",
       "      <th>...</th>\n",
       "      <td>...</td>\n",
       "      <td>...</td>\n",
       "      <td>...</td>\n",
       "      <td>...</td>\n",
       "      <td>...</td>\n",
       "      <td>...</td>\n",
       "    </tr>\n",
       "    <tr>\n",
       "      <th>188</th>\n",
       "      <td>Venezuela</td>\n",
       "      <td>333</td>\n",
       "      <td>100</td>\n",
       "      <td>3</td>\n",
       "      <td>7.7</td>\n",
       "      <td>SA</td>\n",
       "    </tr>\n",
       "    <tr>\n",
       "      <th>189</th>\n",
       "      <td>Vietnam</td>\n",
       "      <td>111</td>\n",
       "      <td>2</td>\n",
       "      <td>1</td>\n",
       "      <td>2.0</td>\n",
       "      <td>AS</td>\n",
       "    </tr>\n",
       "    <tr>\n",
       "      <th>190</th>\n",
       "      <td>Yemen</td>\n",
       "      <td>6</td>\n",
       "      <td>0</td>\n",
       "      <td>0</td>\n",
       "      <td>0.1</td>\n",
       "      <td>AS</td>\n",
       "    </tr>\n",
       "    <tr>\n",
       "      <th>191</th>\n",
       "      <td>Zambia</td>\n",
       "      <td>32</td>\n",
       "      <td>19</td>\n",
       "      <td>4</td>\n",
       "      <td>2.5</td>\n",
       "      <td>AF</td>\n",
       "    </tr>\n",
       "    <tr>\n",
       "      <th>192</th>\n",
       "      <td>Zimbabwe</td>\n",
       "      <td>64</td>\n",
       "      <td>18</td>\n",
       "      <td>4</td>\n",
       "      <td>4.7</td>\n",
       "      <td>AF</td>\n",
       "    </tr>\n",
       "  </tbody>\n",
       "</table>\n",
       "<p>193 rows × 6 columns</p>\n",
       "</div>"
      ],
      "text/plain": [
       "         country  beer_servings  spirit_servings  wine_servings  \\\n",
       "0    Afghanistan              0                0              0   \n",
       "1        Albania             89              132             54   \n",
       "2        Algeria             25                0             14   \n",
       "3        Andorra            245              138            312   \n",
       "4         Angola            217               57             45   \n",
       "..           ...            ...              ...            ...   \n",
       "188    Venezuela            333              100              3   \n",
       "189      Vietnam            111                2              1   \n",
       "190        Yemen              6                0              0   \n",
       "191       Zambia             32               19              4   \n",
       "192     Zimbabwe             64               18              4   \n",
       "\n",
       "     total_litres_of_pure_alcohol continent  \n",
       "0                             0.0        AS  \n",
       "1                             4.9        EU  \n",
       "2                             0.7        AF  \n",
       "3                            12.4        EU  \n",
       "4                             5.9        AF  \n",
       "..                            ...       ...  \n",
       "188                           7.7        SA  \n",
       "189                           2.0        AS  \n",
       "190                           0.1        AS  \n",
       "191                           2.5        AF  \n",
       "192                           4.7        AF  \n",
       "\n",
       "[193 rows x 6 columns]"
      ]
     },
     "execution_count": 60,
     "metadata": {},
     "output_type": "execute_result"
    }
   ],
   "source": [
    "import numpy as np\n",
    "import pandas as pd\n",
    "df = pd.read_csv(\"drinks.csv\")\n",
    "df"
   ]
  },
  {
   "cell_type": "code",
   "execution_count": 61,
   "id": "3ff363c8",
   "metadata": {},
   "outputs": [
    {
     "data": {
      "text/plain": [
       "193"
      ]
     },
     "execution_count": 61,
     "metadata": {},
     "output_type": "execute_result"
    }
   ],
   "source": [
    "#to find number of rows\n",
    "rows = df.shape[0]\n",
    "rows"
   ]
  },
  {
   "cell_type": "code",
   "execution_count": 62,
   "id": "ed7c39a7",
   "metadata": {},
   "outputs": [
    {
     "data": {
      "text/html": [
       "<div>\n",
       "<style scoped>\n",
       "    .dataframe tbody tr th:only-of-type {\n",
       "        vertical-align: middle;\n",
       "    }\n",
       "\n",
       "    .dataframe tbody tr th {\n",
       "        vertical-align: top;\n",
       "    }\n",
       "\n",
       "    .dataframe thead th {\n",
       "        text-align: right;\n",
       "    }\n",
       "</style>\n",
       "<table border=\"1\" class=\"dataframe\">\n",
       "  <thead>\n",
       "    <tr style=\"text-align: right;\">\n",
       "      <th></th>\n",
       "      <th>country</th>\n",
       "      <th>beer_servings</th>\n",
       "      <th>spirit_servings</th>\n",
       "      <th>wine_servings</th>\n",
       "      <th>total_litres_of_pure_alcohol</th>\n",
       "      <th>continent</th>\n",
       "    </tr>\n",
       "  </thead>\n",
       "  <tbody>\n",
       "    <tr>\n",
       "      <th>0</th>\n",
       "      <td>Afghanistan</td>\n",
       "      <td>0</td>\n",
       "      <td>0</td>\n",
       "      <td>0</td>\n",
       "      <td>0.0</td>\n",
       "      <td>AS</td>\n",
       "    </tr>\n",
       "    <tr>\n",
       "      <th>1</th>\n",
       "      <td>Albania</td>\n",
       "      <td>89</td>\n",
       "      <td>132</td>\n",
       "      <td>54</td>\n",
       "      <td>4.9</td>\n",
       "      <td>EU</td>\n",
       "    </tr>\n",
       "    <tr>\n",
       "      <th>2</th>\n",
       "      <td>Algeria</td>\n",
       "      <td>25</td>\n",
       "      <td>0</td>\n",
       "      <td>14</td>\n",
       "      <td>0.7</td>\n",
       "      <td>AF</td>\n",
       "    </tr>\n",
       "    <tr>\n",
       "      <th>3</th>\n",
       "      <td>Andorra</td>\n",
       "      <td>245</td>\n",
       "      <td>138</td>\n",
       "      <td>312</td>\n",
       "      <td>12.4</td>\n",
       "      <td>EU</td>\n",
       "    </tr>\n",
       "    <tr>\n",
       "      <th>4</th>\n",
       "      <td>Angola</td>\n",
       "      <td>217</td>\n",
       "      <td>57</td>\n",
       "      <td>45</td>\n",
       "      <td>5.9</td>\n",
       "      <td>AF</td>\n",
       "    </tr>\n",
       "    <tr>\n",
       "      <th>...</th>\n",
       "      <td>...</td>\n",
       "      <td>...</td>\n",
       "      <td>...</td>\n",
       "      <td>...</td>\n",
       "      <td>...</td>\n",
       "      <td>...</td>\n",
       "    </tr>\n",
       "    <tr>\n",
       "      <th>188</th>\n",
       "      <td>Venezuela</td>\n",
       "      <td>333</td>\n",
       "      <td>100</td>\n",
       "      <td>3</td>\n",
       "      <td>7.7</td>\n",
       "      <td>SA</td>\n",
       "    </tr>\n",
       "    <tr>\n",
       "      <th>189</th>\n",
       "      <td>Vietnam</td>\n",
       "      <td>111</td>\n",
       "      <td>2</td>\n",
       "      <td>1</td>\n",
       "      <td>2.0</td>\n",
       "      <td>AS</td>\n",
       "    </tr>\n",
       "    <tr>\n",
       "      <th>190</th>\n",
       "      <td>Yemen</td>\n",
       "      <td>6</td>\n",
       "      <td>0</td>\n",
       "      <td>0</td>\n",
       "      <td>0.1</td>\n",
       "      <td>AS</td>\n",
       "    </tr>\n",
       "    <tr>\n",
       "      <th>191</th>\n",
       "      <td>Zambia</td>\n",
       "      <td>32</td>\n",
       "      <td>19</td>\n",
       "      <td>4</td>\n",
       "      <td>2.5</td>\n",
       "      <td>AF</td>\n",
       "    </tr>\n",
       "    <tr>\n",
       "      <th>192</th>\n",
       "      <td>Zimbabwe</td>\n",
       "      <td>64</td>\n",
       "      <td>18</td>\n",
       "      <td>4</td>\n",
       "      <td>4.7</td>\n",
       "      <td>AF</td>\n",
       "    </tr>\n",
       "  </tbody>\n",
       "</table>\n",
       "<p>170 rows × 6 columns</p>\n",
       "</div>"
      ],
      "text/plain": [
       "         country  beer_servings  spirit_servings  wine_servings  \\\n",
       "0    Afghanistan              0                0              0   \n",
       "1        Albania             89              132             54   \n",
       "2        Algeria             25                0             14   \n",
       "3        Andorra            245              138            312   \n",
       "4         Angola            217               57             45   \n",
       "..           ...            ...              ...            ...   \n",
       "188    Venezuela            333              100              3   \n",
       "189      Vietnam            111                2              1   \n",
       "190        Yemen              6                0              0   \n",
       "191       Zambia             32               19              4   \n",
       "192     Zimbabwe             64               18              4   \n",
       "\n",
       "     total_litres_of_pure_alcohol continent  \n",
       "0                             0.0        AS  \n",
       "1                             4.9        EU  \n",
       "2                             0.7        AF  \n",
       "3                            12.4        EU  \n",
       "4                             5.9        AF  \n",
       "..                            ...       ...  \n",
       "188                           7.7        SA  \n",
       "189                           2.0        AS  \n",
       "190                           0.1        AS  \n",
       "191                           2.5        AF  \n",
       "192                           4.7        AF  \n",
       "\n",
       "[170 rows x 6 columns]"
      ]
     },
     "execution_count": 62,
     "metadata": {},
     "output_type": "execute_result"
    }
   ],
   "source": [
    "#removing nan values\n",
    "df.dropna(axis = 0, inplace = False)"
   ]
  },
  {
   "cell_type": "code",
   "execution_count": 63,
   "id": "c93000db",
   "metadata": {},
   "outputs": [
    {
     "name": "stdout",
     "output_type": "stream",
     "text": [
      "Enter the name of the column whose data you want to see: continent\n"
     ]
    },
    {
     "data": {
      "text/plain": [
       "0      AS\n",
       "1      EU\n",
       "2      AF\n",
       "3      EU\n",
       "4      AF\n",
       "       ..\n",
       "188    SA\n",
       "189    AS\n",
       "190    AS\n",
       "191    AF\n",
       "192    AF\n",
       "Name: continent, Length: 193, dtype: object"
      ]
     },
     "execution_count": 63,
     "metadata": {},
     "output_type": "execute_result"
    }
   ],
   "source": [
    "column = input('Enter the name of the column whose data you want to see: ')\n",
    "df.loc[:,column]"
   ]
  },
  {
   "cell_type": "code",
   "execution_count": 65,
   "id": "63de486c",
   "metadata": {},
   "outputs": [
    {
     "data": {
      "text/plain": [
       "array([[<AxesSubplot:title={'center':'beer_servings'}>,\n",
       "        <AxesSubplot:title={'center':'spirit_servings'}>],\n",
       "       [<AxesSubplot:title={'center':'wine_servings'}>,\n",
       "        <AxesSubplot:title={'center':'total_litres_of_pure_alcohol'}>]],\n",
       "      dtype=object)"
      ]
     },
     "execution_count": 65,
     "metadata": {},
     "output_type": "execute_result"
    },
    {
     "data": {
      "image/png": "[encoded data removed]",
      "text/plain": [
       "<Figure size 432x288 with 4 Axes>"
      ]
     },
     "metadata": {
      "needs_background": "light"
     },
     "output_type": "display_data"
    }
   ],
   "source": [
    "import matplotlib.pyplot as plt\n",
    "#histogram\n",
    "df.hist()"
   ]
  },
  {
   "cell_type": "code",
   "execution_count": 67,
   "id": "ce5e9a99",
   "metadata": {},
   "outputs": [
    {
     "data": {
      "text/plain": [
       "<matplotlib.collections.PathCollection at 0x1fe5b825190>"
      ]
     },
     "execution_count": 67,
     "metadata": {},
     "output_type": "execute_result"
    },
    {
     "data": {
      "image/png": "[encoded data removed]",
      "text/plain": [
       "<Figure size 432x288 with 1 Axes>"
      ]
     },
     "metadata": {
      "needs_background": "light"
     },
     "output_type": "display_data"
    }
   ],
   "source": [
    "#2D Scatter plot\n",
    "plt.scatter(df.country, df.spirit_servings)"
   ]
  },
  {
   "cell_type": "code",
   "execution_count": 68,
   "id": "3c6718ca",
   "metadata": {},
   "outputs": [
    {
     "data": {
      "image/png": "[encoded data removed]",
      "text/plain": [
       "<Figure size 432x288 with 1 Axes>"
      ]
     },
     "metadata": {
      "needs_background": "light"
     },
     "output_type": "display_data"
    }
   ],
   "source": [
    "#3D Scatter plot\n",
    "x = df['spirit_servings']\n",
    "y = df['beer_servings']\n",
    "z = df['wine_servings']\n",
    "\n",
    "mplt = plt.figure().gca(projection='3d')\n",
    "mplt.scatter(x,y,z)\n",
    "\n",
    "mplt.set_xlabel('Spirit Servings')\n",
    "mplt.set_ylabel('Beer Servings')\n",
    "mplt.set_zlabel('Wine Servings')\n",
    "plt.show()"
   ]
  },
  {
   "cell_type": "code",
   "execution_count": 71,
   "id": "383c58ee",
   "metadata": {},
   "outputs": [
    {
     "data": {
      "text/plain": [
       "([<matplotlib.patches.Wedge at 0x1fe5d52e700>,\n",
       "  <matplotlib.patches.Wedge at 0x1fe5d52ebe0>,\n",
       "  <matplotlib.patches.Wedge at 0x1fe5d53e0a0>,\n",
       "  <matplotlib.patches.Wedge at 0x1fe5d53e520>,\n",
       "  <matplotlib.patches.Wedge at 0x1fe5d53e9a0>,\n",
       "  <matplotlib.patches.Wedge at 0x1fe5d53ee20>],\n",
       " [Text(1.1, 0.0, 'Afghanistan'),\n",
       "  Text(1.0291183276913631, 0.3884784004416877, 'Albania'),\n",
       "  Text(0.7540731221816547, 0.8008581187721152, 'Algeria'),\n",
       "  Text(-1.088127858945361, 0.16117618492502298, 'Andorra'),\n",
       "  Text(0.68172497072023, -0.8632792504725812, 'Angola'),\n",
       "  Text(1.050612789126776, -0.3259030029368503, 'Antigua & Barbuda')])"
      ]
     },
     "execution_count": 71,
     "metadata": {},
     "output_type": "execute_result"
    },
    {
     "data": {
      "image/png": "[encoded data removed]",
      "text/plain": [
       "<Figure size 1080x648 with 1 Axes>"
      ]
     },
     "metadata": {},
     "output_type": "display_data"
    }
   ],
   "source": [
    "#pie chart\n",
    "c = df['country'].head(6)\n",
    "x = df['wine_servings'].head(6)\n",
    "fig = plt.figure(figsize =(15, 9))\n",
    "plt.pie(x, labels = c)"
   ]
  },
  {
   "cell_type": "code",
   "execution_count": 75,
   "id": "74322478",
   "metadata": {},
   "outputs": [
    {
     "data": {
      "image/png": "[encoded data removed]",
      "text/plain": [
       "<Figure size 864x648 with 1 Axes>"
      ]
     },
     "metadata": {
      "needs_background": "light"
     },
     "output_type": "display_data"
    }
   ],
   "source": [
    "#Bar chart\n",
    "fig = plt.figure(figsize = (12, 9))\n",
    "plt.bar(x, c, color ='blue',\n",
    "        width = 6.2)\n",
    "plt.ylabel(\"Country\")\n",
    "plt.xlabel(\"Wine Servings\")\n",
    "plt.title(\"Wine Servings across countries\")\n",
    "plt.show()"
   ]
  },
  {
   "cell_type": "code",
   "execution_count": null,
   "id": "9590508a",
   "metadata": {},
   "outputs": [],
   "source": []
  }
 ],
 "metadata": {
  "kernelspec": {
   "display_name": "Python 3",
   "language": "python",
   "name": "python3"
  },
  "language_info": {
   "codemirror_mode": {
    "name": "ipython",
    "version": 3
   },
   "file_extension": ".py",
   "mimetype": "text/x-python",
   "name": "python",
   "nbconvert_exporter": "python",
   "pygments_lexer": "ipython3",
   "version": "3.8.8"
  }
 },
 "nbformat": 4,
 "nbformat_minor": 5
}
