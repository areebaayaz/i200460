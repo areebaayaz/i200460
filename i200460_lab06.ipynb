{
 "cells": [
  {
   "cell_type": "markdown",
   "id": "ddc4773e",
   "metadata": {},
   "source": [
    "# Task01"
   ]
  },
  {
   "cell_type": "code",
   "execution_count": 70,
   "id": "92f092e7",
   "metadata": {},
   "outputs": [],
   "source": [
    "import numpy as np\n",
    "import pandas as pd "
   ]
  },
  {
   "cell_type": "code",
   "execution_count": 71,
   "id": "e2c06ac8",
   "metadata": {},
   "outputs": [
    {
     "data": {
      "text/html": [
       "<div>\n",
       "<style scoped>\n",
       "    .dataframe tbody tr th:only-of-type {\n",
       "        vertical-align: middle;\n",
       "    }\n",
       "\n",
       "    .dataframe tbody tr th {\n",
       "        vertical-align: top;\n",
       "    }\n",
       "\n",
       "    .dataframe thead th {\n",
       "        text-align: right;\n",
       "    }\n",
       "</style>\n",
       "<table border=\"1\" class=\"dataframe\">\n",
       "  <thead>\n",
       "    <tr style=\"text-align: right;\">\n",
       "      <th></th>\n",
       "      <th>day</th>\n",
       "      <th>outlook</th>\n",
       "      <th>temp</th>\n",
       "      <th>humidity</th>\n",
       "      <th>wind</th>\n",
       "      <th>play</th>\n",
       "    </tr>\n",
       "  </thead>\n",
       "  <tbody>\n",
       "    <tr>\n",
       "      <th>0</th>\n",
       "      <td>D1</td>\n",
       "      <td>Sunny</td>\n",
       "      <td>Hot</td>\n",
       "      <td>High</td>\n",
       "      <td>Weak</td>\n",
       "      <td>No</td>\n",
       "    </tr>\n",
       "    <tr>\n",
       "      <th>1</th>\n",
       "      <td>D2</td>\n",
       "      <td>Sunny</td>\n",
       "      <td>Hot</td>\n",
       "      <td>High</td>\n",
       "      <td>Strong</td>\n",
       "      <td>No</td>\n",
       "    </tr>\n",
       "    <tr>\n",
       "      <th>2</th>\n",
       "      <td>D3</td>\n",
       "      <td>Overcast</td>\n",
       "      <td>Hot</td>\n",
       "      <td>High</td>\n",
       "      <td>Weak</td>\n",
       "      <td>Yes</td>\n",
       "    </tr>\n",
       "    <tr>\n",
       "      <th>3</th>\n",
       "      <td>D4</td>\n",
       "      <td>Rain</td>\n",
       "      <td>Mild</td>\n",
       "      <td>High</td>\n",
       "      <td>Weak</td>\n",
       "      <td>Yes</td>\n",
       "    </tr>\n",
       "    <tr>\n",
       "      <th>4</th>\n",
       "      <td>D5</td>\n",
       "      <td>Rain</td>\n",
       "      <td>Cool</td>\n",
       "      <td>Normal</td>\n",
       "      <td>Weak</td>\n",
       "      <td>Yes</td>\n",
       "    </tr>\n",
       "  </tbody>\n",
       "</table>\n",
       "</div>"
      ],
      "text/plain": [
       "  day   outlook  temp humidity    wind play\n",
       "0  D1     Sunny   Hot     High    Weak   No\n",
       "1  D2     Sunny   Hot     High  Strong   No\n",
       "2  D3  Overcast   Hot     High    Weak  Yes\n",
       "3  D4      Rain  Mild     High    Weak  Yes\n",
       "4  D5      Rain  Cool   Normal    Weak  Yes"
      ]
     },
     "execution_count": 71,
     "metadata": {},
     "output_type": "execute_result"
    }
   ],
   "source": [
    "df = pd.read_csv('play_tennis.csv')\n",
    "df.head()"
   ]
  },
  {
   "cell_type": "code",
   "execution_count": 72,
   "id": "5a1ebc1d",
   "metadata": {},
   "outputs": [
    {
     "data": {
      "text/html": [
       "<div>\n",
       "<style scoped>\n",
       "    .dataframe tbody tr th:only-of-type {\n",
       "        vertical-align: middle;\n",
       "    }\n",
       "\n",
       "    .dataframe tbody tr th {\n",
       "        vertical-align: top;\n",
       "    }\n",
       "\n",
       "    .dataframe thead th {\n",
       "        text-align: right;\n",
       "    }\n",
       "</style>\n",
       "<table border=\"1\" class=\"dataframe\">\n",
       "  <thead>\n",
       "    <tr style=\"text-align: right;\">\n",
       "      <th></th>\n",
       "      <th>outlook</th>\n",
       "      <th>temp</th>\n",
       "      <th>humidity</th>\n",
       "      <th>wind</th>\n",
       "      <th>play</th>\n",
       "    </tr>\n",
       "  </thead>\n",
       "  <tbody>\n",
       "    <tr>\n",
       "      <th>0</th>\n",
       "      <td>Sunny</td>\n",
       "      <td>Hot</td>\n",
       "      <td>High</td>\n",
       "      <td>Weak</td>\n",
       "      <td>No</td>\n",
       "    </tr>\n",
       "    <tr>\n",
       "      <th>1</th>\n",
       "      <td>Sunny</td>\n",
       "      <td>Hot</td>\n",
       "      <td>High</td>\n",
       "      <td>Strong</td>\n",
       "      <td>No</td>\n",
       "    </tr>\n",
       "    <tr>\n",
       "      <th>2</th>\n",
       "      <td>Overcast</td>\n",
       "      <td>Hot</td>\n",
       "      <td>High</td>\n",
       "      <td>Weak</td>\n",
       "      <td>Yes</td>\n",
       "    </tr>\n",
       "    <tr>\n",
       "      <th>3</th>\n",
       "      <td>Rain</td>\n",
       "      <td>Mild</td>\n",
       "      <td>High</td>\n",
       "      <td>Weak</td>\n",
       "      <td>Yes</td>\n",
       "    </tr>\n",
       "    <tr>\n",
       "      <th>4</th>\n",
       "      <td>Rain</td>\n",
       "      <td>Cool</td>\n",
       "      <td>Normal</td>\n",
       "      <td>Weak</td>\n",
       "      <td>Yes</td>\n",
       "    </tr>\n",
       "  </tbody>\n",
       "</table>\n",
       "</div>"
      ],
      "text/plain": [
       "    outlook  temp humidity    wind play\n",
       "0     Sunny   Hot     High    Weak   No\n",
       "1     Sunny   Hot     High  Strong   No\n",
       "2  Overcast   Hot     High    Weak  Yes\n",
       "3      Rain  Mild     High    Weak  Yes\n",
       "4      Rain  Cool   Normal    Weak  Yes"
      ]
     },
     "execution_count": 72,
     "metadata": {},
     "output_type": "execute_result"
    }
   ],
   "source": [
    "df.drop(['day'], axis=1, inplace = True)\n",
    "df.head()"
   ]
  },
  {
   "cell_type": "code",
   "execution_count": 56,
   "id": "626f0fbd",
   "metadata": {},
   "outputs": [
    {
     "data": {
      "text/plain": [
       "outlook     3\n",
       "temp        3\n",
       "humidity    2\n",
       "wind        2\n",
       "play        2\n",
       "dtype: int64"
      ]
     },
     "execution_count": 56,
     "metadata": {},
     "output_type": "execute_result"
    }
   ],
   "source": [
    "df.nunique()"
   ]
  },
  {
   "cell_type": "code",
   "execution_count": 20,
   "id": "f0d4d25f",
   "metadata": {},
   "outputs": [
    {
     "name": "stdout",
     "output_type": "stream",
     "text": [
      "Enter Outlook: Rain\n",
      "Enter temperature: Weak\n",
      "Enter Wind: Cool\n",
      "Enter humidity: Normal\n",
      "-----------------\n",
      "The probability of playing Tennis:\n",
      " 0.0\n",
      "---------------------------------\n",
      "The probability of not playing Tennis:\n",
      " 0.0\n",
      "---------------------------------\n",
      "Player will not play Tennis\n"
     ]
    }
   ],
   "source": [
    "def NaiveBayes(f1, f2, f3, f4): #the 4 features \n",
    "    \n",
    "    #counting number of yes and no in play column\n",
    "    cyes  = 0\n",
    "    for i in range (0, len(df['play'])): \n",
    "        if df['play'][i] == 'Yes':\n",
    "            cyes += 1\n",
    "    \n",
    "    cno  = 0\n",
    "    for i in range (0, len(df['play'])): \n",
    "        if df['play'][i] == 'No':\n",
    "            cno += 1    \n",
    "    \n",
    "    #counting number of features where play is no\n",
    "    \n",
    "    cNo1 = cNo2 = cNo3 = cNo4 = 0\n",
    "    \n",
    "    for i in range (0, len(df['outlook'])):\n",
    "        if ((df['outlook'][i] == f1) and (df['play'][i] == 'No')):\n",
    "            cNo1 += 1\n",
    "\n",
    "    for i in range (0, len(df['temp'])):\n",
    "        if ((df['temp'][i] == f2) and (df['play'][i] == 'No')):\n",
    "            cNo2 += 1\n",
    "            \n",
    "    for i in range (0, len(df['humidity'])):\n",
    "        if ((df['humidity'][i] == f3) and (df['play'][i] == 'No')):\n",
    "            cNo3 += 1\n",
    "    \n",
    "    for i in range (0, len(df['wind'])):\n",
    "        if ((df['wind'][i] == f4) and (df['play'][i] == 'No')):\n",
    "            cNo4 += 1\n",
    "    \n",
    "    #counting number of features where play is yes\n",
    "    \n",
    "    cyes1 = cyes2 = cyes3 = cyes4 = 0\n",
    "    \n",
    "    for i in range (0, len(df['outlook'])):\n",
    "        if ((df['outlook'][i] == f1) and (df['play'][i] == 'Yes')):\n",
    "            cyes1 += 1\n",
    "    \n",
    "    for i in range (0, len(df['temp'])):\n",
    "        if ((df['temp'][i] == f2) and (df['play'][i] == 'Yes')):\n",
    "            cyes2 += 1\n",
    "    \n",
    "    for i in range (0, len(df['humidity'])):\n",
    "        if ((df['humidity'][i] == f3) and (df['play'][i] == 'Yes')):\n",
    "            cyes3 += 1\n",
    "    \n",
    "    for i in range (0, len(df['wind'])):\n",
    "        if ((df['wind'][i] == f4) and (df['play'][i] == 'Yes')):\n",
    "            cyes4+=1\n",
    "            \n",
    "    size = len(df[\"wind\"])\n",
    "    \n",
    "    p1 = ((cyes1/cyes) * (cyes2/cyes) * (cyes3/cyes) * (cyes4/cyes) * (cyes/size))\n",
    "    print(\"The probability of playing Tennis:\\n\", p1)\n",
    "    \n",
    "    print(\"---------------------------------\")\n",
    "   \n",
    "    p2 = ((cNo1/cno) * (cNo2/cno) * (cNo3/cno) * (cNo4/cno) * (cno/size))\n",
    "    print(\"The probability of not playing Tennis:\\n\", p2)\n",
    "    \n",
    "    print(\"---------------------------------\")\n",
    "    \n",
    "    if p1 > p2:\n",
    "        print(\"Player will play Tennis\")\n",
    "    else:\n",
    "        print(\"Player will not play Tennis\")\n",
    "        \n",
    "#outlook\ttemp\thumidity\twind\tplay\n",
    "\n",
    "o = input(\"Enter Outlook: \")   \n",
    "t = input(\"Enter temperature: \")\n",
    "w = input(\"Enter Wind: \")\n",
    "h = input(\"Enter humidity: \")  \n",
    "print(\"-----------------\")\n",
    "NaiveBayes(o, t, h, w)\n",
    "    \n",
    "    "
   ]
  },
  {
   "cell_type": "markdown",
   "id": "115abbd1",
   "metadata": {},
   "source": [
    "# Task02"
   ]
  },
  {
   "cell_type": "code",
   "execution_count": 73,
   "id": "9acfb7a3",
   "metadata": {},
   "outputs": [
    {
     "data": {
      "text/plain": [
       "'I love Mangoes Mangoes are a lot tastier than other fruits I like mangoes because they are good Apples are good too but I prefer mangoes People say mango is the king of fruit so that is why mangoes are good Mangoes are good because they are juicy'"
      ]
     },
     "execution_count": 73,
     "metadata": {},
     "output_type": "execute_result"
    }
   ],
   "source": [
    "positive = \"I love Mangoes Mangoes are a lot tastier than other fruits I like mangoes because they are good Apples are good too but I prefer mangoes People say mango is the king of fruit so that is why mangoes are good Mangoes are good because they are juicy\"\n",
    "positive"
   ]
  },
  {
   "cell_type": "code",
   "execution_count": 74,
   "id": "26e36718",
   "metadata": {},
   "outputs": [
    {
     "data": {
      "text/plain": [
       "'Eating too many Mangoes can have a negative impact on your health Mangoes are good but not too good I like apples more than mangoes I don’t like mangoes because they are expensive Mangoes are not good I don’t like mangoes'"
      ]
     },
     "execution_count": 74,
     "metadata": {},
     "output_type": "execute_result"
    }
   ],
   "source": [
    "negative = \"Eating too many Mangoes can have a negative impact on your health Mangoes are good but not too good I like apples more than mangoes I don’t like mangoes because they are expensive Mangoes are not good I don’t like mangoes\"\n",
    "negative"
   ]
  },
  {
   "cell_type": "code",
   "execution_count": 75,
   "id": "b46743fa",
   "metadata": {},
   "outputs": [],
   "source": [
    "def Bayes(s):\n",
    "    \n",
    "    s = s.lower()\n",
    "    sent = s.split() #splitting the sentence into words\n",
    "    \n",
    "    p = positive.lower() #convertinng all letters in lowercase\n",
    "    sp = positive.split() #splitting the positive sentence into words\n",
    "    #finding it's length\n",
    "    lp = len(sp)\n",
    "    \n",
    "    n = negative.lower()\n",
    "    pn = negative.split()\n",
    "    ln = len(pn)\n",
    "    #To count matching words\n",
    "    c1 = c2 = c3 = 0\n",
    "    \n",
    "    for i in range (0, lp):\n",
    "        if (sp[i] == sent[0]):\n",
    "            c1+=1 \n",
    "        if (sp[i] == sent[1]):\n",
    "            c2+=1 \n",
    "        if (sp[i] == sent[2]):\n",
    "            c3+=1\n",
    "     \n",
    "    \n",
    "    total = lp + ln\n",
    "    \n",
    "    #Finding probability that the sentence is positive\n",
    "    p1 = ((c1/lp) * (c2/lp) * (c3/lp) * (lp / total))\n",
    "    \n",
    "    n1 = n2 = n3 = 0\n",
    "    \n",
    "    for i in range (0, ln):\n",
    "        if (pn[i] == sent[0]):\n",
    "            n1+=1 \n",
    "        if (pn[i] == sent[1]):\n",
    "            n2+=1 \n",
    "        if (pn[i] == sent[2]):\n",
    "            n3+=1\n",
    "     \n",
    "    #Finding probability that the sentence is neagtive\n",
    "    p2 = ((n1/ln) * (n2/ln) * (n3/ln) * (ln / total))\n",
    "    \n",
    "    if p1 > p2:\n",
    "        print(\"Positive\")\n",
    "    else:\n",
    "        print(\"Negative\")"
   ]
  },
  {
   "cell_type": "code",
   "execution_count": 76,
   "id": "2ccacd09",
   "metadata": {},
   "outputs": [
    {
     "name": "stdout",
     "output_type": "stream",
     "text": [
      "Positive\n",
      "--------------------------\n",
      "Negative\n"
     ]
    }
   ],
   "source": [
    "Bayes(\"MANGOES ARE GOOD\")\n",
    "print(\"--------------------------\")\n",
    "Bayes(\"I like apples More\")"
   ]
  },
  {
   "cell_type": "code",
   "execution_count": 65,
   "id": "42d4649d",
   "metadata": {},
   "outputs": [
    {
     "name": "stdout",
     "output_type": "stream",
     "text": [
      "Negative\n"
     ]
    }
   ],
   "source": [
    "Bayes(\"negative impact on\")"
   ]
  },
  {
   "cell_type": "code",
   "execution_count": null,
   "id": "8d7893d3",
   "metadata": {},
   "outputs": [],
   "source": []
  },
  {
   "cell_type": "code",
   "execution_count": 78,
   "id": "6beff8cc",
   "metadata": {},
   "outputs": [],
   "source": [
    "def Bayes2(s):\n",
    "    flagp = 0\n",
    "    flagn = 0\n",
    "    s = s.lower()\n",
    "    sent = s.split() #splitting the sentence into words\n",
    "    \n",
    "    p = positive.lower() #convertinng all letters in lowercase\n",
    "    sp = positive.split() #splitting the positive sentence into words\n",
    "    #finding it's length\n",
    "    lp = len(sp)\n",
    "    \n",
    "    n = negative.lower()\n",
    "    pn = negative.split()\n",
    "    ln = len(pn)\n",
    "    #To count matching words\n",
    "    c1 = c2 = c3 = 0\n",
    "    \n",
    "    for i in range (0, lp):\n",
    "        if (sp[i] == sent[0]):\n",
    "            c1+=1 \n",
    "            flagp = True\n",
    "        if (flagp == True):\n",
    "            if (sp[i] == sent[1]):\n",
    "                c2+=1 \n",
    "                flagn = True\n",
    "            if (flagn ++ True):\n",
    "                if (sp[i] == sent[2]):\n",
    "                    c3+=1\n",
    "         \n",
    "    \n",
    "    total = lp + ln\n",
    "    \n",
    "    #Finding probability that the sentence is positive\n",
    "    p1 = ((c1/lp) * (c2/lp) * (c3/lp) * (lp / total))\n",
    "    \n",
    "    n1 = n2 = n3 = 0\n",
    "    flagp = False\n",
    "    flagn = False\n",
    "    for i in range (0, ln):\n",
    "        if (pn[i] == sent[0]):\n",
    "            n1+=1 \n",
    "            flagp = True\n",
    "            if (flagp == True):\n",
    "                if (pn[i] == sent[1]):\n",
    "                    n2+=1 \n",
    "                    flagn = True\n",
    "                    if(flagn == True):\n",
    "                        if (pn[i] == sent[2]):\n",
    "                            n3+=1\n",
    "     \n",
    "    #Finding probability that the sentence is neagtive\n",
    "    p2 = ((n1/ln) * (n2/ln) * (n3/ln) * (ln / total))\n",
    "    \n",
    "    if p1 > p2:\n",
    "        print(\"Positive\")\n",
    "    else:\n",
    "        print(\"Negative\")"
   ]
  },
  {
   "cell_type": "code",
   "execution_count": 79,
   "id": "e8c84c64",
   "metadata": {},
   "outputs": [
    {
     "name": "stdout",
     "output_type": "stream",
     "text": [
      "Positive\n",
      "--------------------------\n",
      "Negative\n"
     ]
    }
   ],
   "source": [
    "Bayes2(\"MANGOES ARE GOOD\")\n",
    "print(\"--------------------------\")\n",
    "Bayes2(\"I like apples More\")"
   ]
  },
  {
   "cell_type": "code",
   "execution_count": 80,
   "id": "e2efd15c",
   "metadata": {},
   "outputs": [
    {
     "name": "stdout",
     "output_type": "stream",
     "text": [
      "Negative\n"
     ]
    }
   ],
   "source": [
    "Bayes2(\"mangoes are not good\")"
   ]
  },
  {
   "cell_type": "code",
   "execution_count": null,
   "id": "5743fc28",
   "metadata": {},
   "outputs": [],
   "source": []
  }
 ],
 "metadata": {
  "kernelspec": {
   "display_name": "Python 3",
   "language": "python",
   "name": "python3"
  },
  "language_info": {
   "codemirror_mode": {
    "name": "ipython",
    "version": 3
   },
   "file_extension": ".py",
   "mimetype": "text/x-python",
   "name": "python",
   "nbconvert_exporter": "python",
   "pygments_lexer": "ipython3",
   "version": "3.8.8"
  }
 },
 "nbformat": 4,
 "nbformat_minor": 5
}
